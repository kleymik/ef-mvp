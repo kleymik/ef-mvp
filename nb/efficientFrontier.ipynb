{
 "cells": [
  {
   "cell_type": "markdown",
   "metadata": {
    "pycharm": {
     "name": "#%% md\n"
    }
   },
   "source": [
    "## Efficient Frontier  / Minimum Variance Portfolio Stuff\n",
    "\n",
    "1 [Formulae](#1)  \n",
    " 1.1 [Hyperbolae](#1.1)  \n",
    " 1.2 [Solve for sigma](#1.2)    \n",
    " 1.3 [Solve for mu](#1.3)  \n",
    " 1.4 [Efficient frontier minimum](#1.4)  \n",
    " 1.5 [sigma & mu at minimum](#1.5)\n",
    "\n",
    "2 [Solve for sigma & mu using sympy](#2)\n",
    "\n",
    "3 [Numerical example](#3)\n",
    "\n",
    "4 [Plot symbolic equation](#4)\n",
    "\n",
    "5 [Explicit formulae - for 3 assets](#5)\n",
    "\n",
    "\n",
    "\n",
    "[//]: # (table styling via markdown)\n",
    "<style> table.dataframe { font-size:70%; }   body { font-size:70%} /style>"
   ]
  },
  {
   "cell_type": "markdown",
   "metadata": {},
   "source": [
    "do imports, keep variables in a dict as a workspace"
   ]
  },
  {
   "cell_type": "code",
   "execution_count": 1,
   "metadata": {
    "lines_to_next_cell": 2
   },
   "outputs": [
    {
     "name": "stdout",
     "output_type": "stream",
     "text": [
      "imports done\n"
     ]
    },
    {
     "data": {
      "text/plain": [
       "{'dateStart': '2020-05-04T1605'}"
      ]
     },
     "execution_count": 1,
     "metadata": {},
     "output_type": "execute_result"
    }
   ],
   "source": [
    "import datetime\n",
    "import sympy as sym\n",
    "from sympy.matrices import matrix_multiply_elementwise as mme\n",
    "from sympy.plotting import plot as symplot\n",
    "import IPython.display as disp\n",
    "import numpy as np\n",
    "from numpy import linalg as LA\n",
    "print(\"imports done\")\n",
    "\n",
    "ws = {} # keep variables in a dict as a workspace\n",
    "ws['dateStart'] = datetime.datetime.now().isoformat()[:16].replace(':','')\n",
    "ws"
   ]
  },
  {
   "cell_type": "markdown",
   "metadata": {},
   "source": [
    "### 1 Efficient Frontier Formulae Manipulations <a class=\"anchor\" id=\"1\"></a>\n",
    "\n",
    "This note shows some manipulations for the hyperbola curve of the efficient frontier.\n",
    "\n",
    "1. Re-arrange efficient frontier equation for risk($\\sigma$) and for return($\\mu$)\n",
    "\n",
    "2. Calculate intermediate scalars A,B,C,D from matrix of covariance and vector of returns, numerically and symbolically\n",
    "\n",
    "3. Plot hyperbola of risk/return\n",
    "\n",
    "4. Derive mimimum risk = hyperbola and apex\n",
    "\n",
    "Reference (using their notation): Beste, Leventhal, Williams, & Dr. Qin Lu \"Markowitz Review Paper\" http://ramanujan.math.trinity.edu/tumath/research/studpapers/s21.pdf \n",
    "\n",
    "\n",
    "#### 1.1 hyperbola equation <a class=\"anchor\" id=\"1.1\"></a>\n",
    "\n",
    "efficient frontier hyperbola:\n",
    "\n",
    "$$ \\frac{\\sigma^2}{1/C} - \\frac{(\\mu - A/C)^2}{D/C^2} = 1 $$\n",
    "\n",
    "\n",
    "where:\n",
    "\n",
    "$$ A = \\mathbf{1}^T V^{-1} e = e^T V^{-1}\\mathbf{1} $$\n",
    "\n",
    "$$ B = e^T V^{-1} e $$\n",
    "\n",
    "$$ C = \\mathbf{1}^T V^{-1} \\mathbf{1} $$\n",
    "\n",
    "$$ D = BC - A^2 $$\n",
    "\n",
    "$e$ = expected returns vector\n",
    "\n",
    "$V$ = covariance matrix\n",
    "\n",
    "$$\\mathbf{1} = Identity Matrix $$\n",
    "\n",
    "$e^{T}$ = $e$ transpose\n",
    "\n",
    "#### 1.2: solve for sigma: $\\sigma$ <a class=\"anchor\" id=\"1.2\"></a>\n",
    "\n",
    "$$ \\frac{\\sigma^2}{(1/C)} - \\frac{(\\mu - A/C)^2}{(D/C^2)} = 1 $$\n",
    "\n",
    "$$ \\frac{\\sigma^2}{(1/C)} = 1 + \\frac{(\\mu - A/C)^2}{(D/C^2)} $$\n",
    "\n",
    "divide by $C$:\n",
    "\n",
    "$$ \\frac{\\sigma^2}{(C/C)} = \\frac{1}{C} + \\frac{(\\mu - A/C)^2}{(DC/C^2)} $$\n",
    "\n",
    "$$ \\sigma^2 = \\frac{1}{C} + \\frac{(\\mu - A/C)^2}{(D/C)} $$\n",
    "\n",
    "$$ \\sigma^2 = \\frac{1}{C} + \\frac{(\\mu - A/C)^2C}{D} $$\n",
    "\n",
    "$$ \\sigma^2 = \\frac{1}{C} + \\frac{\\mu^2C - 2\\mu A + A^2/C}{D} $$\n",
    "\n",
    "$$ \\sigma^2 = \\frac{D + \\mu^2C^2 - 2\\mu AC + A^2}{CD} $$\n",
    "\n",
    "$$ \\sigma^2 = \\frac{D + (\\mu C -A)^2}{CD} $$\n",
    "\n",
    "$$ \\sigma = \\sqrt{\\frac{D + (\\mu C -A)^2}{CD}} $$\n",
    "\n",
    "#### 1.3: solve for mu: $\\mu$ <a class=\"anchor\" id=\"1.3\"></a>\n",
    "\n",
    "$$ \\frac{\\sigma^2}{(1/C)} - \\frac{(\\mu - A/C)^2}{(D/C^2)} = 1 $$\n",
    "\n",
    "$$ \\frac{\\sigma^2}{(1/C)} -1 = \\frac{(\\mu - A/C)^2}{(D/C^2)} $$\n",
    "\n",
    "multiply through by $ D/C^2 $\n",
    "\n",
    "$$ \\frac{\\sigma^2 D}{(C^2/C)} - \\frac{D}{C^2}  =  (\\mu - A/C)^2 $$\n",
    "\n",
    "$$ \\sqrt{\\frac{\\sigma^2 D}{C} - \\frac{D}{C^2}} =  (\\mu - A/C) $$\n",
    "\n",
    "$$ \\sqrt{\\frac{D(\\sigma^2 C - 1)}{C^2}} =  (\\mu - A/C) $$\n",
    "\n",
    "$$ \\mu = \\frac{\\sqrt{D(\\sigma^2 C - 1)}}{C} + A/C $$\n",
    "\n",
    "$$ \\mu = \\frac{\\sqrt{D(\\sigma^2 C - 1)}+A}{C} $$\n",
    "\n",
    "#### 1.4: efficient frontier minimum $\\sigma$ <a class=\"anchor\" id=\"1.4\"></a>\n",
    "\n",
    "efficient frontier hyperbola coordinates of minimum:\n",
    "\n",
    "$$ (\\sigma, \\mu) = ( \\sqrt{1/C},  ( A/C )) $$\n",
    "\n",
    "#### 1.5: (sigma, mu) coordinates at minimum $\\sigma$ <a class=\"anchor\" id=\"1.5\"></a>\n",
    "$$ \\sigma^2 = \\frac{D + (\\mu C -A)^2}{CD} $$\n",
    "\n",
    "let $\\mu = A/C$\n",
    "\n",
    "$$ \\sigma^2 = \\frac{D + ((A/C)C - A)^2}{CD} $$\n",
    "\n",
    "$$ \\sigma^2 = \\frac{D + (A - A)^2}{CD} $$\n",
    "\n",
    "$$ \\sigma^2 = \\frac{1}{C} $$\n",
    "\n"
   ]
  },
  {
   "cell_type": "markdown",
   "metadata": {},
   "source": [
    "### 2: manipulate equation using sympy - solve for $\\sigma$ <a class=\"anchor\" id=\"2\"></a>\n",
    "\n",
    "take positive solution only"
   ]
  },
  {
   "cell_type": "code",
   "execution_count": 2,
   "metadata": {
    "collapsed": false,
    "jupyter": {
     "outputs_hidden": false
    },
    "pycharm": {
     "name": "#%%\n"
    }
   },
   "outputs": [
    {
     "data": {
      "text/latex": [
       "$\\displaystyle \\sqrt{\\frac{A^{2} - 2 A C \\mu + C^{2} \\mu^{2} + D}{C D}}$"
      ],
      "text/plain": [
       "sqrt((A**2 - 2*A*C*mu + C**2*mu**2 + D)/(C*D))"
      ]
     },
     "execution_count": 2,
     "metadata": {},
     "output_type": "execute_result"
    }
   ],
   "source": [
    "mu, sigma, A, B, C, D = sym.symbols('mu sigma A B C D')\n",
    "ws['sigmaEqn'] = sym.solve(sym.Eq( (sigma**2 / (1/C)) - ((mu - A/C)**2 / (D / C**2)), 1) , sigma)[1] # [1]=> +ve soln\n",
    "ws['sigmaEqn']"
   ]
  },
  {
   "cell_type": "markdown",
   "metadata": {
    "pycharm": {
     "is_executing": false,
     "name": "#%% md\n"
    }
   },
   "source": [
    "simplify:"
   ]
  },
  {
   "cell_type": "code",
   "execution_count": 3,
   "metadata": {
    "collapsed": false,
    "jupyter": {
     "outputs_hidden": false
    },
    "pycharm": {
     "name": "#%%\n"
    }
   },
   "outputs": [
    {
     "data": {
      "text/latex": [
       "$\\displaystyle \\sigma = \\sqrt{\\frac{A^{2}}{C D} - \\frac{2 A \\mu}{D} + \\frac{C \\mu^{2}}{D} + \\frac{1}{C}}$"
      ],
      "text/plain": [
       "Eq(sigma, sqrt(A**2/(C*D) - 2*A*mu/D + C*mu**2/D + 1/C))"
      ]
     },
     "execution_count": 3,
     "metadata": {},
     "output_type": "execute_result"
    }
   ],
   "source": [
    "sym.factor(sym.Eq(sigma, ws['sigmaEqn']))"
   ]
  },
  {
   "cell_type": "markdown",
   "metadata": {
    "pycharm": {
     "name": "#%% md\n"
    }
   },
   "source": [
    "check: [original form] minus [simplified (\"factored\") form]:"
   ]
  },
  {
   "cell_type": "code",
   "execution_count": 4,
   "metadata": {
    "collapsed": false,
    "jupyter": {
     "outputs_hidden": false
    },
    "pycharm": {
     "name": "#%% \n"
    }
   },
   "outputs": [
    {
     "data": {
      "text/latex": [
       "$\\displaystyle 0$"
      ],
      "text/plain": [
       "0"
      ]
     },
     "execution_count": 4,
     "metadata": {},
     "output_type": "execute_result"
    }
   ],
   "source": [
    "ws['sigmaEqn'] - ws['sigmaEqn']"
   ]
  },
  {
   "cell_type": "markdown",
   "metadata": {
    "pycharm": {
     "name": "#%% md\n"
    }
   },
   "source": [
    "gives:"
   ]
  },
  {
   "cell_type": "code",
   "execution_count": 5,
   "metadata": {
    "collapsed": false,
    "jupyter": {
     "outputs_hidden": false
    },
    "pycharm": {
     "name": "#%% \n"
    }
   },
   "outputs": [
    {
     "data": {
      "text/latex": [
       "$\\displaystyle 0$"
      ],
      "text/plain": [
       "0"
      ]
     },
     "execution_count": 5,
     "metadata": {},
     "output_type": "execute_result"
    }
   ],
   "source": [
    "sym.factor(ws['sigmaEqn'] - sym.factor(ws['sigmaEqn']))"
   ]
  },
  {
   "cell_type": "markdown",
   "metadata": {},
   "source": [
    "### 3 numerical example <a class=\"anchor\" id=\"3\"></a>\n",
    "Calculate A, B, C, & D, hence $\\sigma$ and $\\mu$, for a small example of 3 assets\n",
    "\n",
    "sample annualized expected returns, in percent:"
   ]
  },
  {
   "cell_type": "code",
   "execution_count": 6,
   "metadata": {},
   "outputs": [
    {
     "data": {
      "text/latex": [
       "$\\displaystyle \\left[\\begin{matrix}5.1\\\\7.0\\\\0.9\\end{matrix}\\right]$"
      ],
      "text/plain": [
       "Matrix([\n",
       "[5.1],\n",
       "[7.0],\n",
       "[0.9]])"
      ]
     },
     "execution_count": 6,
     "metadata": {},
     "output_type": "execute_result"
    }
   ],
   "source": [
    "ws['prec'] = 4 # number of digits of precision to display numerical values\n",
    "\n",
    "ws['mu3'] = sym.Matrix(np.array([5.1, 7.0, 0.9]).T) # mu3 = sym.Matrix(mu3)\n",
    "ws['mu3']"
   ]
  },
  {
   "cell_type": "markdown",
   "metadata": {
    "pycharm": {
     "name": "#%% md\n"
    }
   },
   "source": [
    "*cor*: sample correlations:"
   ]
  },
  {
   "cell_type": "code",
   "execution_count": 7,
   "metadata": {},
   "outputs": [
    {
     "data": {
      "text/latex": [
       "$\\displaystyle \\left[\\begin{matrix}1.0 & 0.5 & 0.4\\\\0.5 & 1.0 & -0.1\\\\0.4 & -0.1 & 1.0\\end{matrix}\\right]$"
      ],
      "text/plain": [
       "Matrix([\n",
       "[1.0,  0.5,  0.4],\n",
       "[0.5,  1.0, -0.1],\n",
       "[0.4, -0.1,  1.0]])"
      ]
     },
     "execution_count": 7,
     "metadata": {},
     "output_type": "execute_result"
    }
   ],
   "source": [
    "ws['cor3'] = sym.Matrix([[  1.0,  0.5,  0.4],\n",
    "                         [  0.5,  1.0, -0.1],\n",
    "                         [  0.4, -0.1, 1.0]])\n",
    "sym.N(ws['cor3'], ws['prec'])"
   ]
  },
  {
   "cell_type": "markdown",
   "metadata": {
    "pycharm": {
     "name": "#%% md\n"
    }
   },
   "source": [
    "*vol*: sample vols (stdev):"
   ]
  },
  {
   "cell_type": "code",
   "execution_count": 8,
   "metadata": {},
   "outputs": [
    {
     "data": {
      "text/latex": [
       "$\\displaystyle \\left[\\begin{matrix}3.5\\\\4.2\\\\1.1\\end{matrix}\\right]$"
      ],
      "text/plain": [
       "Matrix([\n",
       "[3.5],\n",
       "[4.2],\n",
       "[1.1]])"
      ]
     },
     "execution_count": 8,
     "metadata": {},
     "output_type": "execute_result"
    }
   ],
   "source": [
    "ws['vol3'] = sym.Matrix([ 3.5,  4.2,  1.1])\n",
    "sym.N(ws['vol3'], ws['prec'])"
   ]
  },
  {
   "cell_type": "markdown",
   "metadata": {
    "pycharm": {
     "name": "#%% md\n"
    }
   },
   "source": [
    "*cov*: compose to make covariance matrix:"
   ]
  },
  {
   "cell_type": "code",
   "execution_count": 9,
   "metadata": {},
   "outputs": [
    {
     "data": {
      "text/latex": [
       "$\\displaystyle \\left[\\begin{matrix}12.25 & 7.35 & 1.54\\\\7.35 & 17.64 & -0.462\\\\1.54 & -0.462 & 1.21\\end{matrix}\\right]$"
      ],
      "text/plain": [
       "Matrix([\n",
       "[12.25,   7.35,   1.54],\n",
       "[ 7.35,  17.64, -0.462],\n",
       "[ 1.54, -0.462,   1.21]])"
      ]
     },
     "execution_count": 9,
     "metadata": {},
     "output_type": "execute_result"
    }
   ],
   "source": [
    "ws['cov3'] = mme(ws['vol3'] * ws['vol3'].T, ws['cor3']) # mme = element-wise multiply\n",
    "sym.N(ws['cov3'], ws['prec'])"
   ]
  },
  {
   "cell_type": "markdown",
   "metadata": {
    "pycharm": {
     "name": "#%% md\n"
    }
   },
   "source": [
    "check that $${variance} = vol^2$$, $$diag(cov) = vol^2$$"
   ]
  },
  {
   "cell_type": "code",
   "execution_count": 10,
   "metadata": {
    "collapsed": false,
    "jupyter": {
     "outputs_hidden": false
    },
    "pycharm": {
     "name": "#%% \n"
    }
   },
   "outputs": [
    {
     "data": {
      "text/latex": [
       "$\\displaystyle \\left[\\begin{matrix}12.25 & 0 & 0\\\\0 & 17.64 & 0\\\\0 & 0 & 1.21\\end{matrix}\\right]$"
      ],
      "text/plain": [
       "Matrix([\n",
       "[12.25,     0,    0],\n",
       "[    0, 17.64,    0],\n",
       "[    0,     0, 1.21]])"
      ]
     },
     "execution_count": 10,
     "metadata": {},
     "output_type": "execute_result"
    }
   ],
   "source": [
    "sym.diag(*ws['vol3'])**2   # how to do sqrt of diagonal matrix in sympy?"
   ]
  },
  {
   "cell_type": "markdown",
   "metadata": {
    "pycharm": {
     "is_executing": false,
     "name": "#%% md\n"
    }
   },
   "source": [
    "check: get correlations back from covariance\n",
    "\n",
    "in index subscript form: $$ r_{ij} = \\frac{c_{ij}}{c_{ii}*c_{jj}}$$\n",
    "\n",
    "in matrix form: $$ cor = vol^{-1}  \\times cov \\times  vol^{-1} $$\n",
    "\n",
    "where $$ vol = \\sqrt{diag(cov)} $$ as a diagonal matrix"
   ]
  },
  {
   "cell_type": "markdown",
   "metadata": {
    "pycharm": {
     "name": "#%% md\n"
    }
   },
   "source": [
    "*vol*:"
   ]
  },
  {
   "cell_type": "code",
   "execution_count": 11,
   "metadata": {
    "collapsed": false,
    "jupyter": {
     "outputs_hidden": false
    },
    "pycharm": {
     "name": "#%%\n"
    }
   },
   "outputs": [
    {
     "data": {
      "text/latex": [
       "$\\displaystyle \\left[\\begin{matrix}1.0 & 0.5 & 0.4\\\\0.5 & 1.0 & -0.1\\\\0.4 & -0.1 & 1.0\\end{matrix}\\right]$"
      ],
      "text/plain": [
       "Matrix([\n",
       "[1.0,  0.5,  0.4],\n",
       "[0.5,  1.0, -0.1],\n",
       "[0.4, -0.1,  1.0]])"
      ]
     },
     "execution_count": 11,
     "metadata": {},
     "output_type": "execute_result"
    }
   ],
   "source": [
    "ws['oneOverVol'] = sym.diag(*ws['cov3'].diagonal())**(-0.5) # works!!!! using sym.sqrt doesn't evaluate fully\n",
    "ws['oneOverVol'] * ws['cov3'] * ws['oneOverVol']            # oneOverVol is diagonal matrix so it's equal to its transpose"
   ]
  },
  {
   "cell_type": "markdown",
   "metadata": {
    "pycharm": {
     "name": "#%% md\n"
    }
   },
   "source": [
    "#### 3.1 sample values for calculating sample hyperbolae scalars A,B,C,D\n",
    "\n",
    "$A,B,C,D$ calculated numerically as variables a,b,c,d:\n"
   ]
  },
  {
   "cell_type": "markdown",
   "metadata": {
    "pycharm": {
     "name": "#%% md\n"
    }
   },
   "source": [
    "vector of 3 ones:"
   ]
  },
  {
   "cell_type": "code",
   "execution_count": 12,
   "metadata": {},
   "outputs": [
    {
     "data": {
      "text/latex": [
       "$\\displaystyle \\left[\\begin{matrix}1\\\\1\\\\1\\end{matrix}\\right]$"
      ],
      "text/plain": [
       "Matrix([\n",
       "[1],\n",
       "[1],\n",
       "[1]])"
      ]
     },
     "execution_count": 12,
     "metadata": {},
     "output_type": "execute_result"
    }
   ],
   "source": [
    "ws['ones3'] = sym.Matrix([1,1,1])\n",
    "ws['ones3']"
   ]
  },
  {
   "cell_type": "markdown",
   "metadata": {
    "pycharm": {
     "name": "#%% md\n"
    }
   },
   "source": [
    "inverse of *cov*"
   ]
  },
  {
   "cell_type": "code",
   "execution_count": 13,
   "metadata": {
    "collapsed": false,
    "jupyter": {
     "outputs_hidden": false
    },
    "pycharm": {
     "name": "#%%\n"
    }
   },
   "outputs": [
    {
     "data": {
      "text/latex": [
       "$\\displaystyle \\left[\\begin{matrix}0.1497 & -0.06803 & -0.2164\\\\-0.06803 & 0.08818 & 0.1202\\\\-0.2164 & 0.1202 & 1.148\\end{matrix}\\right]$"
      ],
      "text/plain": [
       "Matrix([\n",
       "[  0.1497, -0.06803, -0.2164],\n",
       "[-0.06803,  0.08818,  0.1202],\n",
       "[ -0.2164,   0.1202,   1.148]])"
      ]
     },
     "execution_count": 13,
     "metadata": {},
     "output_type": "execute_result"
    }
   ],
   "source": [
    "sym.N(ws['cov3']**(-1), ws['prec'])"
   ]
  },
  {
   "cell_type": "markdown",
   "metadata": {
    "pycharm": {
     "name": "#%% md\n"
    }
   },
   "source": [
    "check condition number of *cov* inverse:"
   ]
  },
  {
   "cell_type": "code",
   "execution_count": 14,
   "metadata": {},
   "outputs": [
    {
     "data": {
      "text/latex": [
       "$\\displaystyle 27.53$"
      ],
      "text/plain": [
       "27.53"
      ]
     },
     "execution_count": 14,
     "metadata": {},
     "output_type": "execute_result"
    }
   ],
   "source": [
    "sym.N(LA.cond(np.array(ws['cov3']**(-1), dtype=float)), ws['prec']) "
   ]
  },
  {
   "cell_type": "markdown",
   "metadata": {},
   "source": [
    "calculate $A$ from covariance $V (=cov)$, and $e (=mu)$ : $$ A = \\mathbf{1}^T V^{-1} e = e^T V^{-1}\\mathbf{1} $$"
   ]
  },
  {
   "cell_type": "code",
   "execution_count": 15,
   "metadata": {},
   "outputs": [
    {
     "data": {
      "text/latex": [
       "$\\displaystyle \\left[\\begin{matrix}1.242\\end{matrix}\\right]$"
      ],
      "text/plain": [
       "Matrix([[1.242]])"
      ]
     },
     "execution_count": 15,
     "metadata": {},
     "output_type": "execute_result"
    }
   ],
   "source": [
    "ws['a'] = ws['ones3'].T @ ws['cov3']**(-1) @ ws['mu3'] # = (mu3.T @ cov3**(-1) @ ones3.T)\n",
    "sym.N(ws['a'], ws['prec'])"
   ]
  },
  {
   "cell_type": "markdown",
   "metadata": {},
   "source": [
    "calculate $B$ from covariance $V (=cov)$, and $e (=mu) : B = e^T V^{-1} e$"
   ]
  },
  {
   "cell_type": "code",
   "execution_count": 16,
   "metadata": {},
   "outputs": [
    {
     "data": {
      "text/latex": [
       "$\\displaystyle \\left[\\begin{matrix}3.814\\end{matrix}\\right]$"
      ],
      "text/plain": [
       "Matrix([[3.814]])"
      ]
     },
     "execution_count": 16,
     "metadata": {},
     "output_type": "execute_result"
    }
   ],
   "source": [
    "ws['b'] = ws['mu3'].T @ ws['cov3']**(-1) @ ws['mu3'] \n",
    "sym.N(ws['b'], ws['prec'])"
   ]
  },
  {
   "cell_type": "markdown",
   "metadata": {},
   "source": [
    "calculate $C$ from covariance $$V (=cov) : C = \\mathbf{1}^T V^{-1} \\mathbf{1}$$"
   ]
  },
  {
   "cell_type": "code",
   "execution_count": 17,
   "metadata": {},
   "outputs": [
    {
     "data": {
      "text/latex": [
       "$\\displaystyle \\left[\\begin{matrix}1.057\\end{matrix}\\right]$"
      ],
      "text/plain": [
       "Matrix([[1.057]])"
      ]
     },
     "execution_count": 17,
     "metadata": {},
     "output_type": "execute_result"
    }
   ],
   "source": [
    "ws['c']  = ws['ones3'].T @ ws['cov3']**(-1) @ ws['ones3']\n",
    "sym.N(ws['c'], ws['prec'])"
   ]
  },
  {
   "cell_type": "markdown",
   "metadata": {},
   "source": [
    "calculate $D$ from covariance: $D = BC - A^2$"
   ]
  },
  {
   "cell_type": "code",
   "execution_count": 18,
   "metadata": {},
   "outputs": [
    {
     "data": {
      "text/latex": [
       "$\\displaystyle \\left[\\begin{matrix}2.491\\end{matrix}\\right]$"
      ],
      "text/plain": [
       "Matrix([[2.491]])"
      ]
     },
     "execution_count": 18,
     "metadata": {},
     "output_type": "execute_result"
    }
   ],
   "source": [
    "ws['d'] = ws['b'] * ws['c'] - ws['a']**2\n",
    "sym.N(ws['d'], ws['prec'])"
   ]
  },
  {
   "cell_type": "markdown",
   "metadata": {},
   "source": [
    "#### 3.2 hence calculate $\\sigma$ or $\\mu$\n",
    "using $A, B, C, D$ calculate $\\sigma$ and $\\mu$ from each other\n",
    "\n",
    "$$ \\sigma =   \\sqrt{\\frac{D + (\\mu C - A)^2}{CD}} $$\n",
    "and\n",
    "$$ \\mu    =    \\frac{\\sqrt{D(\\sigma^2 C - 1)}+A}{C} $$\n",
    "\n",
    "e.g. for $\\mu = 0.3$, $\\sigma =$ "
   ]
  },
  {
   "cell_type": "code",
   "execution_count": 19,
   "metadata": {
    "collapsed": false,
    "jupyter": {
     "outputs_hidden": false
    },
    "pycharm": {
     "name": "#%%\n"
    }
   },
   "outputs": [
    {
     "data": {
      "text/latex": [
       "$\\displaystyle \\left[\\begin{matrix}1.226\\end{matrix}\\right]$"
      ],
      "text/plain": [
       "Matrix([[1.226]])"
      ]
     },
     "execution_count": 19,
     "metadata": {},
     "output_type": "execute_result"
    }
   ],
   "source": [
    "ws['sgma'] = ( (ws['d'] + (0.03 * ws['c'] - ws['a'])**2) / (ws['c']*ws['d']) )**(0.5)\n",
    "sym.N(ws['sgma'], ws['prec'])"
   ]
  },
  {
   "cell_type": "markdown",
   "metadata": {
    "pycharm": {
     "name": "#%% md\n"
    }
   },
   "source": [
    "e.g. for $\\sigma = 3.086$, $\\mu =???$"
   ]
  },
  {
   "cell_type": "code",
   "execution_count": 20,
   "metadata": {},
   "outputs": [
    {
     "name": "stdout",
     "output_type": "stream",
     "text": [
      "mu from sigma)\n"
     ]
    },
    {
     "data": {
      "text/latex": [
       "$\\displaystyle \\left[\\begin{matrix}4.58803767855236\\end{matrix}\\right]$"
      ],
      "text/plain": [
       "Matrix([[4.58803767855236]])"
      ]
     },
     "execution_count": 20,
     "metadata": {},
     "output_type": "execute_result"
    }
   ],
   "source": [
    "print('mu from sigma)')\n",
    "# check calculate back mu from sigma\n",
    "((ws['d'] * ((2**2 * ws['c']) + sym.Matrix([[1]])) )**(0.5) + ws['a'] ) / ws['c']\n",
    "\n",
    "#sym.N(m, sPrec)"
   ]
  },
  {
   "cell_type": "code",
   "execution_count": 21,
   "metadata": {
    "collapsed": false,
    "jupyter": {
     "outputs_hidden": false
    },
    "pycharm": {
     "name": "#%%\n"
    }
   },
   "outputs": [
    {
     "name": "stdout",
     "output_type": "stream",
     "text": [
      "sigma, mu\n"
     ]
    },
    {
     "data": {
      "text/plain": [
       "(Matrix([[0.972557105896013]]), Matrix([[1.17453312167395]]))"
      ]
     },
     "execution_count": 21,
     "metadata": {},
     "output_type": "execute_result"
    }
   ],
   "source": [
    "# mimimum: \n",
    "print(\"sigma, mu\")\n",
    "( (sym.Matrix([1]) / ws['c'])**(0.5), ws['a'] / ws['c'] )"
   ]
  },
  {
   "cell_type": "markdown",
   "metadata": {},
   "source": [
    "### 4: Symbolic Plot <a class=\"anchor\" id=\"4\"></a>\n",
    "\n",
    "sigma vs mu:\n",
    "\n",
    "$$ \\sigma =   \\sqrt{\\frac{D + (\\mu C - A)^2}{CD}} $$\n"
   ]
  },
  {
   "cell_type": "markdown",
   "metadata": {},
   "source": [
    "mu vs sigma\n",
    " \n",
    "$$ \\mu = \\frac{A+\\sqrt{D(\\sigma^2 C - 1)}}{C} $$"
   ]
  },
  {
   "cell_type": "code",
   "execution_count": 22,
   "metadata": {
    "lines_to_next_cell": 2
   },
   "outputs": [
    {
     "data": {
      "image/png": "[encoded data removed]",
      "text/plain": [
       "<Figure size 432x288 with 1 Axes>"
      ]
     },
     "metadata": {
      "needs_background": "light"
     },
     "output_type": "display_data"
    }
   ],
   "source": [
    "symOne = sym.Matrix([[1]]) # just 1 in a sympy 1x1 Matrix\n",
    "ws['fmuA'] = ( ws['a'] + ws['d'] * (sigma**2 * ws['c'] - symOne)**0.5 ) / ws['c']  # upper half of hyperbola\n",
    "ws['fmuB'] = ( ws['a'] - ws['d'] * (sigma**2 * ws['c'] - symOne)**0.5 ) / ws['c']  # lower half of hyperbola\n",
    "\n",
    "p0 = symplot(ws['fmuA'][0], (sigma, 0, 5.0), axis_center=(0.0,0.0), ylabel='% $\\mu$ mu', xlabel='$\\sigma$ sigma %', show=False)\n",
    "p1 = symplot(ws['fmuB'][0], (sigma, 0, 2.0), axis_center=(0.0,0.0), ylabel='% $\\mu$ mu', xlabel='$\\sigma$ sigma %', show=False)\n",
    "p0.append(p1[0])\n",
    "p0.show()"
   ]
  },
  {
   "cell_type": "markdown",
   "metadata": {},
   "source": [
    "## 5: Closed-form formulae <a class=\"anchor\" id=\"5\"></a>\n",
    "\n",
    "for small portfolio (3 assets) - covariance $V$\n",
    "\n",
    "symbolic form of hyperbola in terms of asset covariances and returns:\n",
    "\n",
    "(note the symmetric off-diagonal entries)"
   ]
  },
  {
   "cell_type": "code",
   "execution_count": 23,
   "metadata": {},
   "outputs": [
    {
     "data": {
      "text/latex": [
       "$\\displaystyle \\left[\\begin{matrix}s_{1}^{2} & cv_{12} & cv_{13}\\\\cv_{12} & s_{2}^{2} & cv_{23}\\\\cv_{13} & cv_{23} & s_{3}^{2}\\end{matrix}\\right]$"
      ],
      "text/plain": [
       "Matrix([\n",
       "[s1**2,  cv12,  cv13],\n",
       "[ cv12, s2**2,  cv23],\n",
       "[ cv13,  cv23, s3**2]])"
      ]
     },
     "execution_count": 23,
     "metadata": {},
     "output_type": "execute_result"
    }
   ],
   "source": [
    "u,s,A,B,C,D,E, s1,s2,s3, cv12,cv13,cv23, r0,r1,r2 = \\\n",
    "    sym.symbols('u s A B C D E  s1 s2 s3 cv12 cv13 cv23  r0 r1 r2')\n",
    "\n",
    "V = sym.Matrix([[s1**2, cv12,  cv13],\n",
    "                [cv12,  s2**2, cv23],\n",
    "                [cv13,  cv23,  s3**2]])\n",
    "V"
   ]
  },
  {
   "cell_type": "markdown",
   "metadata": {
    "pycharm": {
     "name": "#%% md\n"
    }
   },
   "source": [
    "inverse of covariance matrix $V$:"
   ]
  },
  {
   "cell_type": "code",
   "execution_count": 24,
   "metadata": {},
   "outputs": [
    {
     "data": {
      "text/latex": [
       "$\\displaystyle \\left[\\begin{matrix}\\frac{s_{1}^{2} s_{2}^{2} \\left(\\left(- cv_{12}^{2} + s_{1}^{2} s_{2}^{2}\\right) \\left(- cv_{13}^{2} + s_{1}^{2} s_{3}^{2}\\right) - \\left(- cv_{12} cv_{13} + cv_{23} s_{1}^{2}\\right)^{2}\\right) - \\left(- cv_{12} \\left(- cv_{12} cv_{13} + cv_{23} s_{1}^{2}\\right) + cv_{13} \\left(- cv_{12}^{2} + s_{1}^{2} s_{2}^{2}\\right)\\right) \\left(cv_{12} \\left(- cv_{12} cv_{13} + cv_{23} s_{1}^{2}\\right) - cv_{13} \\left(- cv_{12}^{2} + s_{1}^{2} s_{2}^{2}\\right)\\right)}{s_{1}^{2} \\left(- cv_{12}^{2} + s_{1}^{2} s_{2}^{2}\\right) \\left(\\left(- cv_{12}^{2} + s_{1}^{2} s_{2}^{2}\\right) \\left(- cv_{13}^{2} + s_{1}^{2} s_{3}^{2}\\right) - \\left(- cv_{12} cv_{13} + cv_{23} s_{1}^{2}\\right)^{2}\\right)} & \\frac{- cv_{12} s_{1}^{2} \\left(\\left(- cv_{12}^{2} + s_{1}^{2} s_{2}^{2}\\right) \\left(- cv_{13}^{2} + s_{1}^{2} s_{3}^{2}\\right) - \\left(- cv_{12} cv_{13} + cv_{23} s_{1}^{2}\\right)^{2}\\right) + s_{1}^{2} \\left(- cv_{12} cv_{13} + cv_{23} s_{1}^{2}\\right) \\left(- cv_{12} \\left(- cv_{12} cv_{13} + cv_{23} s_{1}^{2}\\right) + cv_{13} \\left(- cv_{12}^{2} + s_{1}^{2} s_{2}^{2}\\right)\\right)}{s_{1}^{2} \\left(- cv_{12}^{2} + s_{1}^{2} s_{2}^{2}\\right) \\left(\\left(- cv_{12}^{2} + s_{1}^{2} s_{2}^{2}\\right) \\left(- cv_{13}^{2} + s_{1}^{2} s_{3}^{2}\\right) - \\left(- cv_{12} cv_{13} + cv_{23} s_{1}^{2}\\right)^{2}\\right)} & - \\frac{- cv_{12} \\left(- cv_{12} cv_{13} + cv_{23} s_{1}^{2}\\right) + cv_{13} \\left(- cv_{12}^{2} + s_{1}^{2} s_{2}^{2}\\right)}{\\left(- cv_{12}^{2} + s_{1}^{2} s_{2}^{2}\\right) \\left(- cv_{13}^{2} + s_{1}^{2} s_{3}^{2}\\right) - \\left(- cv_{12} cv_{13} + cv_{23} s_{1}^{2}\\right)^{2}}\\\\\\frac{- cv_{12} \\left(\\left(- cv_{12}^{2} + s_{1}^{2} s_{2}^{2}\\right) \\left(- cv_{13}^{2} + s_{1}^{2} s_{3}^{2}\\right) - \\left(- cv_{12} cv_{13} + cv_{23} s_{1}^{2}\\right)^{2}\\right) - \\left(- cv_{12} cv_{13} + cv_{23} s_{1}^{2}\\right) \\left(cv_{12} \\left(- cv_{12} cv_{13} + cv_{23} s_{1}^{2}\\right) - cv_{13} \\left(- cv_{12}^{2} + s_{1}^{2} s_{2}^{2}\\right)\\right)}{\\left(- cv_{12}^{2} + s_{1}^{2} s_{2}^{2}\\right) \\left(\\left(- cv_{12}^{2} + s_{1}^{2} s_{2}^{2}\\right) \\left(- cv_{13}^{2} + s_{1}^{2} s_{3}^{2}\\right) - \\left(- cv_{12} cv_{13} + cv_{23} s_{1}^{2}\\right)^{2}\\right)} & \\frac{s_{1}^{2} \\left(- cv_{12} cv_{13} + cv_{23} s_{1}^{2}\\right)^{2} + s_{1}^{2} \\left(\\left(- cv_{12}^{2} + s_{1}^{2} s_{2}^{2}\\right) \\left(- cv_{13}^{2} + s_{1}^{2} s_{3}^{2}\\right) - \\left(- cv_{12} cv_{13} + cv_{23} s_{1}^{2}\\right)^{2}\\right)}{\\left(- cv_{12}^{2} + s_{1}^{2} s_{2}^{2}\\right) \\left(\\left(- cv_{12}^{2} + s_{1}^{2} s_{2}^{2}\\right) \\left(- cv_{13}^{2} + s_{1}^{2} s_{3}^{2}\\right) - \\left(- cv_{12} cv_{13} + cv_{23} s_{1}^{2}\\right)^{2}\\right)} & - \\frac{s_{1}^{2} \\left(- cv_{12} cv_{13} + cv_{23} s_{1}^{2}\\right)}{\\left(- cv_{12}^{2} + s_{1}^{2} s_{2}^{2}\\right) \\left(- cv_{13}^{2} + s_{1}^{2} s_{3}^{2}\\right) - \\left(- cv_{12} cv_{13} + cv_{23} s_{1}^{2}\\right)^{2}}\\\\\\frac{cv_{12} \\left(- cv_{12} cv_{13} + cv_{23} s_{1}^{2}\\right) - cv_{13} \\left(- cv_{12}^{2} + s_{1}^{2} s_{2}^{2}\\right)}{\\left(- cv_{12}^{2} + s_{1}^{2} s_{2}^{2}\\right) \\left(- cv_{13}^{2} + s_{1}^{2} s_{3}^{2}\\right) - \\left(- cv_{12} cv_{13} + cv_{23} s_{1}^{2}\\right)^{2}} & - \\frac{s_{1}^{2} \\left(- cv_{12} cv_{13} + cv_{23} s_{1}^{2}\\right)}{\\left(- cv_{12}^{2} + s_{1}^{2} s_{2}^{2}\\right) \\left(- cv_{13}^{2} + s_{1}^{2} s_{3}^{2}\\right) - \\left(- cv_{12} cv_{13} + cv_{23} s_{1}^{2}\\right)^{2}} & \\frac{s_{1}^{2} \\left(- cv_{12}^{2} + s_{1}^{2} s_{2}^{2}\\right)}{\\left(- cv_{12}^{2} + s_{1}^{2} s_{2}^{2}\\right) \\left(- cv_{13}^{2} + s_{1}^{2} s_{3}^{2}\\right) - \\left(- cv_{12} cv_{13} + cv_{23} s_{1}^{2}\\right)^{2}}\\end{matrix}\\right]$"
      ],
      "text/plain": [
       "Matrix([\n",
       "[(s1**2*s2**2*((-cv12**2 + s1**2*s2**2)*(-cv13**2 + s1**2*s3**2) - (-cv12*cv13 + cv23*s1**2)**2) - (-cv12*(-cv12*cv13 + cv23*s1**2) + cv13*(-cv12**2 + s1**2*s2**2))*(cv12*(-cv12*cv13 + cv23*s1**2) - cv13*(-cv12**2 + s1**2*s2**2)))/(s1**2*(-cv12**2 + s1**2*s2**2)*((-cv12**2 + s1**2*s2**2)*(-cv13**2 + s1**2*s3**2) - (-cv12*cv13 + cv23*s1**2)**2)), (-cv12*s1**2*((-cv12**2 + s1**2*s2**2)*(-cv13**2 + s1**2*s3**2) - (-cv12*cv13 + cv23*s1**2)**2) + s1**2*(-cv12*cv13 + cv23*s1**2)*(-cv12*(-cv12*cv13 + cv23*s1**2) + cv13*(-cv12**2 + s1**2*s2**2)))/(s1**2*(-cv12**2 + s1**2*s2**2)*((-cv12**2 + s1**2*s2**2)*(-cv13**2 + s1**2*s3**2) - (-cv12*cv13 + cv23*s1**2)**2)), -(-cv12*(-cv12*cv13 + cv23*s1**2) + cv13*(-cv12**2 + s1**2*s2**2))/((-cv12**2 + s1**2*s2**2)*(-cv13**2 + s1**2*s3**2) - (-cv12*cv13 + cv23*s1**2)**2)],\n",
       "[                                                    (-cv12*((-cv12**2 + s1**2*s2**2)*(-cv13**2 + s1**2*s3**2) - (-cv12*cv13 + cv23*s1**2)**2) - (-cv12*cv13 + cv23*s1**2)*(cv12*(-cv12*cv13 + cv23*s1**2) - cv13*(-cv12**2 + s1**2*s2**2)))/((-cv12**2 + s1**2*s2**2)*((-cv12**2 + s1**2*s2**2)*(-cv13**2 + s1**2*s3**2) - (-cv12*cv13 + cv23*s1**2)**2)),                                                                            (s1**2*(-cv12*cv13 + cv23*s1**2)**2 + s1**2*((-cv12**2 + s1**2*s2**2)*(-cv13**2 + s1**2*s3**2) - (-cv12*cv13 + cv23*s1**2)**2))/((-cv12**2 + s1**2*s2**2)*((-cv12**2 + s1**2*s2**2)*(-cv13**2 + s1**2*s3**2) - (-cv12*cv13 + cv23*s1**2)**2)),                                   -s1**2*(-cv12*cv13 + cv23*s1**2)/((-cv12**2 + s1**2*s2**2)*(-cv13**2 + s1**2*s3**2) - (-cv12*cv13 + cv23*s1**2)**2)],\n",
       "[                                                                                                                                                                                                      (cv12*(-cv12*cv13 + cv23*s1**2) - cv13*(-cv12**2 + s1**2*s2**2))/((-cv12**2 + s1**2*s2**2)*(-cv13**2 + s1**2*s3**2) - (-cv12*cv13 + cv23*s1**2)**2),                                                                                                                                                                                                      -s1**2*(-cv12*cv13 + cv23*s1**2)/((-cv12**2 + s1**2*s2**2)*(-cv13**2 + s1**2*s3**2) - (-cv12*cv13 + cv23*s1**2)**2),                                     s1**2*(-cv12**2 + s1**2*s2**2)/((-cv12**2 + s1**2*s2**2)*(-cv13**2 + s1**2*s3**2) - (-cv12*cv13 + cv23*s1**2)**2)]])"
      ]
     },
     "execution_count": 24,
     "metadata": {},
     "output_type": "execute_result"
    }
   ],
   "source": [
    "V**(-1)"
   ]
  },
  {
   "cell_type": "markdown",
   "metadata": {
    "pycharm": {
     "is_executing": false,
     "name": "#%% md\n"
    }
   },
   "source": [
    "check multiply: $V \\times V^{-1}$"
   ]
  },
  {
   "cell_type": "code",
   "execution_count": 25,
   "metadata": {
    "collapsed": false,
    "jupyter": {
     "outputs_hidden": false
    },
    "pycharm": {
     "name": "#%%\n"
    }
   },
   "outputs": [
    {
     "data": {
      "text/latex": [
       "$\\displaystyle \\left[\\begin{matrix}s_{1}^{2} & cv_{12} & cv_{13}\\\\cv_{12} & s_{2}^{2} & cv_{23}\\\\cv_{13} & cv_{23} & s_{3}^{2}\\end{matrix}\\right] \\left[\\begin{matrix}\\frac{s_{1}^{2} s_{2}^{2} \\left(\\left(- cv_{12}^{2} + s_{1}^{2} s_{2}^{2}\\right) \\left(- cv_{13}^{2} + s_{1}^{2} s_{3}^{2}\\right) - \\left(- cv_{12} cv_{13} + cv_{23} s_{1}^{2}\\right)^{2}\\right) - \\left(- cv_{12} \\left(- cv_{12} cv_{13} + cv_{23} s_{1}^{2}\\right) + cv_{13} \\left(- cv_{12}^{2} + s_{1}^{2} s_{2}^{2}\\right)\\right) \\left(cv_{12} \\left(- cv_{12} cv_{13} + cv_{23} s_{1}^{2}\\right) - cv_{13} \\left(- cv_{12}^{2} + s_{1}^{2} s_{2}^{2}\\right)\\right)}{s_{1}^{2} \\left(- cv_{12}^{2} + s_{1}^{2} s_{2}^{2}\\right) \\left(\\left(- cv_{12}^{2} + s_{1}^{2} s_{2}^{2}\\right) \\left(- cv_{13}^{2} + s_{1}^{2} s_{3}^{2}\\right) - \\left(- cv_{12} cv_{13} + cv_{23} s_{1}^{2}\\right)^{2}\\right)} & \\frac{- cv_{12} s_{1}^{2} \\left(\\left(- cv_{12}^{2} + s_{1}^{2} s_{2}^{2}\\right) \\left(- cv_{13}^{2} + s_{1}^{2} s_{3}^{2}\\right) - \\left(- cv_{12} cv_{13} + cv_{23} s_{1}^{2}\\right)^{2}\\right) + s_{1}^{2} \\left(- cv_{12} cv_{13} + cv_{23} s_{1}^{2}\\right) \\left(- cv_{12} \\left(- cv_{12} cv_{13} + cv_{23} s_{1}^{2}\\right) + cv_{13} \\left(- cv_{12}^{2} + s_{1}^{2} s_{2}^{2}\\right)\\right)}{s_{1}^{2} \\left(- cv_{12}^{2} + s_{1}^{2} s_{2}^{2}\\right) \\left(\\left(- cv_{12}^{2} + s_{1}^{2} s_{2}^{2}\\right) \\left(- cv_{13}^{2} + s_{1}^{2} s_{3}^{2}\\right) - \\left(- cv_{12} cv_{13} + cv_{23} s_{1}^{2}\\right)^{2}\\right)} & - \\frac{- cv_{12} \\left(- cv_{12} cv_{13} + cv_{23} s_{1}^{2}\\right) + cv_{13} \\left(- cv_{12}^{2} + s_{1}^{2} s_{2}^{2}\\right)}{\\left(- cv_{12}^{2} + s_{1}^{2} s_{2}^{2}\\right) \\left(- cv_{13}^{2} + s_{1}^{2} s_{3}^{2}\\right) - \\left(- cv_{12} cv_{13} + cv_{23} s_{1}^{2}\\right)^{2}}\\\\\\frac{- cv_{12} \\left(\\left(- cv_{12}^{2} + s_{1}^{2} s_{2}^{2}\\right) \\left(- cv_{13}^{2} + s_{1}^{2} s_{3}^{2}\\right) - \\left(- cv_{12} cv_{13} + cv_{23} s_{1}^{2}\\right)^{2}\\right) - \\left(- cv_{12} cv_{13} + cv_{23} s_{1}^{2}\\right) \\left(cv_{12} \\left(- cv_{12} cv_{13} + cv_{23} s_{1}^{2}\\right) - cv_{13} \\left(- cv_{12}^{2} + s_{1}^{2} s_{2}^{2}\\right)\\right)}{\\left(- cv_{12}^{2} + s_{1}^{2} s_{2}^{2}\\right) \\left(\\left(- cv_{12}^{2} + s_{1}^{2} s_{2}^{2}\\right) \\left(- cv_{13}^{2} + s_{1}^{2} s_{3}^{2}\\right) - \\left(- cv_{12} cv_{13} + cv_{23} s_{1}^{2}\\right)^{2}\\right)} & \\frac{s_{1}^{2} \\left(- cv_{12} cv_{13} + cv_{23} s_{1}^{2}\\right)^{2} + s_{1}^{2} \\left(\\left(- cv_{12}^{2} + s_{1}^{2} s_{2}^{2}\\right) \\left(- cv_{13}^{2} + s_{1}^{2} s_{3}^{2}\\right) - \\left(- cv_{12} cv_{13} + cv_{23} s_{1}^{2}\\right)^{2}\\right)}{\\left(- cv_{12}^{2} + s_{1}^{2} s_{2}^{2}\\right) \\left(\\left(- cv_{12}^{2} + s_{1}^{2} s_{2}^{2}\\right) \\left(- cv_{13}^{2} + s_{1}^{2} s_{3}^{2}\\right) - \\left(- cv_{12} cv_{13} + cv_{23} s_{1}^{2}\\right)^{2}\\right)} & - \\frac{s_{1}^{2} \\left(- cv_{12} cv_{13} + cv_{23} s_{1}^{2}\\right)}{\\left(- cv_{12}^{2} + s_{1}^{2} s_{2}^{2}\\right) \\left(- cv_{13}^{2} + s_{1}^{2} s_{3}^{2}\\right) - \\left(- cv_{12} cv_{13} + cv_{23} s_{1}^{2}\\right)^{2}}\\\\\\frac{cv_{12} \\left(- cv_{12} cv_{13} + cv_{23} s_{1}^{2}\\right) - cv_{13} \\left(- cv_{12}^{2} + s_{1}^{2} s_{2}^{2}\\right)}{\\left(- cv_{12}^{2} + s_{1}^{2} s_{2}^{2}\\right) \\left(- cv_{13}^{2} + s_{1}^{2} s_{3}^{2}\\right) - \\left(- cv_{12} cv_{13} + cv_{23} s_{1}^{2}\\right)^{2}} & - \\frac{s_{1}^{2} \\left(- cv_{12} cv_{13} + cv_{23} s_{1}^{2}\\right)}{\\left(- cv_{12}^{2} + s_{1}^{2} s_{2}^{2}\\right) \\left(- cv_{13}^{2} + s_{1}^{2} s_{3}^{2}\\right) - \\left(- cv_{12} cv_{13} + cv_{23} s_{1}^{2}\\right)^{2}} & \\frac{s_{1}^{2} \\left(- cv_{12}^{2} + s_{1}^{2} s_{2}^{2}\\right)}{\\left(- cv_{12}^{2} + s_{1}^{2} s_{2}^{2}\\right) \\left(- cv_{13}^{2} + s_{1}^{2} s_{3}^{2}\\right) - \\left(- cv_{12} cv_{13} + cv_{23} s_{1}^{2}\\right)^{2}}\\end{matrix}\\right]$"
      ],
      "text/plain": [
       "Matrix([\n",
       "[s1**2,  cv12,  cv13],\n",
       "[ cv12, s2**2,  cv23],\n",
       "[ cv13,  cv23, s3**2]])*Matrix([\n",
       "[(s1**2*s2**2*((-cv12**2 + s1**2*s2**2)*(-cv13**2 + s1**2*s3**2) - (-cv12*cv13 + cv23*s1**2)**2) - (-cv12*(-cv12*cv13 + cv23*s1**2) + cv13*(-cv12**2 + s1**2*s2**2))*(cv12*(-cv12*cv13 + cv23*s1**2) - cv13*(-cv12**2 + s1**2*s2**2)))/(s1**2*(-cv12**2 + s1**2*s2**2)*((-cv12**2 + s1**2*s2**2)*(-cv13**2 + s1**2*s3**2) - (-cv12*cv13 + cv23*s1**2)**2)), (-cv12*s1**2*((-cv12**2 + s1**2*s2**2)*(-cv13**2 + s1**2*s3**2) - (-cv12*cv13 + cv23*s1**2)**2) + s1**2*(-cv12*cv13 + cv23*s1**2)*(-cv12*(-cv12*cv13 + cv23*s1**2) + cv13*(-cv12**2 + s1**2*s2**2)))/(s1**2*(-cv12**2 + s1**2*s2**2)*((-cv12**2 + s1**2*s2**2)*(-cv13**2 + s1**2*s3**2) - (-cv12*cv13 + cv23*s1**2)**2)), -(-cv12*(-cv12*cv13 + cv23*s1**2) + cv13*(-cv12**2 + s1**2*s2**2))/((-cv12**2 + s1**2*s2**2)*(-cv13**2 + s1**2*s3**2) - (-cv12*cv13 + cv23*s1**2)**2)],\n",
       "[                                                    (-cv12*((-cv12**2 + s1**2*s2**2)*(-cv13**2 + s1**2*s3**2) - (-cv12*cv13 + cv23*s1**2)**2) - (-cv12*cv13 + cv23*s1**2)*(cv12*(-cv12*cv13 + cv23*s1**2) - cv13*(-cv12**2 + s1**2*s2**2)))/((-cv12**2 + s1**2*s2**2)*((-cv12**2 + s1**2*s2**2)*(-cv13**2 + s1**2*s3**2) - (-cv12*cv13 + cv23*s1**2)**2)),                                                                            (s1**2*(-cv12*cv13 + cv23*s1**2)**2 + s1**2*((-cv12**2 + s1**2*s2**2)*(-cv13**2 + s1**2*s3**2) - (-cv12*cv13 + cv23*s1**2)**2))/((-cv12**2 + s1**2*s2**2)*((-cv12**2 + s1**2*s2**2)*(-cv13**2 + s1**2*s3**2) - (-cv12*cv13 + cv23*s1**2)**2)),                                   -s1**2*(-cv12*cv13 + cv23*s1**2)/((-cv12**2 + s1**2*s2**2)*(-cv13**2 + s1**2*s3**2) - (-cv12*cv13 + cv23*s1**2)**2)],\n",
       "[                                                                                                                                                                                                      (cv12*(-cv12*cv13 + cv23*s1**2) - cv13*(-cv12**2 + s1**2*s2**2))/((-cv12**2 + s1**2*s2**2)*(-cv13**2 + s1**2*s3**2) - (-cv12*cv13 + cv23*s1**2)**2),                                                                                                                                                                                                      -s1**2*(-cv12*cv13 + cv23*s1**2)/((-cv12**2 + s1**2*s2**2)*(-cv13**2 + s1**2*s3**2) - (-cv12*cv13 + cv23*s1**2)**2),                                     s1**2*(-cv12**2 + s1**2*s2**2)/((-cv12**2 + s1**2*s2**2)*(-cv13**2 + s1**2*s3**2) - (-cv12*cv13 + cv23*s1**2)**2)]])"
      ]
     },
     "execution_count": 25,
     "metadata": {},
     "output_type": "execute_result"
    }
   ],
   "source": [
    "sym.MatMul(V, V.inv(),doit=False) "
   ]
  },
  {
   "cell_type": "markdown",
   "metadata": {
    "pycharm": {
     "name": "#%% md\n"
    }
   },
   "source": [
    "**=** "
   ]
  },
  {
   "cell_type": "code",
   "execution_count": 26,
   "metadata": {
    "collapsed": false,
    "jupyter": {
     "outputs_hidden": false
    },
    "pycharm": {
     "name": "#%%\n"
    }
   },
   "outputs": [
    {
     "data": {
      "text/latex": [
       "$\\displaystyle \\left[\\begin{matrix}1 & 0 & 0\\\\0 & 1 & 0\\\\0 & 0 & 1\\end{matrix}\\right]$"
      ],
      "text/plain": [
       "Matrix([\n",
       "[1, 0, 0],\n",
       "[0, 1, 0],\n",
       "[0, 0, 1]])"
      ]
     },
     "execution_count": 26,
     "metadata": {},
     "output_type": "execute_result"
    }
   ],
   "source": [
    "sym.simplify(V @ V.inv())"
   ]
  },
  {
   "cell_type": "code",
   "execution_count": 27,
   "metadata": {},
   "outputs": [],
   "source": [
    "#sym.ask(sym.Q.symmetric(V.inv())) # only avaulable in SageMath/Cocalc?"
   ]
  },
  {
   "cell_type": "code",
   "execution_count": 28,
   "metadata": {},
   "outputs": [
    {
     "data": {
      "text/latex": [
       "$\\displaystyle \\left[\\begin{matrix}vi_{00} & vi_{01} & vi_{02}\\\\vi_{01} & vi_{11} & vi_{12}\\\\vi_{02} & vi_{12} & vi_{22}\\end{matrix}\\right]$"
      ],
      "text/plain": [
       "Matrix([\n",
       "[vi00, vi01, vi02],\n",
       "[vi01, vi11, vi12],\n",
       "[vi02, vi12, vi22]])"
      ]
     },
     "execution_count": 28,
     "metadata": {},
     "output_type": "execute_result"
    }
   ],
   "source": [
    "vi00,vi11,vi22, vi01,vi02,vi12 = sym.symbols('vi00, vi11, vi22, vi01, vi02, vi12')\n",
    "sA,sB,sC,sD = sym.symbols('sA, sB, sC, sD') # keep separate from symbols A,B,C,D above\n",
    "Vi = sym.Matrix([[vi00, vi01, vi02],\n",
    "                 [vi01, vi11, vi12],\n",
    "                 [vi02, vi12, vi22]])\n",
    "Vi"
   ]
  },
  {
   "cell_type": "markdown",
   "metadata": {
    "pycharm": {
     "name": "#%% md\n"
    }
   },
   "source": [
    "returns: $E$ ="
   ]
  },
  {
   "cell_type": "code",
   "execution_count": 29,
   "metadata": {},
   "outputs": [
    {
     "data": {
      "text/latex": [
       "$\\displaystyle \\left[\\begin{matrix}r_{0}\\\\r_{1}\\\\r_{2}\\end{matrix}\\right]$"
      ],
      "text/plain": [
       "Matrix([\n",
       "[r0],\n",
       "[r1],\n",
       "[r2]])"
      ]
     },
     "execution_count": 29,
     "metadata": {},
     "output_type": "execute_result"
    }
   ],
   "source": [
    "E = sym.Matrix([r0,r1,r2])\n",
    "E"
   ]
  },
  {
   "cell_type": "markdown",
   "metadata": {},
   "source": [
    "hence closed form formulas for $A,B,C,D$:"
   ]
  },
  {
   "cell_type": "markdown",
   "metadata": {
    "pycharm": {
     "name": "#%% md\n"
    }
   },
   "source": [
    "$$ A = \\mathbf{1}^T V^{-1} e = e^T V^{-1}\\mathbf{1} =$$"
   ]
  },
  {
   "cell_type": "code",
   "execution_count": 30,
   "metadata": {},
   "outputs": [
    {
     "data": {
      "text/latex": [
       "$\\displaystyle \\left[\\begin{matrix}r_{0} \\left(\\frac{cv_{12} \\left(- cv_{12} cv_{13} + cv_{23} s_{1}^{2}\\right) - cv_{13} \\left(- cv_{12}^{2} + s_{1}^{2} s_{2}^{2}\\right)}{\\left(- cv_{12}^{2} + s_{1}^{2} s_{2}^{2}\\right) \\left(- cv_{13}^{2} + s_{1}^{2} s_{3}^{2}\\right) - \\left(- cv_{12} cv_{13} + cv_{23} s_{1}^{2}\\right)^{2}} + \\frac{- cv_{12} \\left(\\left(- cv_{12}^{2} + s_{1}^{2} s_{2}^{2}\\right) \\left(- cv_{13}^{2} + s_{1}^{2} s_{3}^{2}\\right) - \\left(- cv_{12} cv_{13} + cv_{23} s_{1}^{2}\\right)^{2}\\right) - \\left(- cv_{12} cv_{13} + cv_{23} s_{1}^{2}\\right) \\left(cv_{12} \\left(- cv_{12} cv_{13} + cv_{23} s_{1}^{2}\\right) - cv_{13} \\left(- cv_{12}^{2} + s_{1}^{2} s_{2}^{2}\\right)\\right)}{\\left(- cv_{12}^{2} + s_{1}^{2} s_{2}^{2}\\right) \\left(\\left(- cv_{12}^{2} + s_{1}^{2} s_{2}^{2}\\right) \\left(- cv_{13}^{2} + s_{1}^{2} s_{3}^{2}\\right) - \\left(- cv_{12} cv_{13} + cv_{23} s_{1}^{2}\\right)^{2}\\right)} + \\frac{s_{1}^{2} s_{2}^{2} \\left(\\left(- cv_{12}^{2} + s_{1}^{2} s_{2}^{2}\\right) \\left(- cv_{13}^{2} + s_{1}^{2} s_{3}^{2}\\right) - \\left(- cv_{12} cv_{13} + cv_{23} s_{1}^{2}\\right)^{2}\\right) - \\left(- cv_{12} \\left(- cv_{12} cv_{13} + cv_{23} s_{1}^{2}\\right) + cv_{13} \\left(- cv_{12}^{2} + s_{1}^{2} s_{2}^{2}\\right)\\right) \\left(cv_{12} \\left(- cv_{12} cv_{13} + cv_{23} s_{1}^{2}\\right) - cv_{13} \\left(- cv_{12}^{2} + s_{1}^{2} s_{2}^{2}\\right)\\right)}{s_{1}^{2} \\left(- cv_{12}^{2} + s_{1}^{2} s_{2}^{2}\\right) \\left(\\left(- cv_{12}^{2} + s_{1}^{2} s_{2}^{2}\\right) \\left(- cv_{13}^{2} + s_{1}^{2} s_{3}^{2}\\right) - \\left(- cv_{12} cv_{13} + cv_{23} s_{1}^{2}\\right)^{2}\\right)}\\right) + r_{1} \\left(- \\frac{s_{1}^{2} \\left(- cv_{12} cv_{13} + cv_{23} s_{1}^{2}\\right)}{\\left(- cv_{12}^{2} + s_{1}^{2} s_{2}^{2}\\right) \\left(- cv_{13}^{2} + s_{1}^{2} s_{3}^{2}\\right) - \\left(- cv_{12} cv_{13} + cv_{23} s_{1}^{2}\\right)^{2}} + \\frac{s_{1}^{2} \\left(- cv_{12} cv_{13} + cv_{23} s_{1}^{2}\\right)^{2} + s_{1}^{2} \\left(\\left(- cv_{12}^{2} + s_{1}^{2} s_{2}^{2}\\right) \\left(- cv_{13}^{2} + s_{1}^{2} s_{3}^{2}\\right) - \\left(- cv_{12} cv_{13} + cv_{23} s_{1}^{2}\\right)^{2}\\right)}{\\left(- cv_{12}^{2} + s_{1}^{2} s_{2}^{2}\\right) \\left(\\left(- cv_{12}^{2} + s_{1}^{2} s_{2}^{2}\\right) \\left(- cv_{13}^{2} + s_{1}^{2} s_{3}^{2}\\right) - \\left(- cv_{12} cv_{13} + cv_{23} s_{1}^{2}\\right)^{2}\\right)} + \\frac{- cv_{12} s_{1}^{2} \\left(\\left(- cv_{12}^{2} + s_{1}^{2} s_{2}^{2}\\right) \\left(- cv_{13}^{2} + s_{1}^{2} s_{3}^{2}\\right) - \\left(- cv_{12} cv_{13} + cv_{23} s_{1}^{2}\\right)^{2}\\right) + s_{1}^{2} \\left(- cv_{12} cv_{13} + cv_{23} s_{1}^{2}\\right) \\left(- cv_{12} \\left(- cv_{12} cv_{13} + cv_{23} s_{1}^{2}\\right) + cv_{13} \\left(- cv_{12}^{2} + s_{1}^{2} s_{2}^{2}\\right)\\right)}{s_{1}^{2} \\left(- cv_{12}^{2} + s_{1}^{2} s_{2}^{2}\\right) \\left(\\left(- cv_{12}^{2} + s_{1}^{2} s_{2}^{2}\\right) \\left(- cv_{13}^{2} + s_{1}^{2} s_{3}^{2}\\right) - \\left(- cv_{12} cv_{13} + cv_{23} s_{1}^{2}\\right)^{2}\\right)}\\right) + r_{2} \\left(\\frac{s_{1}^{2} \\left(- cv_{12}^{2} + s_{1}^{2} s_{2}^{2}\\right)}{\\left(- cv_{12}^{2} + s_{1}^{2} s_{2}^{2}\\right) \\left(- cv_{13}^{2} + s_{1}^{2} s_{3}^{2}\\right) - \\left(- cv_{12} cv_{13} + cv_{23} s_{1}^{2}\\right)^{2}} - \\frac{s_{1}^{2} \\left(- cv_{12} cv_{13} + cv_{23} s_{1}^{2}\\right)}{\\left(- cv_{12}^{2} + s_{1}^{2} s_{2}^{2}\\right) \\left(- cv_{13}^{2} + s_{1}^{2} s_{3}^{2}\\right) - \\left(- cv_{12} cv_{13} + cv_{23} s_{1}^{2}\\right)^{2}} - \\frac{- cv_{12} \\left(- cv_{12} cv_{13} + cv_{23} s_{1}^{2}\\right) + cv_{13} \\left(- cv_{12}^{2} + s_{1}^{2} s_{2}^{2}\\right)}{\\left(- cv_{12}^{2} + s_{1}^{2} s_{2}^{2}\\right) \\left(- cv_{13}^{2} + s_{1}^{2} s_{3}^{2}\\right) - \\left(- cv_{12} cv_{13} + cv_{23} s_{1}^{2}\\right)^{2}}\\right)\\end{matrix}\\right]$"
      ],
      "text/plain": [
       "Matrix([[r0*((cv12*(-cv12*cv13 + cv23*s1**2) - cv13*(-cv12**2 + s1**2*s2**2))/((-cv12**2 + s1**2*s2**2)*(-cv13**2 + s1**2*s3**2) - (-cv12*cv13 + cv23*s1**2)**2) + (-cv12*((-cv12**2 + s1**2*s2**2)*(-cv13**2 + s1**2*s3**2) - (-cv12*cv13 + cv23*s1**2)**2) - (-cv12*cv13 + cv23*s1**2)*(cv12*(-cv12*cv13 + cv23*s1**2) - cv13*(-cv12**2 + s1**2*s2**2)))/((-cv12**2 + s1**2*s2**2)*((-cv12**2 + s1**2*s2**2)*(-cv13**2 + s1**2*s3**2) - (-cv12*cv13 + cv23*s1**2)**2)) + (s1**2*s2**2*((-cv12**2 + s1**2*s2**2)*(-cv13**2 + s1**2*s3**2) - (-cv12*cv13 + cv23*s1**2)**2) - (-cv12*(-cv12*cv13 + cv23*s1**2) + cv13*(-cv12**2 + s1**2*s2**2))*(cv12*(-cv12*cv13 + cv23*s1**2) - cv13*(-cv12**2 + s1**2*s2**2)))/(s1**2*(-cv12**2 + s1**2*s2**2)*((-cv12**2 + s1**2*s2**2)*(-cv13**2 + s1**2*s3**2) - (-cv12*cv13 + cv23*s1**2)**2))) + r1*(-s1**2*(-cv12*cv13 + cv23*s1**2)/((-cv12**2 + s1**2*s2**2)*(-cv13**2 + s1**2*s3**2) - (-cv12*cv13 + cv23*s1**2)**2) + (s1**2*(-cv12*cv13 + cv23*s1**2)**2 + s1**2*((-cv12**2 + s1**2*s2**2)*(-cv13**2 + s1**2*s3**2) - (-cv12*cv13 + cv23*s1**2)**2))/((-cv12**2 + s1**2*s2**2)*((-cv12**2 + s1**2*s2**2)*(-cv13**2 + s1**2*s3**2) - (-cv12*cv13 + cv23*s1**2)**2)) + (-cv12*s1**2*((-cv12**2 + s1**2*s2**2)*(-cv13**2 + s1**2*s3**2) - (-cv12*cv13 + cv23*s1**2)**2) + s1**2*(-cv12*cv13 + cv23*s1**2)*(-cv12*(-cv12*cv13 + cv23*s1**2) + cv13*(-cv12**2 + s1**2*s2**2)))/(s1**2*(-cv12**2 + s1**2*s2**2)*((-cv12**2 + s1**2*s2**2)*(-cv13**2 + s1**2*s3**2) - (-cv12*cv13 + cv23*s1**2)**2))) + r2*(s1**2*(-cv12**2 + s1**2*s2**2)/((-cv12**2 + s1**2*s2**2)*(-cv13**2 + s1**2*s3**2) - (-cv12*cv13 + cv23*s1**2)**2) - s1**2*(-cv12*cv13 + cv23*s1**2)/((-cv12**2 + s1**2*s2**2)*(-cv13**2 + s1**2*s3**2) - (-cv12*cv13 + cv23*s1**2)**2) - (-cv12*(-cv12*cv13 + cv23*s1**2) + cv13*(-cv12**2 + s1**2*s2**2))/((-cv12**2 + s1**2*s2**2)*(-cv13**2 + s1**2*s3**2) - (-cv12*cv13 + cv23*s1**2)**2))]])"
      ]
     },
     "execution_count": 30,
     "metadata": {},
     "output_type": "execute_result"
    }
   ],
   "source": [
    "sA = ws['ones3'].T @ V.inv() @ E\n",
    "sA"
   ]
  },
  {
   "cell_type": "markdown",
   "metadata": {},
   "source": [
    "$ B = e^T V^{-1} e = $"
   ]
  },
  {
   "cell_type": "code",
   "execution_count": 31,
   "metadata": {},
   "outputs": [
    {
     "data": {
      "text/latex": [
       "$\\displaystyle \\left[\\begin{matrix}r_{0} \\left(\\frac{r_{0} \\left(s_{1}^{2} s_{2}^{2} \\left(\\left(- cv_{12}^{2} + s_{1}^{2} s_{2}^{2}\\right) \\left(- cv_{13}^{2} + s_{1}^{2} s_{3}^{2}\\right) - \\left(- cv_{12} cv_{13} + cv_{23} s_{1}^{2}\\right)^{2}\\right) - \\left(- cv_{12} \\left(- cv_{12} cv_{13} + cv_{23} s_{1}^{2}\\right) + cv_{13} \\left(- cv_{12}^{2} + s_{1}^{2} s_{2}^{2}\\right)\\right) \\left(cv_{12} \\left(- cv_{12} cv_{13} + cv_{23} s_{1}^{2}\\right) - cv_{13} \\left(- cv_{12}^{2} + s_{1}^{2} s_{2}^{2}\\right)\\right)\\right)}{s_{1}^{2} \\left(- cv_{12}^{2} + s_{1}^{2} s_{2}^{2}\\right) \\left(\\left(- cv_{12}^{2} + s_{1}^{2} s_{2}^{2}\\right) \\left(- cv_{13}^{2} + s_{1}^{2} s_{3}^{2}\\right) - \\left(- cv_{12} cv_{13} + cv_{23} s_{1}^{2}\\right)^{2}\\right)} + \\frac{r_{1} \\left(- cv_{12} \\left(\\left(- cv_{12}^{2} + s_{1}^{2} s_{2}^{2}\\right) \\left(- cv_{13}^{2} + s_{1}^{2} s_{3}^{2}\\right) - \\left(- cv_{12} cv_{13} + cv_{23} s_{1}^{2}\\right)^{2}\\right) - \\left(- cv_{12} cv_{13} + cv_{23} s_{1}^{2}\\right) \\left(cv_{12} \\left(- cv_{12} cv_{13} + cv_{23} s_{1}^{2}\\right) - cv_{13} \\left(- cv_{12}^{2} + s_{1}^{2} s_{2}^{2}\\right)\\right)\\right)}{\\left(- cv_{12}^{2} + s_{1}^{2} s_{2}^{2}\\right) \\left(\\left(- cv_{12}^{2} + s_{1}^{2} s_{2}^{2}\\right) \\left(- cv_{13}^{2} + s_{1}^{2} s_{3}^{2}\\right) - \\left(- cv_{12} cv_{13} + cv_{23} s_{1}^{2}\\right)^{2}\\right)} + \\frac{r_{2} \\left(cv_{12} \\left(- cv_{12} cv_{13} + cv_{23} s_{1}^{2}\\right) - cv_{13} \\left(- cv_{12}^{2} + s_{1}^{2} s_{2}^{2}\\right)\\right)}{\\left(- cv_{12}^{2} + s_{1}^{2} s_{2}^{2}\\right) \\left(- cv_{13}^{2} + s_{1}^{2} s_{3}^{2}\\right) - \\left(- cv_{12} cv_{13} + cv_{23} s_{1}^{2}\\right)^{2}}\\right) + r_{1} \\left(\\frac{r_{0} \\left(- cv_{12} s_{1}^{2} \\left(\\left(- cv_{12}^{2} + s_{1}^{2} s_{2}^{2}\\right) \\left(- cv_{13}^{2} + s_{1}^{2} s_{3}^{2}\\right) - \\left(- cv_{12} cv_{13} + cv_{23} s_{1}^{2}\\right)^{2}\\right) + s_{1}^{2} \\left(- cv_{12} cv_{13} + cv_{23} s_{1}^{2}\\right) \\left(- cv_{12} \\left(- cv_{12} cv_{13} + cv_{23} s_{1}^{2}\\right) + cv_{13} \\left(- cv_{12}^{2} + s_{1}^{2} s_{2}^{2}\\right)\\right)\\right)}{s_{1}^{2} \\left(- cv_{12}^{2} + s_{1}^{2} s_{2}^{2}\\right) \\left(\\left(- cv_{12}^{2} + s_{1}^{2} s_{2}^{2}\\right) \\left(- cv_{13}^{2} + s_{1}^{2} s_{3}^{2}\\right) - \\left(- cv_{12} cv_{13} + cv_{23} s_{1}^{2}\\right)^{2}\\right)} + \\frac{r_{1} \\left(s_{1}^{2} \\left(- cv_{12} cv_{13} + cv_{23} s_{1}^{2}\\right)^{2} + s_{1}^{2} \\left(\\left(- cv_{12}^{2} + s_{1}^{2} s_{2}^{2}\\right) \\left(- cv_{13}^{2} + s_{1}^{2} s_{3}^{2}\\right) - \\left(- cv_{12} cv_{13} + cv_{23} s_{1}^{2}\\right)^{2}\\right)\\right)}{\\left(- cv_{12}^{2} + s_{1}^{2} s_{2}^{2}\\right) \\left(\\left(- cv_{12}^{2} + s_{1}^{2} s_{2}^{2}\\right) \\left(- cv_{13}^{2} + s_{1}^{2} s_{3}^{2}\\right) - \\left(- cv_{12} cv_{13} + cv_{23} s_{1}^{2}\\right)^{2}\\right)} - \\frac{r_{2} s_{1}^{2} \\left(- cv_{12} cv_{13} + cv_{23} s_{1}^{2}\\right)}{\\left(- cv_{12}^{2} + s_{1}^{2} s_{2}^{2}\\right) \\left(- cv_{13}^{2} + s_{1}^{2} s_{3}^{2}\\right) - \\left(- cv_{12} cv_{13} + cv_{23} s_{1}^{2}\\right)^{2}}\\right) + r_{2} \\left(- \\frac{r_{0} \\left(- cv_{12} \\left(- cv_{12} cv_{13} + cv_{23} s_{1}^{2}\\right) + cv_{13} \\left(- cv_{12}^{2} + s_{1}^{2} s_{2}^{2}\\right)\\right)}{\\left(- cv_{12}^{2} + s_{1}^{2} s_{2}^{2}\\right) \\left(- cv_{13}^{2} + s_{1}^{2} s_{3}^{2}\\right) - \\left(- cv_{12} cv_{13} + cv_{23} s_{1}^{2}\\right)^{2}} - \\frac{r_{1} s_{1}^{2} \\left(- cv_{12} cv_{13} + cv_{23} s_{1}^{2}\\right)}{\\left(- cv_{12}^{2} + s_{1}^{2} s_{2}^{2}\\right) \\left(- cv_{13}^{2} + s_{1}^{2} s_{3}^{2}\\right) - \\left(- cv_{12} cv_{13} + cv_{23} s_{1}^{2}\\right)^{2}} + \\frac{r_{2} s_{1}^{2} \\left(- cv_{12}^{2} + s_{1}^{2} s_{2}^{2}\\right)}{\\left(- cv_{12}^{2} + s_{1}^{2} s_{2}^{2}\\right) \\left(- cv_{13}^{2} + s_{1}^{2} s_{3}^{2}\\right) - \\left(- cv_{12} cv_{13} + cv_{23} s_{1}^{2}\\right)^{2}}\\right)\\end{matrix}\\right]$"
      ],
      "text/plain": [
       "Matrix([[r0*(r0*(s1**2*s2**2*((-cv12**2 + s1**2*s2**2)*(-cv13**2 + s1**2*s3**2) - (-cv12*cv13 + cv23*s1**2)**2) - (-cv12*(-cv12*cv13 + cv23*s1**2) + cv13*(-cv12**2 + s1**2*s2**2))*(cv12*(-cv12*cv13 + cv23*s1**2) - cv13*(-cv12**2 + s1**2*s2**2)))/(s1**2*(-cv12**2 + s1**2*s2**2)*((-cv12**2 + s1**2*s2**2)*(-cv13**2 + s1**2*s3**2) - (-cv12*cv13 + cv23*s1**2)**2)) + r1*(-cv12*((-cv12**2 + s1**2*s2**2)*(-cv13**2 + s1**2*s3**2) - (-cv12*cv13 + cv23*s1**2)**2) - (-cv12*cv13 + cv23*s1**2)*(cv12*(-cv12*cv13 + cv23*s1**2) - cv13*(-cv12**2 + s1**2*s2**2)))/((-cv12**2 + s1**2*s2**2)*((-cv12**2 + s1**2*s2**2)*(-cv13**2 + s1**2*s3**2) - (-cv12*cv13 + cv23*s1**2)**2)) + r2*(cv12*(-cv12*cv13 + cv23*s1**2) - cv13*(-cv12**2 + s1**2*s2**2))/((-cv12**2 + s1**2*s2**2)*(-cv13**2 + s1**2*s3**2) - (-cv12*cv13 + cv23*s1**2)**2)) + r1*(r0*(-cv12*s1**2*((-cv12**2 + s1**2*s2**2)*(-cv13**2 + s1**2*s3**2) - (-cv12*cv13 + cv23*s1**2)**2) + s1**2*(-cv12*cv13 + cv23*s1**2)*(-cv12*(-cv12*cv13 + cv23*s1**2) + cv13*(-cv12**2 + s1**2*s2**2)))/(s1**2*(-cv12**2 + s1**2*s2**2)*((-cv12**2 + s1**2*s2**2)*(-cv13**2 + s1**2*s3**2) - (-cv12*cv13 + cv23*s1**2)**2)) + r1*(s1**2*(-cv12*cv13 + cv23*s1**2)**2 + s1**2*((-cv12**2 + s1**2*s2**2)*(-cv13**2 + s1**2*s3**2) - (-cv12*cv13 + cv23*s1**2)**2))/((-cv12**2 + s1**2*s2**2)*((-cv12**2 + s1**2*s2**2)*(-cv13**2 + s1**2*s3**2) - (-cv12*cv13 + cv23*s1**2)**2)) - r2*s1**2*(-cv12*cv13 + cv23*s1**2)/((-cv12**2 + s1**2*s2**2)*(-cv13**2 + s1**2*s3**2) - (-cv12*cv13 + cv23*s1**2)**2)) + r2*(-r0*(-cv12*(-cv12*cv13 + cv23*s1**2) + cv13*(-cv12**2 + s1**2*s2**2))/((-cv12**2 + s1**2*s2**2)*(-cv13**2 + s1**2*s3**2) - (-cv12*cv13 + cv23*s1**2)**2) - r1*s1**2*(-cv12*cv13 + cv23*s1**2)/((-cv12**2 + s1**2*s2**2)*(-cv13**2 + s1**2*s3**2) - (-cv12*cv13 + cv23*s1**2)**2) + r2*s1**2*(-cv12**2 + s1**2*s2**2)/((-cv12**2 + s1**2*s2**2)*(-cv13**2 + s1**2*s3**2) - (-cv12*cv13 + cv23*s1**2)**2))]])"
      ]
     },
     "execution_count": 31,
     "metadata": {},
     "output_type": "execute_result"
    }
   ],
   "source": [
    "# B\n",
    "sB = E.T @ V.inv() @ E\n",
    "sB"
   ]
  },
  {
   "cell_type": "markdown",
   "metadata": {},
   "source": [
    "$$ C = \\mathbf{1}^T V^{-1} \\mathbf{1} = $$"
   ]
  },
  {
   "cell_type": "code",
   "execution_count": 32,
   "metadata": {},
   "outputs": [
    {
     "data": {
      "text/latex": [
       "$\\displaystyle \\left[\\begin{matrix}\\frac{s_{1}^{2} \\left(- cv_{12}^{2} + s_{1}^{2} s_{2}^{2}\\right)}{\\left(- cv_{12}^{2} + s_{1}^{2} s_{2}^{2}\\right) \\left(- cv_{13}^{2} + s_{1}^{2} s_{3}^{2}\\right) - \\left(- cv_{12} cv_{13} + cv_{23} s_{1}^{2}\\right)^{2}} - \\frac{2 s_{1}^{2} \\left(- cv_{12} cv_{13} + cv_{23} s_{1}^{2}\\right)}{\\left(- cv_{12}^{2} + s_{1}^{2} s_{2}^{2}\\right) \\left(- cv_{13}^{2} + s_{1}^{2} s_{3}^{2}\\right) - \\left(- cv_{12} cv_{13} + cv_{23} s_{1}^{2}\\right)^{2}} - \\frac{- cv_{12} \\left(- cv_{12} cv_{13} + cv_{23} s_{1}^{2}\\right) + cv_{13} \\left(- cv_{12}^{2} + s_{1}^{2} s_{2}^{2}\\right)}{\\left(- cv_{12}^{2} + s_{1}^{2} s_{2}^{2}\\right) \\left(- cv_{13}^{2} + s_{1}^{2} s_{3}^{2}\\right) - \\left(- cv_{12} cv_{13} + cv_{23} s_{1}^{2}\\right)^{2}} + \\frac{cv_{12} \\left(- cv_{12} cv_{13} + cv_{23} s_{1}^{2}\\right) - cv_{13} \\left(- cv_{12}^{2} + s_{1}^{2} s_{2}^{2}\\right)}{\\left(- cv_{12}^{2} + s_{1}^{2} s_{2}^{2}\\right) \\left(- cv_{13}^{2} + s_{1}^{2} s_{3}^{2}\\right) - \\left(- cv_{12} cv_{13} + cv_{23} s_{1}^{2}\\right)^{2}} + \\frac{- cv_{12} \\left(\\left(- cv_{12}^{2} + s_{1}^{2} s_{2}^{2}\\right) \\left(- cv_{13}^{2} + s_{1}^{2} s_{3}^{2}\\right) - \\left(- cv_{12} cv_{13} + cv_{23} s_{1}^{2}\\right)^{2}\\right) - \\left(- cv_{12} cv_{13} + cv_{23} s_{1}^{2}\\right) \\left(cv_{12} \\left(- cv_{12} cv_{13} + cv_{23} s_{1}^{2}\\right) - cv_{13} \\left(- cv_{12}^{2} + s_{1}^{2} s_{2}^{2}\\right)\\right)}{\\left(- cv_{12}^{2} + s_{1}^{2} s_{2}^{2}\\right) \\left(\\left(- cv_{12}^{2} + s_{1}^{2} s_{2}^{2}\\right) \\left(- cv_{13}^{2} + s_{1}^{2} s_{3}^{2}\\right) - \\left(- cv_{12} cv_{13} + cv_{23} s_{1}^{2}\\right)^{2}\\right)} + \\frac{s_{1}^{2} \\left(- cv_{12} cv_{13} + cv_{23} s_{1}^{2}\\right)^{2} + s_{1}^{2} \\left(\\left(- cv_{12}^{2} + s_{1}^{2} s_{2}^{2}\\right) \\left(- cv_{13}^{2} + s_{1}^{2} s_{3}^{2}\\right) - \\left(- cv_{12} cv_{13} + cv_{23} s_{1}^{2}\\right)^{2}\\right)}{\\left(- cv_{12}^{2} + s_{1}^{2} s_{2}^{2}\\right) \\left(\\left(- cv_{12}^{2} + s_{1}^{2} s_{2}^{2}\\right) \\left(- cv_{13}^{2} + s_{1}^{2} s_{3}^{2}\\right) - \\left(- cv_{12} cv_{13} + cv_{23} s_{1}^{2}\\right)^{2}\\right)} + \\frac{- cv_{12} s_{1}^{2} \\left(\\left(- cv_{12}^{2} + s_{1}^{2} s_{2}^{2}\\right) \\left(- cv_{13}^{2} + s_{1}^{2} s_{3}^{2}\\right) - \\left(- cv_{12} cv_{13} + cv_{23} s_{1}^{2}\\right)^{2}\\right) + s_{1}^{2} \\left(- cv_{12} cv_{13} + cv_{23} s_{1}^{2}\\right) \\left(- cv_{12} \\left(- cv_{12} cv_{13} + cv_{23} s_{1}^{2}\\right) + cv_{13} \\left(- cv_{12}^{2} + s_{1}^{2} s_{2}^{2}\\right)\\right)}{s_{1}^{2} \\left(- cv_{12}^{2} + s_{1}^{2} s_{2}^{2}\\right) \\left(\\left(- cv_{12}^{2} + s_{1}^{2} s_{2}^{2}\\right) \\left(- cv_{13}^{2} + s_{1}^{2} s_{3}^{2}\\right) - \\left(- cv_{12} cv_{13} + cv_{23} s_{1}^{2}\\right)^{2}\\right)} + \\frac{s_{1}^{2} s_{2}^{2} \\left(\\left(- cv_{12}^{2} + s_{1}^{2} s_{2}^{2}\\right) \\left(- cv_{13}^{2} + s_{1}^{2} s_{3}^{2}\\right) - \\left(- cv_{12} cv_{13} + cv_{23} s_{1}^{2}\\right)^{2}\\right) - \\left(- cv_{12} \\left(- cv_{12} cv_{13} + cv_{23} s_{1}^{2}\\right) + cv_{13} \\left(- cv_{12}^{2} + s_{1}^{2} s_{2}^{2}\\right)\\right) \\left(cv_{12} \\left(- cv_{12} cv_{13} + cv_{23} s_{1}^{2}\\right) - cv_{13} \\left(- cv_{12}^{2} + s_{1}^{2} s_{2}^{2}\\right)\\right)}{s_{1}^{2} \\left(- cv_{12}^{2} + s_{1}^{2} s_{2}^{2}\\right) \\left(\\left(- cv_{12}^{2} + s_{1}^{2} s_{2}^{2}\\right) \\left(- cv_{13}^{2} + s_{1}^{2} s_{3}^{2}\\right) - \\left(- cv_{12} cv_{13} + cv_{23} s_{1}^{2}\\right)^{2}\\right)}\\end{matrix}\\right]$"
      ],
      "text/plain": [
       "Matrix([[s1**2*(-cv12**2 + s1**2*s2**2)/((-cv12**2 + s1**2*s2**2)*(-cv13**2 + s1**2*s3**2) - (-cv12*cv13 + cv23*s1**2)**2) - 2*s1**2*(-cv12*cv13 + cv23*s1**2)/((-cv12**2 + s1**2*s2**2)*(-cv13**2 + s1**2*s3**2) - (-cv12*cv13 + cv23*s1**2)**2) - (-cv12*(-cv12*cv13 + cv23*s1**2) + cv13*(-cv12**2 + s1**2*s2**2))/((-cv12**2 + s1**2*s2**2)*(-cv13**2 + s1**2*s3**2) - (-cv12*cv13 + cv23*s1**2)**2) + (cv12*(-cv12*cv13 + cv23*s1**2) - cv13*(-cv12**2 + s1**2*s2**2))/((-cv12**2 + s1**2*s2**2)*(-cv13**2 + s1**2*s3**2) - (-cv12*cv13 + cv23*s1**2)**2) + (-cv12*((-cv12**2 + s1**2*s2**2)*(-cv13**2 + s1**2*s3**2) - (-cv12*cv13 + cv23*s1**2)**2) - (-cv12*cv13 + cv23*s1**2)*(cv12*(-cv12*cv13 + cv23*s1**2) - cv13*(-cv12**2 + s1**2*s2**2)))/((-cv12**2 + s1**2*s2**2)*((-cv12**2 + s1**2*s2**2)*(-cv13**2 + s1**2*s3**2) - (-cv12*cv13 + cv23*s1**2)**2)) + (s1**2*(-cv12*cv13 + cv23*s1**2)**2 + s1**2*((-cv12**2 + s1**2*s2**2)*(-cv13**2 + s1**2*s3**2) - (-cv12*cv13 + cv23*s1**2)**2))/((-cv12**2 + s1**2*s2**2)*((-cv12**2 + s1**2*s2**2)*(-cv13**2 + s1**2*s3**2) - (-cv12*cv13 + cv23*s1**2)**2)) + (-cv12*s1**2*((-cv12**2 + s1**2*s2**2)*(-cv13**2 + s1**2*s3**2) - (-cv12*cv13 + cv23*s1**2)**2) + s1**2*(-cv12*cv13 + cv23*s1**2)*(-cv12*(-cv12*cv13 + cv23*s1**2) + cv13*(-cv12**2 + s1**2*s2**2)))/(s1**2*(-cv12**2 + s1**2*s2**2)*((-cv12**2 + s1**2*s2**2)*(-cv13**2 + s1**2*s3**2) - (-cv12*cv13 + cv23*s1**2)**2)) + (s1**2*s2**2*((-cv12**2 + s1**2*s2**2)*(-cv13**2 + s1**2*s3**2) - (-cv12*cv13 + cv23*s1**2)**2) - (-cv12*(-cv12*cv13 + cv23*s1**2) + cv13*(-cv12**2 + s1**2*s2**2))*(cv12*(-cv12*cv13 + cv23*s1**2) - cv13*(-cv12**2 + s1**2*s2**2)))/(s1**2*(-cv12**2 + s1**2*s2**2)*((-cv12**2 + s1**2*s2**2)*(-cv13**2 + s1**2*s3**2) - (-cv12*cv13 + cv23*s1**2)**2))]])"
      ]
     },
     "execution_count": 32,
     "metadata": {},
     "output_type": "execute_result"
    }
   ],
   "source": [
    "sC = ws['ones3'].T @ V.inv() @ ws['ones3']\n",
    "sC"
   ]
  },
  {
   "cell_type": "markdown",
   "metadata": {},
   "source": [
    "$ D = BC - A^2  $"
   ]
  },
  {
   "cell_type": "code",
   "execution_count": 33,
   "metadata": {},
   "outputs": [
    {
     "data": {
      "text/latex": [
       "$\\displaystyle \\left[\\begin{matrix}- \\left(r_{0} \\left(\\frac{cv_{12} \\left(- cv_{12} cv_{13} + cv_{23} s_{1}^{2}\\right) - cv_{13} \\left(- cv_{12}^{2} + s_{1}^{2} s_{2}^{2}\\right)}{\\left(- cv_{12}^{2} + s_{1}^{2} s_{2}^{2}\\right) \\left(- cv_{13}^{2} + s_{1}^{2} s_{3}^{2}\\right) - \\left(- cv_{12} cv_{13} + cv_{23} s_{1}^{2}\\right)^{2}} + \\frac{- cv_{12} \\left(\\left(- cv_{12}^{2} + s_{1}^{2} s_{2}^{2}\\right) \\left(- cv_{13}^{2} + s_{1}^{2} s_{3}^{2}\\right) - \\left(- cv_{12} cv_{13} + cv_{23} s_{1}^{2}\\right)^{2}\\right) - \\left(- cv_{12} cv_{13} + cv_{23} s_{1}^{2}\\right) \\left(cv_{12} \\left(- cv_{12} cv_{13} + cv_{23} s_{1}^{2}\\right) - cv_{13} \\left(- cv_{12}^{2} + s_{1}^{2} s_{2}^{2}\\right)\\right)}{\\left(- cv_{12}^{2} + s_{1}^{2} s_{2}^{2}\\right) \\left(\\left(- cv_{12}^{2} + s_{1}^{2} s_{2}^{2}\\right) \\left(- cv_{13}^{2} + s_{1}^{2} s_{3}^{2}\\right) - \\left(- cv_{12} cv_{13} + cv_{23} s_{1}^{2}\\right)^{2}\\right)} + \\frac{s_{1}^{2} s_{2}^{2} \\left(\\left(- cv_{12}^{2} + s_{1}^{2} s_{2}^{2}\\right) \\left(- cv_{13}^{2} + s_{1}^{2} s_{3}^{2}\\right) - \\left(- cv_{12} cv_{13} + cv_{23} s_{1}^{2}\\right)^{2}\\right) - \\left(- cv_{12} \\left(- cv_{12} cv_{13} + cv_{23} s_{1}^{2}\\right) + cv_{13} \\left(- cv_{12}^{2} + s_{1}^{2} s_{2}^{2}\\right)\\right) \\left(cv_{12} \\left(- cv_{12} cv_{13} + cv_{23} s_{1}^{2}\\right) - cv_{13} \\left(- cv_{12}^{2} + s_{1}^{2} s_{2}^{2}\\right)\\right)}{s_{1}^{2} \\left(- cv_{12}^{2} + s_{1}^{2} s_{2}^{2}\\right) \\left(\\left(- cv_{12}^{2} + s_{1}^{2} s_{2}^{2}\\right) \\left(- cv_{13}^{2} + s_{1}^{2} s_{3}^{2}\\right) - \\left(- cv_{12} cv_{13} + cv_{23} s_{1}^{2}\\right)^{2}\\right)}\\right) + r_{1} \\left(- \\frac{s_{1}^{2} \\left(- cv_{12} cv_{13} + cv_{23} s_{1}^{2}\\right)}{\\left(- cv_{12}^{2} + s_{1}^{2} s_{2}^{2}\\right) \\left(- cv_{13}^{2} + s_{1}^{2} s_{3}^{2}\\right) - \\left(- cv_{12} cv_{13} + cv_{23} s_{1}^{2}\\right)^{2}} + \\frac{s_{1}^{2} \\left(- cv_{12} cv_{13} + cv_{23} s_{1}^{2}\\right)^{2} + s_{1}^{2} \\left(\\left(- cv_{12}^{2} + s_{1}^{2} s_{2}^{2}\\right) \\left(- cv_{13}^{2} + s_{1}^{2} s_{3}^{2}\\right) - \\left(- cv_{12} cv_{13} + cv_{23} s_{1}^{2}\\right)^{2}\\right)}{\\left(- cv_{12}^{2} + s_{1}^{2} s_{2}^{2}\\right) \\left(\\left(- cv_{12}^{2} + s_{1}^{2} s_{2}^{2}\\right) \\left(- cv_{13}^{2} + s_{1}^{2} s_{3}^{2}\\right) - \\left(- cv_{12} cv_{13} + cv_{23} s_{1}^{2}\\right)^{2}\\right)} + \\frac{- cv_{12} s_{1}^{2} \\left(\\left(- cv_{12}^{2} + s_{1}^{2} s_{2}^{2}\\right) \\left(- cv_{13}^{2} + s_{1}^{2} s_{3}^{2}\\right) - \\left(- cv_{12} cv_{13} + cv_{23} s_{1}^{2}\\right)^{2}\\right) + s_{1}^{2} \\left(- cv_{12} cv_{13} + cv_{23} s_{1}^{2}\\right) \\left(- cv_{12} \\left(- cv_{12} cv_{13} + cv_{23} s_{1}^{2}\\right) + cv_{13} \\left(- cv_{12}^{2} + s_{1}^{2} s_{2}^{2}\\right)\\right)}{s_{1}^{2} \\left(- cv_{12}^{2} + s_{1}^{2} s_{2}^{2}\\right) \\left(\\left(- cv_{12}^{2} + s_{1}^{2} s_{2}^{2}\\right) \\left(- cv_{13}^{2} + s_{1}^{2} s_{3}^{2}\\right) - \\left(- cv_{12} cv_{13} + cv_{23} s_{1}^{2}\\right)^{2}\\right)}\\right) + r_{2} \\left(\\frac{s_{1}^{2} \\left(- cv_{12}^{2} + s_{1}^{2} s_{2}^{2}\\right)}{\\left(- cv_{12}^{2} + s_{1}^{2} s_{2}^{2}\\right) \\left(- cv_{13}^{2} + s_{1}^{2} s_{3}^{2}\\right) - \\left(- cv_{12} cv_{13} + cv_{23} s_{1}^{2}\\right)^{2}} - \\frac{s_{1}^{2} \\left(- cv_{12} cv_{13} + cv_{23} s_{1}^{2}\\right)}{\\left(- cv_{12}^{2} + s_{1}^{2} s_{2}^{2}\\right) \\left(- cv_{13}^{2} + s_{1}^{2} s_{3}^{2}\\right) - \\left(- cv_{12} cv_{13} + cv_{23} s_{1}^{2}\\right)^{2}} - \\frac{- cv_{12} \\left(- cv_{12} cv_{13} + cv_{23} s_{1}^{2}\\right) + cv_{13} \\left(- cv_{12}^{2} + s_{1}^{2} s_{2}^{2}\\right)}{\\left(- cv_{12}^{2} + s_{1}^{2} s_{2}^{2}\\right) \\left(- cv_{13}^{2} + s_{1}^{2} s_{3}^{2}\\right) - \\left(- cv_{12} cv_{13} + cv_{23} s_{1}^{2}\\right)^{2}}\\right)\\right)^{2} + \\left(r_{0} \\left(\\frac{r_{0} \\left(s_{1}^{2} s_{2}^{2} \\left(\\left(- cv_{12}^{2} + s_{1}^{2} s_{2}^{2}\\right) \\left(- cv_{13}^{2} + s_{1}^{2} s_{3}^{2}\\right) - \\left(- cv_{12} cv_{13} + cv_{23} s_{1}^{2}\\right)^{2}\\right) - \\left(- cv_{12} \\left(- cv_{12} cv_{13} + cv_{23} s_{1}^{2}\\right) + cv_{13} \\left(- cv_{12}^{2} + s_{1}^{2} s_{2}^{2}\\right)\\right) \\left(cv_{12} \\left(- cv_{12} cv_{13} + cv_{23} s_{1}^{2}\\right) - cv_{13} \\left(- cv_{12}^{2} + s_{1}^{2} s_{2}^{2}\\right)\\right)\\right)}{s_{1}^{2} \\left(- cv_{12}^{2} + s_{1}^{2} s_{2}^{2}\\right) \\left(\\left(- cv_{12}^{2} + s_{1}^{2} s_{2}^{2}\\right) \\left(- cv_{13}^{2} + s_{1}^{2} s_{3}^{2}\\right) - \\left(- cv_{12} cv_{13} + cv_{23} s_{1}^{2}\\right)^{2}\\right)} + \\frac{r_{1} \\left(- cv_{12} \\left(\\left(- cv_{12}^{2} + s_{1}^{2} s_{2}^{2}\\right) \\left(- cv_{13}^{2} + s_{1}^{2} s_{3}^{2}\\right) - \\left(- cv_{12} cv_{13} + cv_{23} s_{1}^{2}\\right)^{2}\\right) - \\left(- cv_{12} cv_{13} + cv_{23} s_{1}^{2}\\right) \\left(cv_{12} \\left(- cv_{12} cv_{13} + cv_{23} s_{1}^{2}\\right) - cv_{13} \\left(- cv_{12}^{2} + s_{1}^{2} s_{2}^{2}\\right)\\right)\\right)}{\\left(- cv_{12}^{2} + s_{1}^{2} s_{2}^{2}\\right) \\left(\\left(- cv_{12}^{2} + s_{1}^{2} s_{2}^{2}\\right) \\left(- cv_{13}^{2} + s_{1}^{2} s_{3}^{2}\\right) - \\left(- cv_{12} cv_{13} + cv_{23} s_{1}^{2}\\right)^{2}\\right)} + \\frac{r_{2} \\left(cv_{12} \\left(- cv_{12} cv_{13} + cv_{23} s_{1}^{2}\\right) - cv_{13} \\left(- cv_{12}^{2} + s_{1}^{2} s_{2}^{2}\\right)\\right)}{\\left(- cv_{12}^{2} + s_{1}^{2} s_{2}^{2}\\right) \\left(- cv_{13}^{2} + s_{1}^{2} s_{3}^{2}\\right) - \\left(- cv_{12} cv_{13} + cv_{23} s_{1}^{2}\\right)^{2}}\\right) + r_{1} \\left(\\frac{r_{0} \\left(- cv_{12} s_{1}^{2} \\left(\\left(- cv_{12}^{2} + s_{1}^{2} s_{2}^{2}\\right) \\left(- cv_{13}^{2} + s_{1}^{2} s_{3}^{2}\\right) - \\left(- cv_{12} cv_{13} + cv_{23} s_{1}^{2}\\right)^{2}\\right) + s_{1}^{2} \\left(- cv_{12} cv_{13} + cv_{23} s_{1}^{2}\\right) \\left(- cv_{12} \\left(- cv_{12} cv_{13} + cv_{23} s_{1}^{2}\\right) + cv_{13} \\left(- cv_{12}^{2} + s_{1}^{2} s_{2}^{2}\\right)\\right)\\right)}{s_{1}^{2} \\left(- cv_{12}^{2} + s_{1}^{2} s_{2}^{2}\\right) \\left(\\left(- cv_{12}^{2} + s_{1}^{2} s_{2}^{2}\\right) \\left(- cv_{13}^{2} + s_{1}^{2} s_{3}^{2}\\right) - \\left(- cv_{12} cv_{13} + cv_{23} s_{1}^{2}\\right)^{2}\\right)} + \\frac{r_{1} \\left(s_{1}^{2} \\left(- cv_{12} cv_{13} + cv_{23} s_{1}^{2}\\right)^{2} + s_{1}^{2} \\left(\\left(- cv_{12}^{2} + s_{1}^{2} s_{2}^{2}\\right) \\left(- cv_{13}^{2} + s_{1}^{2} s_{3}^{2}\\right) - \\left(- cv_{12} cv_{13} + cv_{23} s_{1}^{2}\\right)^{2}\\right)\\right)}{\\left(- cv_{12}^{2} + s_{1}^{2} s_{2}^{2}\\right) \\left(\\left(- cv_{12}^{2} + s_{1}^{2} s_{2}^{2}\\right) \\left(- cv_{13}^{2} + s_{1}^{2} s_{3}^{2}\\right) - \\left(- cv_{12} cv_{13} + cv_{23} s_{1}^{2}\\right)^{2}\\right)} - \\frac{r_{2} s_{1}^{2} \\left(- cv_{12} cv_{13} + cv_{23} s_{1}^{2}\\right)}{\\left(- cv_{12}^{2} + s_{1}^{2} s_{2}^{2}\\right) \\left(- cv_{13}^{2} + s_{1}^{2} s_{3}^{2}\\right) - \\left(- cv_{12} cv_{13} + cv_{23} s_{1}^{2}\\right)^{2}}\\right) + r_{2} \\left(- \\frac{r_{0} \\left(- cv_{12} \\left(- cv_{12} cv_{13} + cv_{23} s_{1}^{2}\\right) + cv_{13} \\left(- cv_{12}^{2} + s_{1}^{2} s_{2}^{2}\\right)\\right)}{\\left(- cv_{12}^{2} + s_{1}^{2} s_{2}^{2}\\right) \\left(- cv_{13}^{2} + s_{1}^{2} s_{3}^{2}\\right) - \\left(- cv_{12} cv_{13} + cv_{23} s_{1}^{2}\\right)^{2}} - \\frac{r_{1} s_{1}^{2} \\left(- cv_{12} cv_{13} + cv_{23} s_{1}^{2}\\right)}{\\left(- cv_{12}^{2} + s_{1}^{2} s_{2}^{2}\\right) \\left(- cv_{13}^{2} + s_{1}^{2} s_{3}^{2}\\right) - \\left(- cv_{12} cv_{13} + cv_{23} s_{1}^{2}\\right)^{2}} + \\frac{r_{2} s_{1}^{2} \\left(- cv_{12}^{2} + s_{1}^{2} s_{2}^{2}\\right)}{\\left(- cv_{12}^{2} + s_{1}^{2} s_{2}^{2}\\right) \\left(- cv_{13}^{2} + s_{1}^{2} s_{3}^{2}\\right) - \\left(- cv_{12} cv_{13} + cv_{23} s_{1}^{2}\\right)^{2}}\\right)\\right) \\left(\\frac{s_{1}^{2} \\left(- cv_{12}^{2} + s_{1}^{2} s_{2}^{2}\\right)}{\\left(- cv_{12}^{2} + s_{1}^{2} s_{2}^{2}\\right) \\left(- cv_{13}^{2} + s_{1}^{2} s_{3}^{2}\\right) - \\left(- cv_{12} cv_{13} + cv_{23} s_{1}^{2}\\right)^{2}} - \\frac{2 s_{1}^{2} \\left(- cv_{12} cv_{13} + cv_{23} s_{1}^{2}\\right)}{\\left(- cv_{12}^{2} + s_{1}^{2} s_{2}^{2}\\right) \\left(- cv_{13}^{2} + s_{1}^{2} s_{3}^{2}\\right) - \\left(- cv_{12} cv_{13} + cv_{23} s_{1}^{2}\\right)^{2}} - \\frac{- cv_{12} \\left(- cv_{12} cv_{13} + cv_{23} s_{1}^{2}\\right) + cv_{13} \\left(- cv_{12}^{2} + s_{1}^{2} s_{2}^{2}\\right)}{\\left(- cv_{12}^{2} + s_{1}^{2} s_{2}^{2}\\right) \\left(- cv_{13}^{2} + s_{1}^{2} s_{3}^{2}\\right) - \\left(- cv_{12} cv_{13} + cv_{23} s_{1}^{2}\\right)^{2}} + \\frac{cv_{12} \\left(- cv_{12} cv_{13} + cv_{23} s_{1}^{2}\\right) - cv_{13} \\left(- cv_{12}^{2} + s_{1}^{2} s_{2}^{2}\\right)}{\\left(- cv_{12}^{2} + s_{1}^{2} s_{2}^{2}\\right) \\left(- cv_{13}^{2} + s_{1}^{2} s_{3}^{2}\\right) - \\left(- cv_{12} cv_{13} + cv_{23} s_{1}^{2}\\right)^{2}} + \\frac{- cv_{12} \\left(\\left(- cv_{12}^{2} + s_{1}^{2} s_{2}^{2}\\right) \\left(- cv_{13}^{2} + s_{1}^{2} s_{3}^{2}\\right) - \\left(- cv_{12} cv_{13} + cv_{23} s_{1}^{2}\\right)^{2}\\right) - \\left(- cv_{12} cv_{13} + cv_{23} s_{1}^{2}\\right) \\left(cv_{12} \\left(- cv_{12} cv_{13} + cv_{23} s_{1}^{2}\\right) - cv_{13} \\left(- cv_{12}^{2} + s_{1}^{2} s_{2}^{2}\\right)\\right)}{\\left(- cv_{12}^{2} + s_{1}^{2} s_{2}^{2}\\right) \\left(\\left(- cv_{12}^{2} + s_{1}^{2} s_{2}^{2}\\right) \\left(- cv_{13}^{2} + s_{1}^{2} s_{3}^{2}\\right) - \\left(- cv_{12} cv_{13} + cv_{23} s_{1}^{2}\\right)^{2}\\right)} + \\frac{s_{1}^{2} \\left(- cv_{12} cv_{13} + cv_{23} s_{1}^{2}\\right)^{2} + s_{1}^{2} \\left(\\left(- cv_{12}^{2} + s_{1}^{2} s_{2}^{2}\\right) \\left(- cv_{13}^{2} + s_{1}^{2} s_{3}^{2}\\right) - \\left(- cv_{12} cv_{13} + cv_{23} s_{1}^{2}\\right)^{2}\\right)}{\\left(- cv_{12}^{2} + s_{1}^{2} s_{2}^{2}\\right) \\left(\\left(- cv_{12}^{2} + s_{1}^{2} s_{2}^{2}\\right) \\left(- cv_{13}^{2} + s_{1}^{2} s_{3}^{2}\\right) - \\left(- cv_{12} cv_{13} + cv_{23} s_{1}^{2}\\right)^{2}\\right)} + \\frac{- cv_{12} s_{1}^{2} \\left(\\left(- cv_{12}^{2} + s_{1}^{2} s_{2}^{2}\\right) \\left(- cv_{13}^{2} + s_{1}^{2} s_{3}^{2}\\right) - \\left(- cv_{12} cv_{13} + cv_{23} s_{1}^{2}\\right)^{2}\\right) + s_{1}^{2} \\left(- cv_{12} cv_{13} + cv_{23} s_{1}^{2}\\right) \\left(- cv_{12} \\left(- cv_{12} cv_{13} + cv_{23} s_{1}^{2}\\right) + cv_{13} \\left(- cv_{12}^{2} + s_{1}^{2} s_{2}^{2}\\right)\\right)}{s_{1}^{2} \\left(- cv_{12}^{2} + s_{1}^{2} s_{2}^{2}\\right) \\left(\\left(- cv_{12}^{2} + s_{1}^{2} s_{2}^{2}\\right) \\left(- cv_{13}^{2} + s_{1}^{2} s_{3}^{2}\\right) - \\left(- cv_{12} cv_{13} + cv_{23} s_{1}^{2}\\right)^{2}\\right)} + \\frac{s_{1}^{2} s_{2}^{2} \\left(\\left(- cv_{12}^{2} + s_{1}^{2} s_{2}^{2}\\right) \\left(- cv_{13}^{2} + s_{1}^{2} s_{3}^{2}\\right) - \\left(- cv_{12} cv_{13} + cv_{23} s_{1}^{2}\\right)^{2}\\right) - \\left(- cv_{12} \\left(- cv_{12} cv_{13} + cv_{23} s_{1}^{2}\\right) + cv_{13} \\left(- cv_{12}^{2} + s_{1}^{2} s_{2}^{2}\\right)\\right) \\left(cv_{12} \\left(- cv_{12} cv_{13} + cv_{23} s_{1}^{2}\\right) - cv_{13} \\left(- cv_{12}^{2} + s_{1}^{2} s_{2}^{2}\\right)\\right)}{s_{1}^{2} \\left(- cv_{12}^{2} + s_{1}^{2} s_{2}^{2}\\right) \\left(\\left(- cv_{12}^{2} + s_{1}^{2} s_{2}^{2}\\right) \\left(- cv_{13}^{2} + s_{1}^{2} s_{3}^{2}\\right) - \\left(- cv_{12} cv_{13} + cv_{23} s_{1}^{2}\\right)^{2}\\right)}\\right)\\end{matrix}\\right]$"
      ],
      "text/plain": [
       "Matrix([[-(r0*((cv12*(-cv12*cv13 + cv23*s1**2) - cv13*(-cv12**2 + s1**2*s2**2))/((-cv12**2 + s1**2*s2**2)*(-cv13**2 + s1**2*s3**2) - (-cv12*cv13 + cv23*s1**2)**2) + (-cv12*((-cv12**2 + s1**2*s2**2)*(-cv13**2 + s1**2*s3**2) - (-cv12*cv13 + cv23*s1**2)**2) - (-cv12*cv13 + cv23*s1**2)*(cv12*(-cv12*cv13 + cv23*s1**2) - cv13*(-cv12**2 + s1**2*s2**2)))/((-cv12**2 + s1**2*s2**2)*((-cv12**2 + s1**2*s2**2)*(-cv13**2 + s1**2*s3**2) - (-cv12*cv13 + cv23*s1**2)**2)) + (s1**2*s2**2*((-cv12**2 + s1**2*s2**2)*(-cv13**2 + s1**2*s3**2) - (-cv12*cv13 + cv23*s1**2)**2) - (-cv12*(-cv12*cv13 + cv23*s1**2) + cv13*(-cv12**2 + s1**2*s2**2))*(cv12*(-cv12*cv13 + cv23*s1**2) - cv13*(-cv12**2 + s1**2*s2**2)))/(s1**2*(-cv12**2 + s1**2*s2**2)*((-cv12**2 + s1**2*s2**2)*(-cv13**2 + s1**2*s3**2) - (-cv12*cv13 + cv23*s1**2)**2))) + r1*(-s1**2*(-cv12*cv13 + cv23*s1**2)/((-cv12**2 + s1**2*s2**2)*(-cv13**2 + s1**2*s3**2) - (-cv12*cv13 + cv23*s1**2)**2) + (s1**2*(-cv12*cv13 + cv23*s1**2)**2 + s1**2*((-cv12**2 + s1**2*s2**2)*(-cv13**2 + s1**2*s3**2) - (-cv12*cv13 + cv23*s1**2)**2))/((-cv12**2 + s1**2*s2**2)*((-cv12**2 + s1**2*s2**2)*(-cv13**2 + s1**2*s3**2) - (-cv12*cv13 + cv23*s1**2)**2)) + (-cv12*s1**2*((-cv12**2 + s1**2*s2**2)*(-cv13**2 + s1**2*s3**2) - (-cv12*cv13 + cv23*s1**2)**2) + s1**2*(-cv12*cv13 + cv23*s1**2)*(-cv12*(-cv12*cv13 + cv23*s1**2) + cv13*(-cv12**2 + s1**2*s2**2)))/(s1**2*(-cv12**2 + s1**2*s2**2)*((-cv12**2 + s1**2*s2**2)*(-cv13**2 + s1**2*s3**2) - (-cv12*cv13 + cv23*s1**2)**2))) + r2*(s1**2*(-cv12**2 + s1**2*s2**2)/((-cv12**2 + s1**2*s2**2)*(-cv13**2 + s1**2*s3**2) - (-cv12*cv13 + cv23*s1**2)**2) - s1**2*(-cv12*cv13 + cv23*s1**2)/((-cv12**2 + s1**2*s2**2)*(-cv13**2 + s1**2*s3**2) - (-cv12*cv13 + cv23*s1**2)**2) - (-cv12*(-cv12*cv13 + cv23*s1**2) + cv13*(-cv12**2 + s1**2*s2**2))/((-cv12**2 + s1**2*s2**2)*(-cv13**2 + s1**2*s3**2) - (-cv12*cv13 + cv23*s1**2)**2)))**2 + (r0*(r0*(s1**2*s2**2*((-cv12**2 + s1**2*s2**2)*(-cv13**2 + s1**2*s3**2) - (-cv12*cv13 + cv23*s1**2)**2) - (-cv12*(-cv12*cv13 + cv23*s1**2) + cv13*(-cv12**2 + s1**2*s2**2))*(cv12*(-cv12*cv13 + cv23*s1**2) - cv13*(-cv12**2 + s1**2*s2**2)))/(s1**2*(-cv12**2 + s1**2*s2**2)*((-cv12**2 + s1**2*s2**2)*(-cv13**2 + s1**2*s3**2) - (-cv12*cv13 + cv23*s1**2)**2)) + r1*(-cv12*((-cv12**2 + s1**2*s2**2)*(-cv13**2 + s1**2*s3**2) - (-cv12*cv13 + cv23*s1**2)**2) - (-cv12*cv13 + cv23*s1**2)*(cv12*(-cv12*cv13 + cv23*s1**2) - cv13*(-cv12**2 + s1**2*s2**2)))/((-cv12**2 + s1**2*s2**2)*((-cv12**2 + s1**2*s2**2)*(-cv13**2 + s1**2*s3**2) - (-cv12*cv13 + cv23*s1**2)**2)) + r2*(cv12*(-cv12*cv13 + cv23*s1**2) - cv13*(-cv12**2 + s1**2*s2**2))/((-cv12**2 + s1**2*s2**2)*(-cv13**2 + s1**2*s3**2) - (-cv12*cv13 + cv23*s1**2)**2)) + r1*(r0*(-cv12*s1**2*((-cv12**2 + s1**2*s2**2)*(-cv13**2 + s1**2*s3**2) - (-cv12*cv13 + cv23*s1**2)**2) + s1**2*(-cv12*cv13 + cv23*s1**2)*(-cv12*(-cv12*cv13 + cv23*s1**2) + cv13*(-cv12**2 + s1**2*s2**2)))/(s1**2*(-cv12**2 + s1**2*s2**2)*((-cv12**2 + s1**2*s2**2)*(-cv13**2 + s1**2*s3**2) - (-cv12*cv13 + cv23*s1**2)**2)) + r1*(s1**2*(-cv12*cv13 + cv23*s1**2)**2 + s1**2*((-cv12**2 + s1**2*s2**2)*(-cv13**2 + s1**2*s3**2) - (-cv12*cv13 + cv23*s1**2)**2))/((-cv12**2 + s1**2*s2**2)*((-cv12**2 + s1**2*s2**2)*(-cv13**2 + s1**2*s3**2) - (-cv12*cv13 + cv23*s1**2)**2)) - r2*s1**2*(-cv12*cv13 + cv23*s1**2)/((-cv12**2 + s1**2*s2**2)*(-cv13**2 + s1**2*s3**2) - (-cv12*cv13 + cv23*s1**2)**2)) + r2*(-r0*(-cv12*(-cv12*cv13 + cv23*s1**2) + cv13*(-cv12**2 + s1**2*s2**2))/((-cv12**2 + s1**2*s2**2)*(-cv13**2 + s1**2*s3**2) - (-cv12*cv13 + cv23*s1**2)**2) - r1*s1**2*(-cv12*cv13 + cv23*s1**2)/((-cv12**2 + s1**2*s2**2)*(-cv13**2 + s1**2*s3**2) - (-cv12*cv13 + cv23*s1**2)**2) + r2*s1**2*(-cv12**2 + s1**2*s2**2)/((-cv12**2 + s1**2*s2**2)*(-cv13**2 + s1**2*s3**2) - (-cv12*cv13 + cv23*s1**2)**2)))*(s1**2*(-cv12**2 + s1**2*s2**2)/((-cv12**2 + s1**2*s2**2)*(-cv13**2 + s1**2*s3**2) - (-cv12*cv13 + cv23*s1**2)**2) - 2*s1**2*(-cv12*cv13 + cv23*s1**2)/((-cv12**2 + s1**2*s2**2)*(-cv13**2 + s1**2*s3**2) - (-cv12*cv13 + cv23*s1**2)**2) - (-cv12*(-cv12*cv13 + cv23*s1**2) + cv13*(-cv12**2 + s1**2*s2**2))/((-cv12**2 + s1**2*s2**2)*(-cv13**2 + s1**2*s3**2) - (-cv12*cv13 + cv23*s1**2)**2) + (cv12*(-cv12*cv13 + cv23*s1**2) - cv13*(-cv12**2 + s1**2*s2**2))/((-cv12**2 + s1**2*s2**2)*(-cv13**2 + s1**2*s3**2) - (-cv12*cv13 + cv23*s1**2)**2) + (-cv12*((-cv12**2 + s1**2*s2**2)*(-cv13**2 + s1**2*s3**2) - (-cv12*cv13 + cv23*s1**2)**2) - (-cv12*cv13 + cv23*s1**2)*(cv12*(-cv12*cv13 + cv23*s1**2) - cv13*(-cv12**2 + s1**2*s2**2)))/((-cv12**2 + s1**2*s2**2)*((-cv12**2 + s1**2*s2**2)*(-cv13**2 + s1**2*s3**2) - (-cv12*cv13 + cv23*s1**2)**2)) + (s1**2*(-cv12*cv13 + cv23*s1**2)**2 + s1**2*((-cv12**2 + s1**2*s2**2)*(-cv13**2 + s1**2*s3**2) - (-cv12*cv13 + cv23*s1**2)**2))/((-cv12**2 + s1**2*s2**2)*((-cv12**2 + s1**2*s2**2)*(-cv13**2 + s1**2*s3**2) - (-cv12*cv13 + cv23*s1**2)**2)) + (-cv12*s1**2*((-cv12**2 + s1**2*s2**2)*(-cv13**2 + s1**2*s3**2) - (-cv12*cv13 + cv23*s1**2)**2) + s1**2*(-cv12*cv13 + cv23*s1**2)*(-cv12*(-cv12*cv13 + cv23*s1**2) + cv13*(-cv12**2 + s1**2*s2**2)))/(s1**2*(-cv12**2 + s1**2*s2**2)*((-cv12**2 + s1**2*s2**2)*(-cv13**2 + s1**2*s3**2) - (-cv12*cv13 + cv23*s1**2)**2)) + (s1**2*s2**2*((-cv12**2 + s1**2*s2**2)*(-cv13**2 + s1**2*s3**2) - (-cv12*cv13 + cv23*s1**2)**2) - (-cv12*(-cv12*cv13 + cv23*s1**2) + cv13*(-cv12**2 + s1**2*s2**2))*(cv12*(-cv12*cv13 + cv23*s1**2) - cv13*(-cv12**2 + s1**2*s2**2)))/(s1**2*(-cv12**2 + s1**2*s2**2)*((-cv12**2 + s1**2*s2**2)*(-cv13**2 + s1**2*s3**2) - (-cv12*cv13 + cv23*s1**2)**2)))]])"
      ]
     },
     "execution_count": 33,
     "metadata": {},
     "output_type": "execute_result"
    }
   ],
   "source": [
    "sD = sB @ sC - sA**2\n",
    "sD"
   ]
  },
  {
   "cell_type": "code",
   "execution_count": 34,
   "metadata": {
    "collapsed": false,
    "jupyter": {
     "outputs_hidden": false
    },
    "lines_to_next_cell": 2,
    "pycharm": {
     "name": "#%%\n"
    }
   },
   "outputs": [
    {
     "data": {
      "text/latex": [
       "$\\displaystyle \\left[\\begin{matrix}- \\left(r_{0} \\left(\\frac{cv_{12} \\left(- cv_{12} cv_{13} + cv_{23} s_{1}^{2}\\right) - cv_{13} \\left(- cv_{12}^{2} + s_{1}^{2} s_{2}^{2}\\right)}{\\left(- cv_{12}^{2} + s_{1}^{2} s_{2}^{2}\\right) \\left(- cv_{13}^{2} + s_{1}^{2} s_{3}^{2}\\right) - \\left(- cv_{12} cv_{13} + cv_{23} s_{1}^{2}\\right)^{2}} + \\frac{- cv_{12} \\left(\\left(- cv_{12}^{2} + s_{1}^{2} s_{2}^{2}\\right) \\left(- cv_{13}^{2} + s_{1}^{2} s_{3}^{2}\\right) - \\left(- cv_{12} cv_{13} + cv_{23} s_{1}^{2}\\right)^{2}\\right) - \\left(- cv_{12} cv_{13} + cv_{23} s_{1}^{2}\\right) \\left(cv_{12} \\left(- cv_{12} cv_{13} + cv_{23} s_{1}^{2}\\right) - cv_{13} \\left(- cv_{12}^{2} + s_{1}^{2} s_{2}^{2}\\right)\\right)}{\\left(- cv_{12}^{2} + s_{1}^{2} s_{2}^{2}\\right) \\left(\\left(- cv_{12}^{2} + s_{1}^{2} s_{2}^{2}\\right) \\left(- cv_{13}^{2} + s_{1}^{2} s_{3}^{2}\\right) - \\left(- cv_{12} cv_{13} + cv_{23} s_{1}^{2}\\right)^{2}\\right)} + \\frac{s_{1}^{2} s_{2}^{2} \\left(\\left(- cv_{12}^{2} + s_{1}^{2} s_{2}^{2}\\right) \\left(- cv_{13}^{2} + s_{1}^{2} s_{3}^{2}\\right) - \\left(- cv_{12} cv_{13} + cv_{23} s_{1}^{2}\\right)^{2}\\right) - \\left(- cv_{12} \\left(- cv_{12} cv_{13} + cv_{23} s_{1}^{2}\\right) + cv_{13} \\left(- cv_{12}^{2} + s_{1}^{2} s_{2}^{2}\\right)\\right) \\left(cv_{12} \\left(- cv_{12} cv_{13} + cv_{23} s_{1}^{2}\\right) - cv_{13} \\left(- cv_{12}^{2} + s_{1}^{2} s_{2}^{2}\\right)\\right)}{s_{1}^{2} \\left(- cv_{12}^{2} + s_{1}^{2} s_{2}^{2}\\right) \\left(\\left(- cv_{12}^{2} + s_{1}^{2} s_{2}^{2}\\right) \\left(- cv_{13}^{2} + s_{1}^{2} s_{3}^{2}\\right) - \\left(- cv_{12} cv_{13} + cv_{23} s_{1}^{2}\\right)^{2}\\right)}\\right) + r_{1} \\left(- \\frac{s_{1}^{2} \\left(- cv_{12} cv_{13} + cv_{23} s_{1}^{2}\\right)}{\\left(- cv_{12}^{2} + s_{1}^{2} s_{2}^{2}\\right) \\left(- cv_{13}^{2} + s_{1}^{2} s_{3}^{2}\\right) - \\left(- cv_{12} cv_{13} + cv_{23} s_{1}^{2}\\right)^{2}} + \\frac{s_{1}^{2} \\left(- cv_{12} cv_{13} + cv_{23} s_{1}^{2}\\right)^{2} + s_{1}^{2} \\left(\\left(- cv_{12}^{2} + s_{1}^{2} s_{2}^{2}\\right) \\left(- cv_{13}^{2} + s_{1}^{2} s_{3}^{2}\\right) - \\left(- cv_{12} cv_{13} + cv_{23} s_{1}^{2}\\right)^{2}\\right)}{\\left(- cv_{12}^{2} + s_{1}^{2} s_{2}^{2}\\right) \\left(\\left(- cv_{12}^{2} + s_{1}^{2} s_{2}^{2}\\right) \\left(- cv_{13}^{2} + s_{1}^{2} s_{3}^{2}\\right) - \\left(- cv_{12} cv_{13} + cv_{23} s_{1}^{2}\\right)^{2}\\right)} + \\frac{- cv_{12} s_{1}^{2} \\left(\\left(- cv_{12}^{2} + s_{1}^{2} s_{2}^{2}\\right) \\left(- cv_{13}^{2} + s_{1}^{2} s_{3}^{2}\\right) - \\left(- cv_{12} cv_{13} + cv_{23} s_{1}^{2}\\right)^{2}\\right) + s_{1}^{2} \\left(- cv_{12} cv_{13} + cv_{23} s_{1}^{2}\\right) \\left(- cv_{12} \\left(- cv_{12} cv_{13} + cv_{23} s_{1}^{2}\\right) + cv_{13} \\left(- cv_{12}^{2} + s_{1}^{2} s_{2}^{2}\\right)\\right)}{s_{1}^{2} \\left(- cv_{12}^{2} + s_{1}^{2} s_{2}^{2}\\right) \\left(\\left(- cv_{12}^{2} + s_{1}^{2} s_{2}^{2}\\right) \\left(- cv_{13}^{2} + s_{1}^{2} s_{3}^{2}\\right) - \\left(- cv_{12} cv_{13} + cv_{23} s_{1}^{2}\\right)^{2}\\right)}\\right) + r_{2} \\left(\\frac{s_{1}^{2} \\left(- cv_{12}^{2} + s_{1}^{2} s_{2}^{2}\\right)}{\\left(- cv_{12}^{2} + s_{1}^{2} s_{2}^{2}\\right) \\left(- cv_{13}^{2} + s_{1}^{2} s_{3}^{2}\\right) - \\left(- cv_{12} cv_{13} + cv_{23} s_{1}^{2}\\right)^{2}} - \\frac{s_{1}^{2} \\left(- cv_{12} cv_{13} + cv_{23} s_{1}^{2}\\right)}{\\left(- cv_{12}^{2} + s_{1}^{2} s_{2}^{2}\\right) \\left(- cv_{13}^{2} + s_{1}^{2} s_{3}^{2}\\right) - \\left(- cv_{12} cv_{13} + cv_{23} s_{1}^{2}\\right)^{2}} - \\frac{- cv_{12} \\left(- cv_{12} cv_{13} + cv_{23} s_{1}^{2}\\right) + cv_{13} \\left(- cv_{12}^{2} + s_{1}^{2} s_{2}^{2}\\right)}{\\left(- cv_{12}^{2} + s_{1}^{2} s_{2}^{2}\\right) \\left(- cv_{13}^{2} + s_{1}^{2} s_{3}^{2}\\right) - \\left(- cv_{12} cv_{13} + cv_{23} s_{1}^{2}\\right)^{2}}\\right)\\right)^{2} + \\left(r_{0} \\left(\\frac{r_{0} \\left(s_{1}^{2} s_{2}^{2} \\left(\\left(- cv_{12}^{2} + s_{1}^{2} s_{2}^{2}\\right) \\left(- cv_{13}^{2} + s_{1}^{2} s_{3}^{2}\\right) - \\left(- cv_{12} cv_{13} + cv_{23} s_{1}^{2}\\right)^{2}\\right) - \\left(- cv_{12} \\left(- cv_{12} cv_{13} + cv_{23} s_{1}^{2}\\right) + cv_{13} \\left(- cv_{12}^{2} + s_{1}^{2} s_{2}^{2}\\right)\\right) \\left(cv_{12} \\left(- cv_{12} cv_{13} + cv_{23} s_{1}^{2}\\right) - cv_{13} \\left(- cv_{12}^{2} + s_{1}^{2} s_{2}^{2}\\right)\\right)\\right)}{s_{1}^{2} \\left(- cv_{12}^{2} + s_{1}^{2} s_{2}^{2}\\right) \\left(\\left(- cv_{12}^{2} + s_{1}^{2} s_{2}^{2}\\right) \\left(- cv_{13}^{2} + s_{1}^{2} s_{3}^{2}\\right) - \\left(- cv_{12} cv_{13} + cv_{23} s_{1}^{2}\\right)^{2}\\right)} + \\frac{r_{1} \\left(- cv_{12} \\left(\\left(- cv_{12}^{2} + s_{1}^{2} s_{2}^{2}\\right) \\left(- cv_{13}^{2} + s_{1}^{2} s_{3}^{2}\\right) - \\left(- cv_{12} cv_{13} + cv_{23} s_{1}^{2}\\right)^{2}\\right) - \\left(- cv_{12} cv_{13} + cv_{23} s_{1}^{2}\\right) \\left(cv_{12} \\left(- cv_{12} cv_{13} + cv_{23} s_{1}^{2}\\right) - cv_{13} \\left(- cv_{12}^{2} + s_{1}^{2} s_{2}^{2}\\right)\\right)\\right)}{\\left(- cv_{12}^{2} + s_{1}^{2} s_{2}^{2}\\right) \\left(\\left(- cv_{12}^{2} + s_{1}^{2} s_{2}^{2}\\right) \\left(- cv_{13}^{2} + s_{1}^{2} s_{3}^{2}\\right) - \\left(- cv_{12} cv_{13} + cv_{23} s_{1}^{2}\\right)^{2}\\right)} + \\frac{r_{2} \\left(cv_{12} \\left(- cv_{12} cv_{13} + cv_{23} s_{1}^{2}\\right) - cv_{13} \\left(- cv_{12}^{2} + s_{1}^{2} s_{2}^{2}\\right)\\right)}{\\left(- cv_{12}^{2} + s_{1}^{2} s_{2}^{2}\\right) \\left(- cv_{13}^{2} + s_{1}^{2} s_{3}^{2}\\right) - \\left(- cv_{12} cv_{13} + cv_{23} s_{1}^{2}\\right)^{2}}\\right) + r_{1} \\left(\\frac{r_{0} \\left(- cv_{12} s_{1}^{2} \\left(\\left(- cv_{12}^{2} + s_{1}^{2} s_{2}^{2}\\right) \\left(- cv_{13}^{2} + s_{1}^{2} s_{3}^{2}\\right) - \\left(- cv_{12} cv_{13} + cv_{23} s_{1}^{2}\\right)^{2}\\right) + s_{1}^{2} \\left(- cv_{12} cv_{13} + cv_{23} s_{1}^{2}\\right) \\left(- cv_{12} \\left(- cv_{12} cv_{13} + cv_{23} s_{1}^{2}\\right) + cv_{13} \\left(- cv_{12}^{2} + s_{1}^{2} s_{2}^{2}\\right)\\right)\\right)}{s_{1}^{2} \\left(- cv_{12}^{2} + s_{1}^{2} s_{2}^{2}\\right) \\left(\\left(- cv_{12}^{2} + s_{1}^{2} s_{2}^{2}\\right) \\left(- cv_{13}^{2} + s_{1}^{2} s_{3}^{2}\\right) - \\left(- cv_{12} cv_{13} + cv_{23} s_{1}^{2}\\right)^{2}\\right)} + \\frac{r_{1} \\left(s_{1}^{2} \\left(- cv_{12} cv_{13} + cv_{23} s_{1}^{2}\\right)^{2} + s_{1}^{2} \\left(\\left(- cv_{12}^{2} + s_{1}^{2} s_{2}^{2}\\right) \\left(- cv_{13}^{2} + s_{1}^{2} s_{3}^{2}\\right) - \\left(- cv_{12} cv_{13} + cv_{23} s_{1}^{2}\\right)^{2}\\right)\\right)}{\\left(- cv_{12}^{2} + s_{1}^{2} s_{2}^{2}\\right) \\left(\\left(- cv_{12}^{2} + s_{1}^{2} s_{2}^{2}\\right) \\left(- cv_{13}^{2} + s_{1}^{2} s_{3}^{2}\\right) - \\left(- cv_{12} cv_{13} + cv_{23} s_{1}^{2}\\right)^{2}\\right)} - \\frac{r_{2} s_{1}^{2} \\left(- cv_{12} cv_{13} + cv_{23} s_{1}^{2}\\right)}{\\left(- cv_{12}^{2} + s_{1}^{2} s_{2}^{2}\\right) \\left(- cv_{13}^{2} + s_{1}^{2} s_{3}^{2}\\right) - \\left(- cv_{12} cv_{13} + cv_{23} s_{1}^{2}\\right)^{2}}\\right) + r_{2} \\left(- \\frac{r_{0} \\left(- cv_{12} \\left(- cv_{12} cv_{13} + cv_{23} s_{1}^{2}\\right) + cv_{13} \\left(- cv_{12}^{2} + s_{1}^{2} s_{2}^{2}\\right)\\right)}{\\left(- cv_{12}^{2} + s_{1}^{2} s_{2}^{2}\\right) \\left(- cv_{13}^{2} + s_{1}^{2} s_{3}^{2}\\right) - \\left(- cv_{12} cv_{13} + cv_{23} s_{1}^{2}\\right)^{2}} - \\frac{r_{1} s_{1}^{2} \\left(- cv_{12} cv_{13} + cv_{23} s_{1}^{2}\\right)}{\\left(- cv_{12}^{2} + s_{1}^{2} s_{2}^{2}\\right) \\left(- cv_{13}^{2} + s_{1}^{2} s_{3}^{2}\\right) - \\left(- cv_{12} cv_{13} + cv_{23} s_{1}^{2}\\right)^{2}} + \\frac{r_{2} s_{1}^{2} \\left(- cv_{12}^{2} + s_{1}^{2} s_{2}^{2}\\right)}{\\left(- cv_{12}^{2} + s_{1}^{2} s_{2}^{2}\\right) \\left(- cv_{13}^{2} + s_{1}^{2} s_{3}^{2}\\right) - \\left(- cv_{12} cv_{13} + cv_{23} s_{1}^{2}\\right)^{2}}\\right)\\right) \\left(\\frac{s_{1}^{2} \\left(- cv_{12}^{2} + s_{1}^{2} s_{2}^{2}\\right)}{\\left(- cv_{12}^{2} + s_{1}^{2} s_{2}^{2}\\right) \\left(- cv_{13}^{2} + s_{1}^{2} s_{3}^{2}\\right) - \\left(- cv_{12} cv_{13} + cv_{23} s_{1}^{2}\\right)^{2}} - \\frac{2 s_{1}^{2} \\left(- cv_{12} cv_{13} + cv_{23} s_{1}^{2}\\right)}{\\left(- cv_{12}^{2} + s_{1}^{2} s_{2}^{2}\\right) \\left(- cv_{13}^{2} + s_{1}^{2} s_{3}^{2}\\right) - \\left(- cv_{12} cv_{13} + cv_{23} s_{1}^{2}\\right)^{2}} - \\frac{- cv_{12} \\left(- cv_{12} cv_{13} + cv_{23} s_{1}^{2}\\right) + cv_{13} \\left(- cv_{12}^{2} + s_{1}^{2} s_{2}^{2}\\right)}{\\left(- cv_{12}^{2} + s_{1}^{2} s_{2}^{2}\\right) \\left(- cv_{13}^{2} + s_{1}^{2} s_{3}^{2}\\right) - \\left(- cv_{12} cv_{13} + cv_{23} s_{1}^{2}\\right)^{2}} + \\frac{cv_{12} \\left(- cv_{12} cv_{13} + cv_{23} s_{1}^{2}\\right) - cv_{13} \\left(- cv_{12}^{2} + s_{1}^{2} s_{2}^{2}\\right)}{\\left(- cv_{12}^{2} + s_{1}^{2} s_{2}^{2}\\right) \\left(- cv_{13}^{2} + s_{1}^{2} s_{3}^{2}\\right) - \\left(- cv_{12} cv_{13} + cv_{23} s_{1}^{2}\\right)^{2}} + \\frac{- cv_{12} \\left(\\left(- cv_{12}^{2} + s_{1}^{2} s_{2}^{2}\\right) \\left(- cv_{13}^{2} + s_{1}^{2} s_{3}^{2}\\right) - \\left(- cv_{12} cv_{13} + cv_{23} s_{1}^{2}\\right)^{2}\\right) - \\left(- cv_{12} cv_{13} + cv_{23} s_{1}^{2}\\right) \\left(cv_{12} \\left(- cv_{12} cv_{13} + cv_{23} s_{1}^{2}\\right) - cv_{13} \\left(- cv_{12}^{2} + s_{1}^{2} s_{2}^{2}\\right)\\right)}{\\left(- cv_{12}^{2} + s_{1}^{2} s_{2}^{2}\\right) \\left(\\left(- cv_{12}^{2} + s_{1}^{2} s_{2}^{2}\\right) \\left(- cv_{13}^{2} + s_{1}^{2} s_{3}^{2}\\right) - \\left(- cv_{12} cv_{13} + cv_{23} s_{1}^{2}\\right)^{2}\\right)} + \\frac{s_{1}^{2} \\left(- cv_{12} cv_{13} + cv_{23} s_{1}^{2}\\right)^{2} + s_{1}^{2} \\left(\\left(- cv_{12}^{2} + s_{1}^{2} s_{2}^{2}\\right) \\left(- cv_{13}^{2} + s_{1}^{2} s_{3}^{2}\\right) - \\left(- cv_{12} cv_{13} + cv_{23} s_{1}^{2}\\right)^{2}\\right)}{\\left(- cv_{12}^{2} + s_{1}^{2} s_{2}^{2}\\right) \\left(\\left(- cv_{12}^{2} + s_{1}^{2} s_{2}^{2}\\right) \\left(- cv_{13}^{2} + s_{1}^{2} s_{3}^{2}\\right) - \\left(- cv_{12} cv_{13} + cv_{23} s_{1}^{2}\\right)^{2}\\right)} + \\frac{- cv_{12} s_{1}^{2} \\left(\\left(- cv_{12}^{2} + s_{1}^{2} s_{2}^{2}\\right) \\left(- cv_{13}^{2} + s_{1}^{2} s_{3}^{2}\\right) - \\left(- cv_{12} cv_{13} + cv_{23} s_{1}^{2}\\right)^{2}\\right) + s_{1}^{2} \\left(- cv_{12} cv_{13} + cv_{23} s_{1}^{2}\\right) \\left(- cv_{12} \\left(- cv_{12} cv_{13} + cv_{23} s_{1}^{2}\\right) + cv_{13} \\left(- cv_{12}^{2} + s_{1}^{2} s_{2}^{2}\\right)\\right)}{s_{1}^{2} \\left(- cv_{12}^{2} + s_{1}^{2} s_{2}^{2}\\right) \\left(\\left(- cv_{12}^{2} + s_{1}^{2} s_{2}^{2}\\right) \\left(- cv_{13}^{2} + s_{1}^{2} s_{3}^{2}\\right) - \\left(- cv_{12} cv_{13} + cv_{23} s_{1}^{2}\\right)^{2}\\right)} + \\frac{s_{1}^{2} s_{2}^{2} \\left(\\left(- cv_{12}^{2} + s_{1}^{2} s_{2}^{2}\\right) \\left(- cv_{13}^{2} + s_{1}^{2} s_{3}^{2}\\right) - \\left(- cv_{12} cv_{13} + cv_{23} s_{1}^{2}\\right)^{2}\\right) - \\left(- cv_{12} \\left(- cv_{12} cv_{13} + cv_{23} s_{1}^{2}\\right) + cv_{13} \\left(- cv_{12}^{2} + s_{1}^{2} s_{2}^{2}\\right)\\right) \\left(cv_{12} \\left(- cv_{12} cv_{13} + cv_{23} s_{1}^{2}\\right) - cv_{13} \\left(- cv_{12}^{2} + s_{1}^{2} s_{2}^{2}\\right)\\right)}{s_{1}^{2} \\left(- cv_{12}^{2} + s_{1}^{2} s_{2}^{2}\\right) \\left(\\left(- cv_{12}^{2} + s_{1}^{2} s_{2}^{2}\\right) \\left(- cv_{13}^{2} + s_{1}^{2} s_{3}^{2}\\right) - \\left(- cv_{12} cv_{13} + cv_{23} s_{1}^{2}\\right)^{2}\\right)}\\right)\\end{matrix}\\right]$"
      ],
      "text/plain": [
       "Matrix([[-(r0*((cv12*(-cv12*cv13 + cv23*s1**2) - cv13*(-cv12**2 + s1**2*s2**2))/((-cv12**2 + s1**2*s2**2)*(-cv13**2 + s1**2*s3**2) - (-cv12*cv13 + cv23*s1**2)**2) + (-cv12*((-cv12**2 + s1**2*s2**2)*(-cv13**2 + s1**2*s3**2) - (-cv12*cv13 + cv23*s1**2)**2) - (-cv12*cv13 + cv23*s1**2)*(cv12*(-cv12*cv13 + cv23*s1**2) - cv13*(-cv12**2 + s1**2*s2**2)))/((-cv12**2 + s1**2*s2**2)*((-cv12**2 + s1**2*s2**2)*(-cv13**2 + s1**2*s3**2) - (-cv12*cv13 + cv23*s1**2)**2)) + (s1**2*s2**2*((-cv12**2 + s1**2*s2**2)*(-cv13**2 + s1**2*s3**2) - (-cv12*cv13 + cv23*s1**2)**2) - (-cv12*(-cv12*cv13 + cv23*s1**2) + cv13*(-cv12**2 + s1**2*s2**2))*(cv12*(-cv12*cv13 + cv23*s1**2) - cv13*(-cv12**2 + s1**2*s2**2)))/(s1**2*(-cv12**2 + s1**2*s2**2)*((-cv12**2 + s1**2*s2**2)*(-cv13**2 + s1**2*s3**2) - (-cv12*cv13 + cv23*s1**2)**2))) + r1*(-s1**2*(-cv12*cv13 + cv23*s1**2)/((-cv12**2 + s1**2*s2**2)*(-cv13**2 + s1**2*s3**2) - (-cv12*cv13 + cv23*s1**2)**2) + (s1**2*(-cv12*cv13 + cv23*s1**2)**2 + s1**2*((-cv12**2 + s1**2*s2**2)*(-cv13**2 + s1**2*s3**2) - (-cv12*cv13 + cv23*s1**2)**2))/((-cv12**2 + s1**2*s2**2)*((-cv12**2 + s1**2*s2**2)*(-cv13**2 + s1**2*s3**2) - (-cv12*cv13 + cv23*s1**2)**2)) + (-cv12*s1**2*((-cv12**2 + s1**2*s2**2)*(-cv13**2 + s1**2*s3**2) - (-cv12*cv13 + cv23*s1**2)**2) + s1**2*(-cv12*cv13 + cv23*s1**2)*(-cv12*(-cv12*cv13 + cv23*s1**2) + cv13*(-cv12**2 + s1**2*s2**2)))/(s1**2*(-cv12**2 + s1**2*s2**2)*((-cv12**2 + s1**2*s2**2)*(-cv13**2 + s1**2*s3**2) - (-cv12*cv13 + cv23*s1**2)**2))) + r2*(s1**2*(-cv12**2 + s1**2*s2**2)/((-cv12**2 + s1**2*s2**2)*(-cv13**2 + s1**2*s3**2) - (-cv12*cv13 + cv23*s1**2)**2) - s1**2*(-cv12*cv13 + cv23*s1**2)/((-cv12**2 + s1**2*s2**2)*(-cv13**2 + s1**2*s3**2) - (-cv12*cv13 + cv23*s1**2)**2) - (-cv12*(-cv12*cv13 + cv23*s1**2) + cv13*(-cv12**2 + s1**2*s2**2))/((-cv12**2 + s1**2*s2**2)*(-cv13**2 + s1**2*s3**2) - (-cv12*cv13 + cv23*s1**2)**2)))**2 + (r0*(r0*(s1**2*s2**2*((-cv12**2 + s1**2*s2**2)*(-cv13**2 + s1**2*s3**2) - (-cv12*cv13 + cv23*s1**2)**2) - (-cv12*(-cv12*cv13 + cv23*s1**2) + cv13*(-cv12**2 + s1**2*s2**2))*(cv12*(-cv12*cv13 + cv23*s1**2) - cv13*(-cv12**2 + s1**2*s2**2)))/(s1**2*(-cv12**2 + s1**2*s2**2)*((-cv12**2 + s1**2*s2**2)*(-cv13**2 + s1**2*s3**2) - (-cv12*cv13 + cv23*s1**2)**2)) + r1*(-cv12*((-cv12**2 + s1**2*s2**2)*(-cv13**2 + s1**2*s3**2) - (-cv12*cv13 + cv23*s1**2)**2) - (-cv12*cv13 + cv23*s1**2)*(cv12*(-cv12*cv13 + cv23*s1**2) - cv13*(-cv12**2 + s1**2*s2**2)))/((-cv12**2 + s1**2*s2**2)*((-cv12**2 + s1**2*s2**2)*(-cv13**2 + s1**2*s3**2) - (-cv12*cv13 + cv23*s1**2)**2)) + r2*(cv12*(-cv12*cv13 + cv23*s1**2) - cv13*(-cv12**2 + s1**2*s2**2))/((-cv12**2 + s1**2*s2**2)*(-cv13**2 + s1**2*s3**2) - (-cv12*cv13 + cv23*s1**2)**2)) + r1*(r0*(-cv12*s1**2*((-cv12**2 + s1**2*s2**2)*(-cv13**2 + s1**2*s3**2) - (-cv12*cv13 + cv23*s1**2)**2) + s1**2*(-cv12*cv13 + cv23*s1**2)*(-cv12*(-cv12*cv13 + cv23*s1**2) + cv13*(-cv12**2 + s1**2*s2**2)))/(s1**2*(-cv12**2 + s1**2*s2**2)*((-cv12**2 + s1**2*s2**2)*(-cv13**2 + s1**2*s3**2) - (-cv12*cv13 + cv23*s1**2)**2)) + r1*(s1**2*(-cv12*cv13 + cv23*s1**2)**2 + s1**2*((-cv12**2 + s1**2*s2**2)*(-cv13**2 + s1**2*s3**2) - (-cv12*cv13 + cv23*s1**2)**2))/((-cv12**2 + s1**2*s2**2)*((-cv12**2 + s1**2*s2**2)*(-cv13**2 + s1**2*s3**2) - (-cv12*cv13 + cv23*s1**2)**2)) - r2*s1**2*(-cv12*cv13 + cv23*s1**2)/((-cv12**2 + s1**2*s2**2)*(-cv13**2 + s1**2*s3**2) - (-cv12*cv13 + cv23*s1**2)**2)) + r2*(-r0*(-cv12*(-cv12*cv13 + cv23*s1**2) + cv13*(-cv12**2 + s1**2*s2**2))/((-cv12**2 + s1**2*s2**2)*(-cv13**2 + s1**2*s3**2) - (-cv12*cv13 + cv23*s1**2)**2) - r1*s1**2*(-cv12*cv13 + cv23*s1**2)/((-cv12**2 + s1**2*s2**2)*(-cv13**2 + s1**2*s3**2) - (-cv12*cv13 + cv23*s1**2)**2) + r2*s1**2*(-cv12**2 + s1**2*s2**2)/((-cv12**2 + s1**2*s2**2)*(-cv13**2 + s1**2*s3**2) - (-cv12*cv13 + cv23*s1**2)**2)))*(s1**2*(-cv12**2 + s1**2*s2**2)/((-cv12**2 + s1**2*s2**2)*(-cv13**2 + s1**2*s3**2) - (-cv12*cv13 + cv23*s1**2)**2) - 2*s1**2*(-cv12*cv13 + cv23*s1**2)/((-cv12**2 + s1**2*s2**2)*(-cv13**2 + s1**2*s3**2) - (-cv12*cv13 + cv23*s1**2)**2) - (-cv12*(-cv12*cv13 + cv23*s1**2) + cv13*(-cv12**2 + s1**2*s2**2))/((-cv12**2 + s1**2*s2**2)*(-cv13**2 + s1**2*s3**2) - (-cv12*cv13 + cv23*s1**2)**2) + (cv12*(-cv12*cv13 + cv23*s1**2) - cv13*(-cv12**2 + s1**2*s2**2))/((-cv12**2 + s1**2*s2**2)*(-cv13**2 + s1**2*s3**2) - (-cv12*cv13 + cv23*s1**2)**2) + (-cv12*((-cv12**2 + s1**2*s2**2)*(-cv13**2 + s1**2*s3**2) - (-cv12*cv13 + cv23*s1**2)**2) - (-cv12*cv13 + cv23*s1**2)*(cv12*(-cv12*cv13 + cv23*s1**2) - cv13*(-cv12**2 + s1**2*s2**2)))/((-cv12**2 + s1**2*s2**2)*((-cv12**2 + s1**2*s2**2)*(-cv13**2 + s1**2*s3**2) - (-cv12*cv13 + cv23*s1**2)**2)) + (s1**2*(-cv12*cv13 + cv23*s1**2)**2 + s1**2*((-cv12**2 + s1**2*s2**2)*(-cv13**2 + s1**2*s3**2) - (-cv12*cv13 + cv23*s1**2)**2))/((-cv12**2 + s1**2*s2**2)*((-cv12**2 + s1**2*s2**2)*(-cv13**2 + s1**2*s3**2) - (-cv12*cv13 + cv23*s1**2)**2)) + (-cv12*s1**2*((-cv12**2 + s1**2*s2**2)*(-cv13**2 + s1**2*s3**2) - (-cv12*cv13 + cv23*s1**2)**2) + s1**2*(-cv12*cv13 + cv23*s1**2)*(-cv12*(-cv12*cv13 + cv23*s1**2) + cv13*(-cv12**2 + s1**2*s2**2)))/(s1**2*(-cv12**2 + s1**2*s2**2)*((-cv12**2 + s1**2*s2**2)*(-cv13**2 + s1**2*s3**2) - (-cv12*cv13 + cv23*s1**2)**2)) + (s1**2*s2**2*((-cv12**2 + s1**2*s2**2)*(-cv13**2 + s1**2*s3**2) - (-cv12*cv13 + cv23*s1**2)**2) - (-cv12*(-cv12*cv13 + cv23*s1**2) + cv13*(-cv12**2 + s1**2*s2**2))*(cv12*(-cv12*cv13 + cv23*s1**2) - cv13*(-cv12**2 + s1**2*s2**2)))/(s1**2*(-cv12**2 + s1**2*s2**2)*((-cv12**2 + s1**2*s2**2)*(-cv13**2 + s1**2*s3**2) - (-cv12*cv13 + cv23*s1**2)**2)))]])"
      ]
     },
     "execution_count": 34,
     "metadata": {},
     "output_type": "execute_result"
    }
   ],
   "source": [
    "# hmmmm\n",
    "sym.factor(sD)"
   ]
  },
  {
   "cell_type": "markdown",
   "metadata": {
    "pycharm": {
     "name": "#%% md\n"
    }
   },
   "source": [
    "workspace final contents:"
   ]
  },
  {
   "cell_type": "code",
   "execution_count": 35,
   "metadata": {
    "collapsed": false,
    "jupyter": {
     "outputs_hidden": false
    },
    "pycharm": {
     "name": "#%%\n"
    }
   },
   "outputs": [
    {
     "name": "stdout",
     "output_type": "stream",
     "text": [
      "         a <class 'sympy.matrices.dense.MutableDenseMatrix'>\n",
      "         b <class 'sympy.matrices.dense.MutableDenseMatrix'>\n",
      "         c <class 'sympy.matrices.dense.MutableDenseMatrix'>\n",
      "      cor3 <class 'sympy.matrices.dense.MutableDenseMatrix'>\n",
      "      cov3 <class 'sympy.matrices.dense.MutableDenseMatrix'>\n",
      "         d <class 'sympy.matrices.dense.MutableDenseMatrix'>\n",
      "   dateEnd <class 'str'>\n",
      " dateStart <class 'str'>\n",
      "      fmuA <class 'sympy.matrices.immutable.ImmutableDenseMatrix'>\n",
      "      fmuB <class 'sympy.matrices.immutable.ImmutableDenseMatrix'>\n",
      "       mu3 <class 'sympy.matrices.dense.MutableDenseMatrix'>\n",
      "oneOverVol <class 'sympy.matrices.dense.MutableDenseMatrix'>\n",
      "     ones3 <class 'sympy.matrices.dense.MutableDenseMatrix'>\n",
      "      prec <class 'int'>\n",
      "      sgma <class 'sympy.matrices.immutable.ImmutableDenseMatrix'>\n",
      "  sigmaEqn <class 'sympy.core.power.Pow'>\n",
      "      vol3 <class 'sympy.matrices.dense.MutableDenseMatrix'>\n"
     ]
    }
   ],
   "source": [
    "ws['dateEnd'] = datetime.datetime.now().isoformat()[:16].replace(':','')\n",
    "\n",
    "for k in sorted(ws): print(\"%10s\" % k, type(ws[k]))\n",
    "\n",
    "\n",
    "\n"
   ]
  },
  {
   "cell_type": "code",
   "execution_count": null,
   "metadata": {
    "collapsed": false,
    "jupyter": {
     "outputs_hidden": false
    },
    "lines_to_next_cell": 3,
    "pycharm": {
     "name": "#%%\n"
    }
   },
   "outputs": [],
   "source": []
  }
 ],
 "metadata": {
  "jupytext": {
   "formats": "ipynb,py:percent"
  },
  "kernelspec": {
   "display_name": "Python 3",
   "language": "python",
   "name": "python3"
  },
  "language_info": {
   "codemirror_mode": {
    "name": "ipython",
    "version": 3
   },
   "file_extension": ".py",
   "mimetype": "text/x-python",
   "name": "python",
   "nbconvert_exporter": "python",
   "pygments_lexer": "ipython3",
   "version": "3.8.0"
  }
 },
 "nbformat": 4,
 "nbformat_minor": 4
}
