{
 "cells": [
  {
   "cell_type": "code",
   "execution_count": 10,
   "metadata": {
    "pycharm": {
     "is_executing": false
    }
   },
   "outputs": [],
   "source": [
    "#%matplotlib inline\n",
    "#%autosave 60\n",
    "#%auto\n",
    "#typeset_mode(True, display=true)\n",
    "# date today"
   ]
  },
  {
   "cell_type": "markdown",
   "source": [
    "[//]: # (table styling via markdown) \n",
    "<style> table.dataframe { font-size:70%; } \n",
    "        body            { font-size:70%}\n",
    "</style>"
   ],
   "metadata": {
    "collapsed": false
   }
  },
  {
   "cell_type": "markdown",
   "source": [
    "# Efficient Frontier Stuff\n",
    "\n",
    "1 [Formulae](#1)  \n",
    " 1.1 [Hyperbolae](#1.1)  \n",
    " 1.2 [Solve for sigma](#1.2)    \n",
    " 1.3 [Solve for mu](#1.3)  \n",
    " 1.4 [Efficient frontier minimum](#1.4)  \n",
    " 1.5 [sigma & mu at minimum](#1.5)\n",
    "\n",
    "2 [Solve for sigma & mu using sympy](#2)\n",
    "\n",
    "3 [Numerical example](#3)\n",
    "\n",
    "4 [Plot symbolic equation](#4)\n",
    "\n",
    "5 [Explicit formulae - for 3 assets](#5)"
   ],
   "metadata": {
    "collapsed": false,
    "pycharm": {
     "name": "#%% md\n"
    }
   }
  },
  {
   "cell_type": "markdown",
   "source": [
    "do imports, keep variables in a dict as a workspace"
   ],
   "metadata": {
    "collapsed": false,
    "pycharm": {
     "name": "#%% md\n"
    }
   }
  },
  {
   "cell_type": "code",
   "execution_count": 11,
   "metadata": {
    "pycharm": {
     "is_executing": false
    }
   },
   "outputs": [
    {
     "name": "stdout",
     "text": [
      "imports done\n"
     ],
     "output_type": "stream"
    },
    {
     "data": {
      "text/plain": "{'date': '2020-04-03T1710'}"
     },
     "metadata": {},
     "output_type": "execute_result",
     "execution_count": 11
    }
   ],
   "source": [
    "# all imports: for symbolic manipulation and for numerical example\n",
    "import datetime\n",
    "import sympy as sym\n",
    "from sympy.matrices import matrix_multiply_elementwise as mme\n",
    "from sympy.plotting import plot as symplot\n",
    "import IPython.display as disp\n",
    "import numpy as np\n",
    "from numpy import linalg as LA\n",
    "print(\"imports done\")\n",
    "\n",
    "ws = {}\n",
    "ws['date'] = datetime.datetime.now().isoformat()[:16].replace(':','')\n",
    "ws\n"
   ]
  },
  {
   "cell_type": "markdown",
   "metadata": {},
   "source": [
    "## 1 Efficient Frontier Formulae Manipulations <a class=\"anchor\" id=\"1\"></a>\n",
    "\n",
    "This note shows some manipulations for the hyperbola curve of the efficient frontier.\n",
    "\n",
    "1. Re-arrange efficient frontier equation for risk($\\sigma$) and for return($\\mu$)\n",
    "\n",
    "2. Calculate intermediate scalars A,B,C,D from matrix of covariance and vector of returns, numerically and symbolically\n",
    "\n",
    "3. Plot hyperbola of risk/return\n",
    "\n",
    "4. Derive mimimum risk = hyperbola and apex\n",
    "\n",
    "Reference (using their notation): Beste, Leventhal, Williams, & Dr. Qin Lu \"Markowitz Review Paper\" http://ramanujan.math.trinity.edu/tumath/research/studpapers/s21.pdf \n",
    "\n",
    "\n",
    "### 1.1 hyperbola equation <a class=\"anchor\" id=\"1.1\"></a>\n",
    "\n",
    "efficient frontier hyperbola:\n",
    "\n",
    "$$ \\frac{\\sigma^2}{1/C} - \\frac{(\\mu - A/C)^2}{D/C^2} = 1 $$\n",
    "\n",
    "\n",
    "where:\n",
    "\n",
    "$$ A = \\mathbf{1}^T V^{-1} e = e^T V^{-1}\\mathbf{1} $$\n",
    "\n",
    "$$ B = e^T V^{-1} e $$\n",
    "\n",
    "$$ C = \\mathbf{1}^T V^{-1} \\mathbf{1} $$\n",
    "\n",
    "$$ D = BC - A^2 $$\n",
    "\n",
    "$e$ = expected returns vector\n",
    "\n",
    "$V$ = covariance matrix\n",
    "\n",
    "$\\mathbf{1}$ = Identity Matrix\n",
    "\n",
    "### 1.2: solve for sigma: $\\sigma$ <a class=\"anchor\" id=\"1.2\"></a>\n",
    "\n",
    "$$ \\frac{\\sigma^2}{(1/C)} - \\frac{(\\mu - A/C)^2}{(D/C^2)} = 1 $$\n",
    "\n",
    "$$ \\frac{\\sigma^2}{(1/C)} = 1 + \\frac{(\\mu - A/C)^2}{(D/C^2)} $$\n",
    "\n",
    "divide by $C$:\n",
    "\n",
    "$$ \\frac{\\sigma^2}{(C/C)} = \\frac{1}{C} + \\frac{(\\mu - A/C)^2}{(DC/C^2)} $$\n",
    "\n",
    "$$ \\sigma^2 = \\frac{1}{C} + \\frac{(\\mu - A/C)^2}{(D/C)} $$\n",
    "\n",
    "$$ \\sigma^2 = \\frac{1}{C} + \\frac{(\\mu - A/C)^2C}{D} $$\n",
    "\n",
    "$$ \\sigma^2 = \\frac{1}{C} + \\frac{\\mu^2C - 2\\mu A + A^2/C}{D} $$\n",
    "\n",
    "$$ \\sigma^2 = \\frac{D + \\mu^2C^2 - 2\\mu AC + A^2}{CD} $$\n",
    "\n",
    "$$ \\sigma^2 = \\frac{D + (\\mu C -A)^2}{CD} $$\n",
    "\n",
    "$$ \\sigma = \\sqrt{\\frac{D + (\\mu C -A)^2}{CD}} $$\n",
    "\n",
    "### 1.3: solve for mu: $\\mu$ <a class=\"anchor\" id=\"1.3\"></a>\n",
    "\n",
    "$$ \\frac{\\sigma^2}{(1/C)} - \\frac{(\\mu - A/C)^2}{(D/C^2)} = 1 $$\n",
    "\n",
    "$$ \\frac{\\sigma^2}{(1/C)} -1 = \\frac{(\\mu - A/C)^2}{(D/C^2)} $$\n",
    "\n",
    "multiply through by $ D/C^2 $\n",
    "\n",
    "$$ \\frac{\\sigma^2 D}{(C^2/C)} - \\frac{D}{C^2}  =  (\\mu - A/C)^2 $$\n",
    "\n",
    "$$ \\sqrt{\\frac{\\sigma^2 D}{C} - \\frac{D}{C^2}} =  (\\mu - A/C) $$\n",
    "\n",
    "$$ \\sqrt{\\frac{D(\\sigma^2 C - 1)}{C^2}} =  (\\mu - A/C) $$\n",
    "\n",
    "$$ \\mu = \\frac{\\sqrt{D(\\sigma^2 C - 1)}}{C} + A/C $$\n",
    "\n",
    "$$ \\mu = \\frac{\\sqrt{D(\\sigma^2 C - 1)}+A}{C} $$\n",
    "\n",
    "### 1.4: efficient frontier minimum $\\sigma$ <a class=\"anchor\" id=\"1.4\"></a>\n",
    "\n",
    "efficient frontier hyperbola coordinates of minimum:\n",
    "\n",
    "$$ (\\sigma, \\mu) = ( \\sqrt{1/C},  ( A/C )) $$\n",
    "\n",
    "### 1.5: (sigma, mu) coordinates at minimum $\\sigma$ <a class=\"anchor\" id=\"1.5\"></a>\n",
    "$$ \\sigma^2 = \\frac{D + (\\mu C -A)^2}{CD} $$\n",
    "\n",
    "let $\\mu = A/C$\n",
    "\n",
    "$$ \\sigma^2 = \\frac{D + ((A/C)C - A)^2}{CD} $$\n",
    "\n",
    "$$ \\sigma^2 = \\frac{D + (A - A)^2}{CD} $$\n",
    "\n",
    "$$ \\sigma^2 = \\frac{1}{C} $$\n",
    "\n"
   ]
  },
  {
   "cell_type": "markdown",
   "metadata": {},
   "source": [
    "## 2: manipulate equation using sympy - solve for $\\sigma$ <a class=\"anchor\" id=\"2\"></a>\n",
    "\n",
    "take positive solution only"
   ]
  },
  {
   "cell_type": "code",
   "execution_count": 18,
   "outputs": [
    {
     "data": {
      "text/plain": "sqrt((A**2 - 2*A*C*mu + C**2*mu**2 + D)/(C*D))",
      "text/latex": "$\\displaystyle \\sqrt{\\frac{A^{2} - 2 A C \\mu + C^{2} \\mu^{2} + D}{C D}}$"
     },
     "metadata": {},
     "output_type": "execute_result",
     "execution_count": 18
    }
   ],
   "source": [
    "mu, sigma, A, B, C, D = sym.symbols('mu sigma A B C D')\n",
    "ws['sigamEqn'] = sym.solve(sym.Eq( (sigma**2 / (1/C)) - ((mu - A/C)**2 / (D / C**2)), 1) , sigma)[1] # [1]=> +ve soln\n",
    "ws['sigamEqn']"
   ],
   "metadata": {
    "collapsed": false,
    "pycharm": {
     "name": "#%%\n",
     "is_executing": false
    }
   }
  },
  {
   "cell_type": "markdown",
   "source": [
    "simplify:"
   ],
   "metadata": {
    "collapsed": false,
    "pycharm": {
     "name": "#%% md\n",
     "is_executing": false
    }
   }
  },
  {
   "cell_type": "code",
   "execution_count": 19,
   "outputs": [
    {
     "data": {
      "text/plain": "Eq(sigma, sqrt(A**2/(C*D) - 2*A*mu/D + C*mu**2/D + 1/C))",
      "text/latex": "$\\displaystyle \\sigma = \\sqrt{\\frac{A^{2}}{C D} - \\frac{2 A \\mu}{D} + \\frac{C \\mu^{2}}{D} + \\frac{1}{C}}$"
     },
     "metadata": {},
     "output_type": "execute_result",
     "execution_count": 19
    }
   ],
   "source": [
    "sym.factor(sym.Eq(sigma, ws['sigamEqn']))"
   ],
   "metadata": {
    "collapsed": false,
    "pycharm": {
     "name": "#%%\n",
     "is_executing": false
    }
   }
  },
  {
   "cell_type": "markdown",
   "source": [
    "check: subtract original form from simplified (\"factored\") form:"
   ],
   "metadata": {
    "collapsed": false,
    "pycharm": {
     "name": "#%% md\n"
    }
   }
  },
  {
   "cell_type": "code",
   "source": [
    "ws['sigamEqn'] - sym.factor(ws['sigamEqn'])"
   ],
   "metadata": {
    "collapsed": false,
    "pycharm": {
     "name": "#%% \n",
     "is_executing": false
    }
   },
   "execution_count": 20,
   "outputs": [
    {
     "data": {
      "text/plain": "sqrt((A**2 - 2*A*C*mu + C**2*mu**2 + D)/(C*D)) - sqrt(A**2/(C*D) - 2*A*mu/D + C*mu**2/D + 1/C)",
      "text/latex": "$\\displaystyle \\sqrt{\\frac{A^{2} - 2 A C \\mu + C^{2} \\mu^{2} + D}{C D}} - \\sqrt{\\frac{A^{2}}{C D} - \\frac{2 A \\mu}{D} + \\frac{C \\mu^{2}}{D} + \\frac{1}{C}}$"
     },
     "metadata": {},
     "output_type": "execute_result",
     "execution_count": 20
    }
   ]
  },
  {
   "cell_type": "markdown",
   "source": [
    "gives:"
   ],
   "metadata": {
    "collapsed": false,
    "pycharm": {
     "name": "#%% md\n"
    }
   }
  },
  {
   "cell_type": "code",
   "execution_count": 16,
   "outputs": [
    {
     "data": {
      "text/plain": "0",
      "text/latex": "$\\displaystyle 0$"
     },
     "metadata": {},
     "output_type": "execute_result",
     "execution_count": 16
    }
   ],
   "source": [
    "sym.factor(ws['sigamEqn'] - sym.factor(ws['sigamEqn']))"
   ],
   "metadata": {
    "collapsed": false,
    "pycharm": {
     "name": "#%% \n",
     "is_executing": false
    }
   }
  },
  {
   "cell_type": "markdown",
   "metadata": {},
   "source": [
    "## 3 numerical example <a class=\"anchor\" id=\"3\"></a>\n",
    "Calculate A, B, C, & D, hence $\\sigma$ and $\\mu$, for a small example of 3 assets\n",
    "\n",
    "sample annualized expected returns, in percent:"
   ]
  },
  {
   "cell_type": "code",
   "execution_count": 69,
   "metadata": {
    "pycharm": {
     "is_executing": false
    }
   },
   "outputs": [
    {
     "data": {
      "text/plain": "Matrix([\n[5.1],\n[7.0],\n[0.9]])",
      "text/latex": "$\\displaystyle \\left[\\begin{matrix}5.1\\\\7.0\\\\0.9\\end{matrix}\\right]$"
     },
     "metadata": {},
     "output_type": "execute_result",
     "execution_count": 69
    }
   ],
   "source": [
    "ws['prec'] = 4 # number of digits of precision to display numerical values\n",
    "\n",
    "#ws['mu3'] = sym.Matrix(np.array([0.1, 0.05, 0.03]).T) # mu3 = sym.Matrix(mu3)\n",
    "ws['mu3'] = sym.Matrix(np.array([5.1, 7.0, 0.9]).T) # mu3 = sym.Matrix(mu3)\n",
    "\n",
    "ws['mu3']"
   ]
  },
  {
   "cell_type": "markdown",
   "source": [
    "*cor3*: sample correlations:"
   ],
   "metadata": {
    "collapsed": false,
    "pycharm": {
     "name": "#%% md\n"
    }
   }
  },
  {
   "cell_type": "code",
   "execution_count": 114,
   "metadata": {
    "pycharm": {
     "is_executing": false
    }
   },
   "outputs": [
    {
     "data": {
      "text/plain": "Matrix([\n[1.0,  0.5,  0.4],\n[0.5,  1.0, -0.1],\n[0.4, -0.1,  1.0]])",
      "text/latex": "$\\displaystyle \\left[\\begin{matrix}1.0 & 0.5 & 0.4\\\\0.5 & 1.0 & -0.1\\\\0.4 & -0.1 & 1.0\\end{matrix}\\right]$"
     },
     "metadata": {},
     "output_type": "execute_result",
     "execution_count": 114
    }
   ],
   "source": [
    "#ws['cor3'] = sym.Matrix([[ 1.,          0.61229076, -0.13636468],\n",
    "#                         [ 0.61229076,  1.,         -0.29579264],\n",
    "#                         [-0.13636468, -0.29579264,  1.        ]])\n",
    "ws['cor3'] = sym.Matrix([[  1.0,  0.5,  0.4],\n",
    "                         [  0.5,  1.0, -0.1],\n",
    "                         [  0.4, -0.1, 1.0]])\n",
    "sym.N(ws['cor3'], ws['prec'])"
   ]
  },
  {
   "cell_type": "markdown",
   "source": [
    "*vol3*: sample vols (stdev):"
   ],
   "metadata": {
    "collapsed": false,
    "pycharm": {
     "name": "#%% md\n"
    }
   }
  },
  {
   "cell_type": "code",
   "execution_count": 115,
   "metadata": {
    "pycharm": {
     "is_executing": false
    }
   },
   "outputs": [
    {
     "data": {
      "text/plain": "Matrix([\n[3.5],\n[4.2],\n[1.1]])",
      "text/latex": "$\\displaystyle \\left[\\begin{matrix}3.5\\\\4.2\\\\1.1\\end{matrix}\\right]$"
     },
     "metadata": {},
     "output_type": "execute_result",
     "execution_count": 115
    }
   ],
   "source": [
    "#ws['vol3'] = sym.Matrix([ 0.05,  0.08,  0.02])\n",
    "ws['vol3'] = sym.Matrix([ 3.5,  4.2,  1.1]) \n",
    "sym.N(ws['vol3'], ws['prec'])"
   ]
  },
  {
   "cell_type": "markdown",
   "source": [
    "*cov3*: compose to make covariance matrix:"
   ],
   "metadata": {
    "collapsed": false,
    "pycharm": {
     "name": "#%% md\n"
    }
   }
  },
  {
   "cell_type": "code",
   "execution_count": 116,
   "metadata": {
    "pycharm": {
     "is_executing": false
    }
   },
   "outputs": [
    {
     "data": {
      "text/plain": "Matrix([\n[12.25,   7.35,   1.54],\n[ 7.35,  17.64, -0.462],\n[ 1.54, -0.462,   1.21]])",
      "text/latex": "$\\displaystyle \\left[\\begin{matrix}12.25 & 7.35 & 1.54\\\\7.35 & 17.64 & -0.462\\\\1.54 & -0.462 & 1.21\\end{matrix}\\right]$"
     },
     "metadata": {},
     "output_type": "execute_result",
     "execution_count": 116
    }
   ],
   "source": [
    "ws['cov3'] = mme(ws['vol3'] * ws['vol3'].T, ws['cor3']) # mme = element-wise multiply\n",
    "sym.N(ws['cov3'], ws['prec'])"
   ]
  },
  {
   "cell_type": "markdown",
   "source": [
    "check that $${variance} = vol^2$$, $$diag(cov3) = vol3^2$$ "
   ],
   "metadata": {
    "collapsed": false,
    "pycharm": {
     "name": "#%% md\n"
    }
   }
  },
  {
   "cell_type": "code",
   "execution_count": 117,
   "outputs": [
    {
     "data": {
      "text/plain": "Matrix([\n[12.25,     0,    0],\n[    0, 17.64,    0],\n[    0,     0, 1.21]])",
      "text/latex": "$\\displaystyle \\left[\\begin{matrix}12.25 & 0 & 0\\\\0 & 17.64 & 0\\\\0 & 0 & 1.21\\end{matrix}\\right]$"
     },
     "metadata": {},
     "output_type": "execute_result",
     "execution_count": 117
    }
   ],
   "source": [
    "sym.diag(*ws['vol3'])**2   # how to do sqrt of diagonal matrix in sympy???"
   ],
   "metadata": {
    "collapsed": false,
    "pycharm": {
     "name": "#%% \n",
     "is_executing": false
    }
   }
  },
  {
   "cell_type": "markdown",
   "metadata": {
    "pycharm": {
     "is_executing": false,
     "name": "#%% md\n"
    }
   },
   "source": [
    "check: get correlations back from covariance\n",
    "\n",
    "in index subscript form:\n",
    "$$ r_{ij} = \\frac{c_{ij}}{c_{ii}*c_{jj}}$$\n",
    "\n",
    "in matrix form: $$ cor = vol^{-1}  \\times cov \\times  vol^{-1} $$\n",
    "\n",
    "where $$ vol = \\sqrt{diag(cov)} $$ as a diagonal matrix"
   ]
  },
  {
   "cell_type": "markdown",
   "source": [
    "*vol*:"
   ],
   "metadata": {
    "collapsed": false,
    "pycharm": {
     "name": "#%% md\n"
    }
   }
  },
  {
   "cell_type": "code",
   "execution_count": 118,
   "outputs": [
    {
     "data": {
      "text/plain": "Matrix([\n[1.0,  0.5,  0.4],\n[0.5,  1.0, -0.1],\n[0.4, -0.1,  1.0]])",
      "text/latex": "$\\displaystyle \\left[\\begin{matrix}1.0 & 0.5 & 0.4\\\\0.5 & 1.0 & -0.1\\\\0.4 & -0.1 & 1.0\\end{matrix}\\right]$"
     },
     "metadata": {},
     "output_type": "execute_result",
     "execution_count": 118
    }
   ],
   "source": [
    "ws['oneOverVol'] = sym.diag(*ws['cov3'].diagonal())**(-0.5) # works!!!! using sym.sqrt doesn't evaluate fully\n",
    "ws['oneOverVol'] * ws['cov3'] * ws['oneOverVol']            # oneOverVol is diagonal matrix so it's equal to its transpose"
   ],
   "metadata": {
    "collapsed": false,
    "pycharm": {
     "name": "#%%\n",
     "is_executing": false
    }
   }
  },
  {
   "cell_type": "markdown",
   "source": [
    "### 3.1 sample values for calculating sample hyperbolae scalars A,B,C,D \n",
    "\n",
    "$A,B,C,D$ calculated numerically as variables a,b,c,d:"
   ],
   "metadata": {
    "collapsed": false,
    "pycharm": {
     "name": "#%% md\n"
    }
   }
  },
  {
   "cell_type": "code",
   "metadata": {
    "pycharm": {
     "is_executing": false,
     "name": "#%% \n"
    }
   },
   "source": [
    "# try some new covariance:\n",
    "# sample covariance matrix\n",
    "#' ws['cov3'] = sym.Matrix([[1.61904762, 1.52285714, 0.90285714],\n",
    "#                          [1.52285714, 1.88142857, 1.39309524],\n",
    "#                          [0.90285714, 1.39309524, 1.95809524]])\n",
    "#sym.N(ws['cov3'], ws['prec'])"
   ],
   "execution_count": 119,
   "outputs": []
  },
  {
   "cell_type": "markdown",
   "source": [
    "vector of 3 ones:"
   ],
   "metadata": {
    "collapsed": false,
    "pycharm": {
     "name": "#%% md\n"
    }
   }
  },
  {
   "cell_type": "code",
   "execution_count": 120,
   "metadata": {
    "pycharm": {
     "is_executing": false
    }
   },
   "outputs": [
    {
     "data": {
      "text/plain": "Matrix([\n[1],\n[1],\n[1]])",
      "text/latex": "$\\displaystyle \\left[\\begin{matrix}1\\\\1\\\\1\\end{matrix}\\right]$"
     },
     "metadata": {},
     "output_type": "execute_result",
     "execution_count": 120
    }
   ],
   "source": [
    "ws['ones3'] = sym.Matrix([1,1,1])\n",
    "ws['ones3']"
   ]
  },
  {
   "cell_type": "markdown",
   "source": [
    "inverse of *cov*"
   ],
   "metadata": {
    "collapsed": false,
    "pycharm": {
     "name": "#%% md\n"
    }
   }
  },
  {
   "cell_type": "code",
   "execution_count": 121,
   "outputs": [
    {
     "data": {
      "text/plain": "Matrix([\n[  0.1497, -0.06803, -0.2164],\n[-0.06803,  0.08818,  0.1202],\n[ -0.2164,   0.1202,   1.148]])",
      "text/latex": "$\\displaystyle \\left[\\begin{matrix}0.1497 & -0.06803 & -0.2164\\\\-0.06803 & 0.08818 & 0.1202\\\\-0.2164 & 0.1202 & 1.148\\end{matrix}\\right]$"
     },
     "metadata": {},
     "output_type": "execute_result",
     "execution_count": 121
    }
   ],
   "source": [
    "sym.N(ws['cov3']**(-1), ws['prec'])"
   ],
   "metadata": {
    "collapsed": false,
    "pycharm": {
     "name": "#%%\n",
     "is_executing": false
    }
   }
  },
  {
   "cell_type": "markdown",
   "source": [
    "check condition number of *cov* inverse:"
   ],
   "metadata": {
    "collapsed": false,
    "pycharm": {
     "name": "#%% md\n"
    }
   }
  },
  {
   "cell_type": "code",
   "execution_count": 122,
   "metadata": {
    "pycharm": {
     "is_executing": false
    }
   },
   "outputs": [
    {
     "data": {
      "text/plain": "27.53",
      "text/latex": "$\\displaystyle 27.53$"
     },
     "metadata": {},
     "output_type": "execute_result",
     "execution_count": 122
    }
   ],
   "source": [
    "sym.N(LA.cond(np.array(ws['cov3']**(-1), dtype=float)), ws['prec']) "
   ]
  },
  {
   "cell_type": "markdown",
   "metadata": {},
   "source": [
    "calculate $A$ from covariance $V = cov3$, and $e = mu3$\n",
    "\n",
    "$$ matrix\\ A = \\mathbf{1}^T V^{-1} e == e^T V^{-1}\\mathbf{1} $$"
   ]
  },
  {
   "cell_type": "code",
   "execution_count": 123,
   "metadata": {
    "pycharm": {
     "is_executing": false
    }
   },
   "outputs": [
    {
     "data": {
      "text/plain": "Matrix([[1.242]])",
      "text/latex": "$\\displaystyle \\left[\\begin{matrix}1.242\\end{matrix}\\right]$"
     },
     "metadata": {},
     "output_type": "execute_result",
     "execution_count": 123
    }
   ],
   "source": [
    "ws['a'] = ws['ones3'].T @ ws['cov3']**(-1) @ ws['mu3'] # = (mu3.T @ cov3**(-1) @ ones3.T)\n",
    "sym.N(ws['a'], ws['prec'])"
   ]
  },
  {
   "cell_type": "markdown",
   "source": [
    "calculate $$B$$ from covariance $$V$$=cov3, and $$e$$=mu3: $ matrix\\ B = e^T V^{-1} e $"
   ],
   "metadata": {
    "collapsed": false
   }
  },
  {
   "cell_type": "code",
   "execution_count": 124,
   "metadata": {
    "pycharm": {
     "is_executing": false
    }
   },
   "outputs": [
    {
     "data": {
      "text/plain": "Matrix([[3.814]])",
      "text/latex": "$\\displaystyle \\left[\\begin{matrix}3.814\\end{matrix}\\right]$"
     },
     "metadata": {},
     "output_type": "execute_result",
     "execution_count": 124
    }
   ],
   "source": [
    "ws['b'] = ws['mu3'].T @ ws['cov3']**(-1) @ ws['mu3'] \n",
    "sym.N(ws['b'], ws['prec'])"
   ]
  },
  {
   "cell_type": "markdown",
   "metadata": {},
   "source": [
    "calculate $$C$$ from covariance $$V$$=cov3: $$ matrix\\ C = \\mathbf{1}^T V^{-1} \\mathbf{1} $$"
   ]
  },
  {
   "cell_type": "code",
   "execution_count": 125,
   "metadata": {
    "pycharm": {
     "is_executing": false
    }
   },
   "outputs": [
    {
     "data": {
      "text/plain": "Matrix([[1.057]])",
      "text/latex": "$\\displaystyle \\left[\\begin{matrix}1.057\\end{matrix}\\right]$"
     },
     "metadata": {},
     "output_type": "execute_result",
     "execution_count": 125
    }
   ],
   "source": [
    "ws['c']  = ws['ones3'].T @ ws['cov3']**(-1) @ ws['ones3']\n",
    "sym.N(ws['c'], ws['prec'])"
   ]
  },
  {
   "cell_type": "markdown",
   "metadata": {},
   "source": [
    "calculate $$D$$ from covariance: $ matrix\\ D = BC - A^2  $"
   ]
  },
  {
   "cell_type": "code",
   "execution_count": 126,
   "metadata": {
    "pycharm": {
     "is_executing": false
    }
   },
   "outputs": [
    {
     "data": {
      "text/plain": "Matrix([[2.491]])",
      "text/latex": "$\\displaystyle \\left[\\begin{matrix}2.491\\end{matrix}\\right]$"
     },
     "metadata": {},
     "output_type": "execute_result",
     "execution_count": 126
    }
   ],
   "source": [
    "ws['d'] = ws['b'] * ws['c'] - ws['a']**2\n",
    "sym.N(ws['d'], ws['prec'])"
   ]
  },
  {
   "cell_type": "markdown",
   "metadata": {},
   "source": [
    "### 3.2 hence calculate $\\sigma$ or $\\mu$ \n",
    "using $A, B, C, D$ calculate $\\sigma$ and $\\mu$ from each other\n",
    "\n",
    "$ \\sigma =   \\sqrt{\\frac{D + (\\mu C - A)^2}{CD}} $\n",
    "and\n",
    "$ \\mu    =    \\frac{\\sqrt{D(\\sigma^2 C - 1)}+A}{C} $\n",
    "\n",
    "e.g. for $\\mu = 0.3$, $\\sigma =$ "
   ]
  },
  {
   "cell_type": "code",
   "execution_count": 127,
   "outputs": [
    {
     "name": "stdout",
     "text": [
      " sigma from mu\n"
     ],
     "output_type": "stream"
    },
    {
     "data": {
      "text/plain": "Matrix([[1.226]])",
      "text/latex": "$\\displaystyle \\left[\\begin{matrix}1.226\\end{matrix}\\right]$"
     },
     "metadata": {},
     "output_type": "execute_result",
     "execution_count": 127
    }
   ],
   "source": [
    "print(' sigma from mu')\n",
    "ws['sgma'] = ( (ws['d'] + (0.03 * ws['c'] - ws['a'])**2) / (ws['c']*ws['d']) )**(0.5)\n",
    "sym.N(ws['sgma'], ws['prec'])"
   ],
   "metadata": {
    "collapsed": false,
    "pycharm": {
     "name": "#%%\n",
     "is_executing": false
    }
   }
  },
  {
   "cell_type": "markdown",
   "source": [
    "e.g. for $\\sigma = 3.086$, $\\mu =???$"
   ],
   "metadata": {
    "collapsed": false,
    "pycharm": {
     "name": "#%% md\n"
    }
   }
  },
  {
   "cell_type": "code",
   "execution_count": 128,
   "metadata": {
    "pycharm": {
     "is_executing": false
    }
   },
   "outputs": [
    {
     "name": "stdout",
     "text": [
      "mu from sigma)\n"
     ],
     "output_type": "stream"
    },
    {
     "data": {
      "text/plain": "Matrix([[4.58803767855236]])",
      "text/latex": "$\\displaystyle \\left[\\begin{matrix}4.58803767855236\\end{matrix}\\right]$"
     },
     "metadata": {},
     "output_type": "execute_result",
     "execution_count": 128
    }
   ],
   "source": [
    "print('mu from sigma)')\n",
    "# check calculate back mu from sigma\n",
    "#m = ( (d * (1.351**2 * c - 1))**(1/2) + a ) / c\n",
    "#((ws['d'] * ((ws['sgma']**2 * ws['c']) - sym.Matrix([[1]])) )**(0.5) + ws['a'] ) / ws['c']\n",
    "((ws['d'] * ((2**2 * ws['c']) + sym.Matrix([[1]])) )**(0.5) + ws['a'] ) / ws['c']\n",
    "\n",
    "\n",
    "#sym.N(m, sPrec)"
   ]
  },
  {
   "cell_type": "code",
   "execution_count": 129,
   "outputs": [
    {
     "name": "stdout",
     "text": [
      "sigma, mu\n"
     ],
     "output_type": "stream"
    },
    {
     "data": {
      "text/plain": "(Matrix([[0.972557105896013]]), Matrix([[1.17453312167395]]))"
     },
     "metadata": {},
     "output_type": "execute_result",
     "execution_count": 129
    }
   ],
   "source": [
    "# mimimum: \n",
    "print(\"sigma, mu\")\n",
    "( (sym.Matrix([1]) / ws['c'])**(0.5), ws['a'] / ws['c'] )"
   ],
   "metadata": {
    "collapsed": false,
    "pycharm": {
     "name": "#%%\n",
     "is_executing": false
    }
   }
  },
  {
   "cell_type": "markdown",
   "metadata": {},
   "source": [
    "## 4: Symbolic Plot <a class=\"anchor\" id=\"4\"></a>\n",
    "\n",
    "sigma vs mu"
   ]
  },
  {
   "cell_type": "code",
   "execution_count": 130,
   "metadata": {
    "pycharm": {
     "is_executing": false
    }
   },
   "outputs": [],
   "source": [
    "#fsigma = exp( (d + (mu*c-a)**2) / (c*d) ),0.5)\n",
    "#fsigma = exp(( (d + (nu*c-a)**2) / (c*d) ) ,1)"
   ]
  },
  {
   "cell_type": "code",
   "execution_count": 132,
   "metadata": {
    "pycharm": {
     "is_executing": false
    }
   },
   "outputs": [
    {
     "traceback": [
      "\u001B[0;31m---------------------------------------------------------------------------\u001B[0m",
      "\u001B[0;31mShapeError\u001B[0m                                Traceback (most recent call last)",
      "\u001B[0;32m<ipython-input-132-7a5d3fd9f080>\u001B[0m in \u001B[0;36m<module>\u001B[0;34m\u001B[0m\n\u001B[1;32m      1\u001B[0m \u001B[0;31m#plot(fsigma,(mu,0.03,0.06), figsize=[4,4], legend_label='$\\sigma(\\mu)$') # rotated version\u001B[0m\u001B[0;34m\u001B[0m\u001B[0;34m\u001B[0m\u001B[0;34m\u001B[0m\u001B[0m\n\u001B[1;32m      2\u001B[0m \u001B[0;34m\u001B[0m\u001B[0m\n\u001B[0;32m----> 3\u001B[0;31m \u001B[0mws\u001B[0m\u001B[0;34m[\u001B[0m\u001B[0;34m'fsgma'\u001B[0m\u001B[0;34m]\u001B[0m \u001B[0;34m=\u001B[0m \u001B[0;34m(\u001B[0m \u001B[0;34m(\u001B[0m \u001B[0;34m(\u001B[0m\u001B[0mws\u001B[0m\u001B[0;34m[\u001B[0m\u001B[0;34m'd'\u001B[0m\u001B[0;34m]\u001B[0m \u001B[0;34m+\u001B[0m \u001B[0;34m(\u001B[0m\u001B[0mws\u001B[0m\u001B[0;34m[\u001B[0m\u001B[0;34m'mu3'\u001B[0m\u001B[0;34m]\u001B[0m\u001B[0;34m*\u001B[0m\u001B[0mws\u001B[0m\u001B[0;34m[\u001B[0m\u001B[0;34m'c'\u001B[0m\u001B[0;34m]\u001B[0m \u001B[0;34m-\u001B[0m \u001B[0mws\u001B[0m\u001B[0;34m[\u001B[0m\u001B[0;34m'a'\u001B[0m\u001B[0;34m]\u001B[0m\u001B[0;34m)\u001B[0m\u001B[0;34m**\u001B[0m\u001B[0;36m2\u001B[0m\u001B[0;34m)\u001B[0m \u001B[0;34m/\u001B[0m \u001B[0;34m(\u001B[0m\u001B[0mws\u001B[0m\u001B[0;34m[\u001B[0m\u001B[0;34m'c'\u001B[0m\u001B[0;34m]\u001B[0m \u001B[0;34m*\u001B[0m \u001B[0mws\u001B[0m\u001B[0;34m[\u001B[0m\u001B[0;34m'd'\u001B[0m\u001B[0;34m]\u001B[0m\u001B[0;34m)\u001B[0m \u001B[0;34m)\u001B[0m\u001B[0;34m**\u001B[0m\u001B[0;36m2\u001B[0m\u001B[0;34m)\u001B[0m\u001B[0;34m[\u001B[0m\u001B[0;36m0\u001B[0m\u001B[0;34m]\u001B[0m\u001B[0;34m\u001B[0m\u001B[0;34m\u001B[0m\u001B[0m\n\u001B[0m\u001B[1;32m      4\u001B[0m \u001B[0msymplot\u001B[0m\u001B[0;34m(\u001B[0m\u001B[0mws\u001B[0m\u001B[0;34m[\u001B[0m\u001B[0;34m'fsgma'\u001B[0m\u001B[0;34m]\u001B[0m\u001B[0;34m,\u001B[0m \u001B[0;34m(\u001B[0m\u001B[0mmu\u001B[0m\u001B[0;34m,\u001B[0m \u001B[0;34m-\u001B[0m\u001B[0;36m0.0\u001B[0m\u001B[0;34m,\u001B[0m \u001B[0;36m0.3\u001B[0m\u001B[0;34m)\u001B[0m\u001B[0;34m,\u001B[0m \u001B[0maxis_center\u001B[0m\u001B[0;34m=\u001B[0m\u001B[0;34m(\u001B[0m\u001B[0;36m0.0\u001B[0m\u001B[0;34m,\u001B[0m\u001B[0;36m0.0\u001B[0m\u001B[0;34m)\u001B[0m\u001B[0;34m,\u001B[0m \u001B[0mxlabel\u001B[0m\u001B[0;34m=\u001B[0m\u001B[0;34m'$\\mu$ mu'\u001B[0m\u001B[0;34m,\u001B[0m \u001B[0mylabel\u001B[0m\u001B[0;34m=\u001B[0m\u001B[0;34m'$\\sigma$ sigma'\u001B[0m\u001B[0;34m)\u001B[0m\u001B[0;34m\u001B[0m\u001B[0;34m\u001B[0m\u001B[0m\n\u001B[1;32m      5\u001B[0m \u001B[0mws\u001B[0m\u001B[0;34m[\u001B[0m\u001B[0;34m'fsgma'\u001B[0m\u001B[0;34m]\u001B[0m\u001B[0;34m\u001B[0m\u001B[0;34m\u001B[0m\u001B[0m\n",
      "\u001B[0;32m/mnt/1TB-2EP102/kleynHomeMint/projects/pyvenvs/envB-py38-all/lib/python3.8/site-packages/sympy/core/decorators.py\u001B[0m in \u001B[0;36mbinary_op_wrapper\u001B[0;34m(self, other)\u001B[0m\n\u001B[1;32m    127\u001B[0m                     \u001B[0;32mif\u001B[0m \u001B[0mf\u001B[0m \u001B[0;32mis\u001B[0m \u001B[0;32mnot\u001B[0m \u001B[0;32mNone\u001B[0m\u001B[0;34m:\u001B[0m\u001B[0;34m\u001B[0m\u001B[0;34m\u001B[0m\u001B[0m\n\u001B[1;32m    128\u001B[0m                         \u001B[0;32mreturn\u001B[0m \u001B[0mf\u001B[0m\u001B[0;34m(\u001B[0m\u001B[0mself\u001B[0m\u001B[0;34m)\u001B[0m\u001B[0;34m\u001B[0m\u001B[0;34m\u001B[0m\u001B[0m\n\u001B[0;32m--> 129\u001B[0;31m             \u001B[0;32mreturn\u001B[0m \u001B[0mfunc\u001B[0m\u001B[0;34m(\u001B[0m\u001B[0mself\u001B[0m\u001B[0;34m,\u001B[0m \u001B[0mother\u001B[0m\u001B[0;34m)\u001B[0m\u001B[0;34m\u001B[0m\u001B[0;34m\u001B[0m\u001B[0m\n\u001B[0m\u001B[1;32m    130\u001B[0m         \u001B[0;32mreturn\u001B[0m \u001B[0mbinary_op_wrapper\u001B[0m\u001B[0;34m\u001B[0m\u001B[0;34m\u001B[0m\u001B[0m\n\u001B[1;32m    131\u001B[0m     \u001B[0;32mreturn\u001B[0m \u001B[0mpriority_decorator\u001B[0m\u001B[0;34m\u001B[0m\u001B[0;34m\u001B[0m\u001B[0m\n",
      "\u001B[0;32m/mnt/1TB-2EP102/kleynHomeMint/projects/pyvenvs/envB-py38-all/lib/python3.8/site-packages/sympy/matrices/common.py\u001B[0m in \u001B[0;36m__sub__\u001B[0;34m(self, a)\u001B[0m\n\u001B[1;32m   2310\u001B[0m     \u001B[0;34m@\u001B[0m\u001B[0mcall_highest_priority\u001B[0m\u001B[0;34m(\u001B[0m\u001B[0;34m'__rsub__'\u001B[0m\u001B[0;34m)\u001B[0m\u001B[0;34m\u001B[0m\u001B[0;34m\u001B[0m\u001B[0m\n\u001B[1;32m   2311\u001B[0m     \u001B[0;32mdef\u001B[0m \u001B[0m__sub__\u001B[0m\u001B[0;34m(\u001B[0m\u001B[0mself\u001B[0m\u001B[0;34m,\u001B[0m \u001B[0ma\u001B[0m\u001B[0;34m)\u001B[0m\u001B[0;34m:\u001B[0m\u001B[0;34m\u001B[0m\u001B[0;34m\u001B[0m\u001B[0m\n\u001B[0;32m-> 2312\u001B[0;31m         \u001B[0;32mreturn\u001B[0m \u001B[0mself\u001B[0m \u001B[0;34m+\u001B[0m \u001B[0;34m(\u001B[0m\u001B[0;34m-\u001B[0m\u001B[0ma\u001B[0m\u001B[0;34m)\u001B[0m\u001B[0;34m\u001B[0m\u001B[0;34m\u001B[0m\u001B[0m\n\u001B[0m\u001B[1;32m   2313\u001B[0m \u001B[0;34m\u001B[0m\u001B[0m\n\u001B[1;32m   2314\u001B[0m     \u001B[0;34m@\u001B[0m\u001B[0mcall_highest_priority\u001B[0m\u001B[0;34m(\u001B[0m\u001B[0;34m'__rtruediv__'\u001B[0m\u001B[0;34m)\u001B[0m\u001B[0;34m\u001B[0m\u001B[0;34m\u001B[0m\u001B[0m\n",
      "\u001B[0;32m/mnt/1TB-2EP102/kleynHomeMint/projects/pyvenvs/envB-py38-all/lib/python3.8/site-packages/sympy/core/decorators.py\u001B[0m in \u001B[0;36mbinary_op_wrapper\u001B[0;34m(self, other)\u001B[0m\n\u001B[1;32m    127\u001B[0m                     \u001B[0;32mif\u001B[0m \u001B[0mf\u001B[0m \u001B[0;32mis\u001B[0m \u001B[0;32mnot\u001B[0m \u001B[0;32mNone\u001B[0m\u001B[0;34m:\u001B[0m\u001B[0;34m\u001B[0m\u001B[0;34m\u001B[0m\u001B[0m\n\u001B[1;32m    128\u001B[0m                         \u001B[0;32mreturn\u001B[0m \u001B[0mf\u001B[0m\u001B[0;34m(\u001B[0m\u001B[0mself\u001B[0m\u001B[0;34m)\u001B[0m\u001B[0;34m\u001B[0m\u001B[0;34m\u001B[0m\u001B[0m\n\u001B[0;32m--> 129\u001B[0;31m             \u001B[0;32mreturn\u001B[0m \u001B[0mfunc\u001B[0m\u001B[0;34m(\u001B[0m\u001B[0mself\u001B[0m\u001B[0;34m,\u001B[0m \u001B[0mother\u001B[0m\u001B[0;34m)\u001B[0m\u001B[0;34m\u001B[0m\u001B[0;34m\u001B[0m\u001B[0m\n\u001B[0m\u001B[1;32m    130\u001B[0m         \u001B[0;32mreturn\u001B[0m \u001B[0mbinary_op_wrapper\u001B[0m\u001B[0;34m\u001B[0m\u001B[0;34m\u001B[0m\u001B[0m\n\u001B[1;32m    131\u001B[0m     \u001B[0;32mreturn\u001B[0m \u001B[0mpriority_decorator\u001B[0m\u001B[0;34m\u001B[0m\u001B[0;34m\u001B[0m\u001B[0m\n",
      "\u001B[0;32m/mnt/1TB-2EP102/kleynHomeMint/projects/pyvenvs/envB-py38-all/lib/python3.8/site-packages/sympy/matrices/common.py\u001B[0m in \u001B[0;36m__add__\u001B[0;34m(self, other)\u001B[0m\n\u001B[1;32m   2134\u001B[0m         \u001B[0;32mif\u001B[0m \u001B[0mhasattr\u001B[0m\u001B[0;34m(\u001B[0m\u001B[0mother\u001B[0m\u001B[0;34m,\u001B[0m \u001B[0;34m'shape'\u001B[0m\u001B[0;34m)\u001B[0m\u001B[0;34m:\u001B[0m\u001B[0;34m\u001B[0m\u001B[0;34m\u001B[0m\u001B[0m\n\u001B[1;32m   2135\u001B[0m             \u001B[0;32mif\u001B[0m \u001B[0mself\u001B[0m\u001B[0;34m.\u001B[0m\u001B[0mshape\u001B[0m \u001B[0;34m!=\u001B[0m \u001B[0mother\u001B[0m\u001B[0;34m.\u001B[0m\u001B[0mshape\u001B[0m\u001B[0;34m:\u001B[0m\u001B[0;34m\u001B[0m\u001B[0;34m\u001B[0m\u001B[0m\n\u001B[0;32m-> 2136\u001B[0;31m                 raise ShapeError(\"Matrix size mismatch: %s + %s\" % (\n\u001B[0m\u001B[1;32m   2137\u001B[0m                     self.shape, other.shape))\n\u001B[1;32m   2138\u001B[0m \u001B[0;34m\u001B[0m\u001B[0m\n",
      "\u001B[0;31mShapeError\u001B[0m: Matrix size mismatch: (3, 1) + (1, 1)"
     ],
     "ename": "ShapeError",
     "evalue": "Matrix size mismatch: (3, 1) + (1, 1)",
     "output_type": "error"
    }
   ],
   "source": [
    "#plot(fsigma,(mu,0.03,0.06), figsize=[4,4], legend_label='$\\sigma(\\mu)$') # rotated version\n",
    "\n",
    "ws['fsgma'] = ( ( (ws['d'] + (ws['mu3']*ws['c'] - ws['a'])**2) / (ws['c'] * ws['d']) )**2)[0]\n",
    "symplot(ws['fsgma'], (mu, -0.0, 0.3), axis_center=(0.0,0.0), xlabel='$\\mu$ mu', ylabel='$\\sigma$ sigma')\n",
    "ws['fsgma']"
   ]
  },
  {
   "cell_type": "markdown",
   "metadata": {},
   "source": [
    "mu vs sigma\n",
    " \n",
    "$ \\mu    =    \\frac{\\sqrt{D(\\sigma^2 C - 1)}+A}{C} $"
   ]
  },
  {
   "cell_type": "code",
   "execution_count": 134,
   "metadata": {
    "pycharm": {
     "is_executing": false
    }
   },
   "outputs": [
    {
     "data": {
      "text/plain": "<Figure size 432x288 with 1 Axes>",
      "image/png": "[encoded data removed]"
     },
     "metadata": {
      "needs_background": "light"
     },
     "output_type": "display_data"
    }
   ],
   "source": [
    "ws['fmuA'] = (( ws['a'] + (ws['d'] * (sigma**2 * ws['c'] - sym.Matrix([[1]]) ) )**0.5  ) / ws['c'])[0]\n",
    "ws['fmuB'] = (( ws['a'] - (ws['d'] * (sigma**2 * ws['c'] - sym.Matrix([[1]]) ) )**0.5 + ws['a'] ) / ws['c'])[0]\n",
    "p0 = symplot(ws['fmuA'], (sigma, 1, 4), axis_center=(0.0,0.0), ylabel='$\\mu$ mu', xlabel='$\\sigma$ sigma', show=False)\n",
    "p1 = symplot(ws['fmuB'], (sigma, 1, 4), axis_center=(0.0,0.0), ylabel='$\\mu$ mu', xlabel='$\\sigma$ sigma', show=False)\n",
    "p0.append(p1[0])\n",
    "ws['fmu']\n",
    "p0.show()"
   ]
  },
  {
   "cell_type": "code",
   "execution_count": null,
   "metadata": {
    "pycharm": {
     "is_executing": false
    }
   },
   "outputs": [],
   "source": [
    "def fmew(sigma, side, w):\n",
    "    if side=='pos': return ( w['a'] + sqrt(w['d'] * (w['c'] * sigma^2-1)) ) / w['c']\n",
    "    else          : return ( w['a'] - sqrt(w['d'] * (w['c'] * sigma^2-1)) ) / w['c']\n",
    "\n",
    "#def fmew2(sigma):\n",
    "#    if            : return ( a + sqrt(d*(c*sigma^2-1)) ) / c\n",
    "#    else          : return ( a - sqrt(d*(c*sigma^2-1)) ) / c\n",
    "\n",
    "for sgm in srange(0.01,0.02,0.001): print(sgm, fmew(sgm, 'neg', ws), fmew(sgm,'pos', ws))"
   ]
  },
  {
   "cell_type": "code",
   "execution_count": null,
   "metadata": {
    "pycharm": {
     "is_executing": false
    }
   },
   "outputs": [],
   "source": [
    "v = [(x, fmew(x,'neg')) for x in srange(1.125,1.119515028,-1e-6)]+[(x, fmew(x,'pos')) for x in srange(1.119515028,1.125,1e-6)]\n",
    "#v = [(x, fmew(x,'neg')) for x in srange(0.02,0.01,-0.001)] + [(x, fmew(x,'pos')) for x in srange(0.01,0.02,0.001)]\n",
    "line(v, figsize=[4,4])"
   ]
  },
  {
   "cell_type": "markdown",
   "metadata": {},
   "source": [
    "## 5: Closed form formulae <a class=\"anchor\" id=\"5\"></a>\n",
    "\n",
    "for small portfolio (3 assets) - covariance $V$\n",
    "\n",
    "symbolic form of hyperbola in terms of asset covariances and returns:\n",
    "\n",
    "(note symmetric entries)"
   ]
  },
  {
   "cell_type": "code",
   "execution_count": 37,
   "metadata": {
    "pycharm": {
     "is_executing": false
    }
   },
   "outputs": [
    {
     "data": {
      "text/plain": "Matrix([\n[s1**2,  cv12,  cv13],\n[ cv12, s2**2,  cv23],\n[ cv13,  cv23, s3**2]])",
      "text/latex": "$\\displaystyle \\left[\\begin{matrix}s_{1}^{2} & cv_{12} & cv_{13}\\\\cv_{12} & s_{2}^{2} & cv_{23}\\\\cv_{13} & cv_{23} & s_{3}^{2}\\end{matrix}\\right]$"
     },
     "metadata": {},
     "output_type": "execute_result",
     "execution_count": 37
    }
   ],
   "source": [
    "u,s,A,B,C,D,E, s1,s2,s3, cv12,cv13,cv23, r0,r1,r2 = \\\n",
    "    sym.symbols('u s A B C D E  s1 s2 s3 cv12 cv13 cv23  r0 r1 r2')\n",
    "\n",
    "V = sym.Matrix([[s1**2, cv12,  cv13],\n",
    "                [cv12,  s2**2, cv23],\n",
    "                [cv13,  cv23,  s3**2]])\n",
    "V"
   ]
  },
  {
   "cell_type": "markdown",
   "source": [
    "just for fun, inverse of covariance matrix $V$:"
   ],
   "metadata": {
    "collapsed": false,
    "pycharm": {
     "name": "#%% md\n"
    }
   }
  },
  {
   "cell_type": "code",
   "execution_count": 48,
   "metadata": {
    "pycharm": {
     "is_executing": false
    }
   },
   "outputs": [
    {
     "data": {
      "text/plain": "Matrix([\n[(s1**2*s2**2*((-cv12**2 + s1**2*s2**2)*(-cv13**2 + s1**2*s3**2) - (-cv12*cv13 + cv23*s1**2)**2) - (-cv12*(-cv12*cv13 + cv23*s1**2) + cv13*(-cv12**2 + s1**2*s2**2))*(cv12*(-cv12*cv13 + cv23*s1**2) - cv13*(-cv12**2 + s1**2*s2**2)))/(s1**2*(-cv12**2 + s1**2*s2**2)*((-cv12**2 + s1**2*s2**2)*(-cv13**2 + s1**2*s3**2) - (-cv12*cv13 + cv23*s1**2)**2)), (-cv12*s1**2*((-cv12**2 + s1**2*s2**2)*(-cv13**2 + s1**2*s3**2) - (-cv12*cv13 + cv23*s1**2)**2) + s1**2*(-cv12*cv13 + cv23*s1**2)*(-cv12*(-cv12*cv13 + cv23*s1**2) + cv13*(-cv12**2 + s1**2*s2**2)))/(s1**2*(-cv12**2 + s1**2*s2**2)*((-cv12**2 + s1**2*s2**2)*(-cv13**2 + s1**2*s3**2) - (-cv12*cv13 + cv23*s1**2)**2)), -(-cv12*(-cv12*cv13 + cv23*s1**2) + cv13*(-cv12**2 + s1**2*s2**2))/((-cv12**2 + s1**2*s2**2)*(-cv13**2 + s1**2*s3**2) - (-cv12*cv13 + cv23*s1**2)**2)],\n[                                                    (-cv12*((-cv12**2 + s1**2*s2**2)*(-cv13**2 + s1**2*s3**2) - (-cv12*cv13 + cv23*s1**2)**2) - (-cv12*cv13 + cv23*s1**2)*(cv12*(-cv12*cv13 + cv23*s1**2) - cv13*(-cv12**2 + s1**2*s2**2)))/((-cv12**2 + s1**2*s2**2)*((-cv12**2 + s1**2*s2**2)*(-cv13**2 + s1**2*s3**2) - (-cv12*cv13 + cv23*s1**2)**2)),                                                                            (s1**2*(-cv12*cv13 + cv23*s1**2)**2 + s1**2*((-cv12**2 + s1**2*s2**2)*(-cv13**2 + s1**2*s3**2) - (-cv12*cv13 + cv23*s1**2)**2))/((-cv12**2 + s1**2*s2**2)*((-cv12**2 + s1**2*s2**2)*(-cv13**2 + s1**2*s3**2) - (-cv12*cv13 + cv23*s1**2)**2)),                                   -s1**2*(-cv12*cv13 + cv23*s1**2)/((-cv12**2 + s1**2*s2**2)*(-cv13**2 + s1**2*s3**2) - (-cv12*cv13 + cv23*s1**2)**2)],\n[                                                                                                                                                                                                      (cv12*(-cv12*cv13 + cv23*s1**2) - cv13*(-cv12**2 + s1**2*s2**2))/((-cv12**2 + s1**2*s2**2)*(-cv13**2 + s1**2*s3**2) - (-cv12*cv13 + cv23*s1**2)**2),                                                                                                                                                                                                      -s1**2*(-cv12*cv13 + cv23*s1**2)/((-cv12**2 + s1**2*s2**2)*(-cv13**2 + s1**2*s3**2) - (-cv12*cv13 + cv23*s1**2)**2),                                     s1**2*(-cv12**2 + s1**2*s2**2)/((-cv12**2 + s1**2*s2**2)*(-cv13**2 + s1**2*s3**2) - (-cv12*cv13 + cv23*s1**2)**2)]])",
      "text/latex": "$\\displaystyle \\left[\\begin{matrix}\\frac{s_{1}^{2} s_{2}^{2} \\left(\\left(- cv_{12}^{2} + s_{1}^{2} s_{2}^{2}\\right) \\left(- cv_{13}^{2} + s_{1}^{2} s_{3}^{2}\\right) - \\left(- cv_{12} cv_{13} + cv_{23} s_{1}^{2}\\right)^{2}\\right) - \\left(- cv_{12} \\left(- cv_{12} cv_{13} + cv_{23} s_{1}^{2}\\right) + cv_{13} \\left(- cv_{12}^{2} + s_{1}^{2} s_{2}^{2}\\right)\\right) \\left(cv_{12} \\left(- cv_{12} cv_{13} + cv_{23} s_{1}^{2}\\right) - cv_{13} \\left(- cv_{12}^{2} + s_{1}^{2} s_{2}^{2}\\right)\\right)}{s_{1}^{2} \\left(- cv_{12}^{2} + s_{1}^{2} s_{2}^{2}\\right) \\left(\\left(- cv_{12}^{2} + s_{1}^{2} s_{2}^{2}\\right) \\left(- cv_{13}^{2} + s_{1}^{2} s_{3}^{2}\\right) - \\left(- cv_{12} cv_{13} + cv_{23} s_{1}^{2}\\right)^{2}\\right)} & \\frac{- cv_{12} s_{1}^{2} \\left(\\left(- cv_{12}^{2} + s_{1}^{2} s_{2}^{2}\\right) \\left(- cv_{13}^{2} + s_{1}^{2} s_{3}^{2}\\right) - \\left(- cv_{12} cv_{13} + cv_{23} s_{1}^{2}\\right)^{2}\\right) + s_{1}^{2} \\left(- cv_{12} cv_{13} + cv_{23} s_{1}^{2}\\right) \\left(- cv_{12} \\left(- cv_{12} cv_{13} + cv_{23} s_{1}^{2}\\right) + cv_{13} \\left(- cv_{12}^{2} + s_{1}^{2} s_{2}^{2}\\right)\\right)}{s_{1}^{2} \\left(- cv_{12}^{2} + s_{1}^{2} s_{2}^{2}\\right) \\left(\\left(- cv_{12}^{2} + s_{1}^{2} s_{2}^{2}\\right) \\left(- cv_{13}^{2} + s_{1}^{2} s_{3}^{2}\\right) - \\left(- cv_{12} cv_{13} + cv_{23} s_{1}^{2}\\right)^{2}\\right)} & - \\frac{- cv_{12} \\left(- cv_{12} cv_{13} + cv_{23} s_{1}^{2}\\right) + cv_{13} \\left(- cv_{12}^{2} + s_{1}^{2} s_{2}^{2}\\right)}{\\left(- cv_{12}^{2} + s_{1}^{2} s_{2}^{2}\\right) \\left(- cv_{13}^{2} + s_{1}^{2} s_{3}^{2}\\right) - \\left(- cv_{12} cv_{13} + cv_{23} s_{1}^{2}\\right)^{2}}\\\\\\frac{- cv_{12} \\left(\\left(- cv_{12}^{2} + s_{1}^{2} s_{2}^{2}\\right) \\left(- cv_{13}^{2} + s_{1}^{2} s_{3}^{2}\\right) - \\left(- cv_{12} cv_{13} + cv_{23} s_{1}^{2}\\right)^{2}\\right) - \\left(- cv_{12} cv_{13} + cv_{23} s_{1}^{2}\\right) \\left(cv_{12} \\left(- cv_{12} cv_{13} + cv_{23} s_{1}^{2}\\right) - cv_{13} \\left(- cv_{12}^{2} + s_{1}^{2} s_{2}^{2}\\right)\\right)}{\\left(- cv_{12}^{2} + s_{1}^{2} s_{2}^{2}\\right) \\left(\\left(- cv_{12}^{2} + s_{1}^{2} s_{2}^{2}\\right) \\left(- cv_{13}^{2} + s_{1}^{2} s_{3}^{2}\\right) - \\left(- cv_{12} cv_{13} + cv_{23} s_{1}^{2}\\right)^{2}\\right)} & \\frac{s_{1}^{2} \\left(- cv_{12} cv_{13} + cv_{23} s_{1}^{2}\\right)^{2} + s_{1}^{2} \\left(\\left(- cv_{12}^{2} + s_{1}^{2} s_{2}^{2}\\right) \\left(- cv_{13}^{2} + s_{1}^{2} s_{3}^{2}\\right) - \\left(- cv_{12} cv_{13} + cv_{23} s_{1}^{2}\\right)^{2}\\right)}{\\left(- cv_{12}^{2} + s_{1}^{2} s_{2}^{2}\\right) \\left(\\left(- cv_{12}^{2} + s_{1}^{2} s_{2}^{2}\\right) \\left(- cv_{13}^{2} + s_{1}^{2} s_{3}^{2}\\right) - \\left(- cv_{12} cv_{13} + cv_{23} s_{1}^{2}\\right)^{2}\\right)} & - \\frac{s_{1}^{2} \\left(- cv_{12} cv_{13} + cv_{23} s_{1}^{2}\\right)}{\\left(- cv_{12}^{2} + s_{1}^{2} s_{2}^{2}\\right) \\left(- cv_{13}^{2} + s_{1}^{2} s_{3}^{2}\\right) - \\left(- cv_{12} cv_{13} + cv_{23} s_{1}^{2}\\right)^{2}}\\\\\\frac{cv_{12} \\left(- cv_{12} cv_{13} + cv_{23} s_{1}^{2}\\right) - cv_{13} \\left(- cv_{12}^{2} + s_{1}^{2} s_{2}^{2}\\right)}{\\left(- cv_{12}^{2} + s_{1}^{2} s_{2}^{2}\\right) \\left(- cv_{13}^{2} + s_{1}^{2} s_{3}^{2}\\right) - \\left(- cv_{12} cv_{13} + cv_{23} s_{1}^{2}\\right)^{2}} & - \\frac{s_{1}^{2} \\left(- cv_{12} cv_{13} + cv_{23} s_{1}^{2}\\right)}{\\left(- cv_{12}^{2} + s_{1}^{2} s_{2}^{2}\\right) \\left(- cv_{13}^{2} + s_{1}^{2} s_{3}^{2}\\right) - \\left(- cv_{12} cv_{13} + cv_{23} s_{1}^{2}\\right)^{2}} & \\frac{s_{1}^{2} \\left(- cv_{12}^{2} + s_{1}^{2} s_{2}^{2}\\right)}{\\left(- cv_{12}^{2} + s_{1}^{2} s_{2}^{2}\\right) \\left(- cv_{13}^{2} + s_{1}^{2} s_{3}^{2}\\right) - \\left(- cv_{12} cv_{13} + cv_{23} s_{1}^{2}\\right)^{2}}\\end{matrix}\\right]$"
     },
     "metadata": {},
     "output_type": "execute_result",
     "execution_count": 48
    }
   ],
   "source": [
    "V**(-1)"
   ]
  },
  {
   "cell_type": "markdown",
   "source": [
    "check multiply: $V \\times V^{-1}$"
   ],
   "metadata": {
    "collapsed": false,
    "pycharm": {
     "name": "#%% md\n",
     "is_executing": false
    }
   }
  },
  {
   "cell_type": "code",
   "execution_count": 49,
   "outputs": [
    {
     "data": {
      "text/plain": "Matrix([\n[s1**2,  cv12,  cv13],\n[ cv12, s2**2,  cv23],\n[ cv13,  cv23, s3**2]])*Matrix([\n[(s1**2*s2**2*((-cv12**2 + s1**2*s2**2)*(-cv13**2 + s1**2*s3**2) - (-cv12*cv13 + cv23*s1**2)**2) - (-cv12*(-cv12*cv13 + cv23*s1**2) + cv13*(-cv12**2 + s1**2*s2**2))*(cv12*(-cv12*cv13 + cv23*s1**2) - cv13*(-cv12**2 + s1**2*s2**2)))/(s1**2*(-cv12**2 + s1**2*s2**2)*((-cv12**2 + s1**2*s2**2)*(-cv13**2 + s1**2*s3**2) - (-cv12*cv13 + cv23*s1**2)**2)), (-cv12*s1**2*((-cv12**2 + s1**2*s2**2)*(-cv13**2 + s1**2*s3**2) - (-cv12*cv13 + cv23*s1**2)**2) + s1**2*(-cv12*cv13 + cv23*s1**2)*(-cv12*(-cv12*cv13 + cv23*s1**2) + cv13*(-cv12**2 + s1**2*s2**2)))/(s1**2*(-cv12**2 + s1**2*s2**2)*((-cv12**2 + s1**2*s2**2)*(-cv13**2 + s1**2*s3**2) - (-cv12*cv13 + cv23*s1**2)**2)), -(-cv12*(-cv12*cv13 + cv23*s1**2) + cv13*(-cv12**2 + s1**2*s2**2))/((-cv12**2 + s1**2*s2**2)*(-cv13**2 + s1**2*s3**2) - (-cv12*cv13 + cv23*s1**2)**2)],\n[                                                    (-cv12*((-cv12**2 + s1**2*s2**2)*(-cv13**2 + s1**2*s3**2) - (-cv12*cv13 + cv23*s1**2)**2) - (-cv12*cv13 + cv23*s1**2)*(cv12*(-cv12*cv13 + cv23*s1**2) - cv13*(-cv12**2 + s1**2*s2**2)))/((-cv12**2 + s1**2*s2**2)*((-cv12**2 + s1**2*s2**2)*(-cv13**2 + s1**2*s3**2) - (-cv12*cv13 + cv23*s1**2)**2)),                                                                            (s1**2*(-cv12*cv13 + cv23*s1**2)**2 + s1**2*((-cv12**2 + s1**2*s2**2)*(-cv13**2 + s1**2*s3**2) - (-cv12*cv13 + cv23*s1**2)**2))/((-cv12**2 + s1**2*s2**2)*((-cv12**2 + s1**2*s2**2)*(-cv13**2 + s1**2*s3**2) - (-cv12*cv13 + cv23*s1**2)**2)),                                   -s1**2*(-cv12*cv13 + cv23*s1**2)/((-cv12**2 + s1**2*s2**2)*(-cv13**2 + s1**2*s3**2) - (-cv12*cv13 + cv23*s1**2)**2)],\n[                                                                                                                                                                                                      (cv12*(-cv12*cv13 + cv23*s1**2) - cv13*(-cv12**2 + s1**2*s2**2))/((-cv12**2 + s1**2*s2**2)*(-cv13**2 + s1**2*s3**2) - (-cv12*cv13 + cv23*s1**2)**2),                                                                                                                                                                                                      -s1**2*(-cv12*cv13 + cv23*s1**2)/((-cv12**2 + s1**2*s2**2)*(-cv13**2 + s1**2*s3**2) - (-cv12*cv13 + cv23*s1**2)**2),                                     s1**2*(-cv12**2 + s1**2*s2**2)/((-cv12**2 + s1**2*s2**2)*(-cv13**2 + s1**2*s3**2) - (-cv12*cv13 + cv23*s1**2)**2)]])",
      "text/latex": "$\\displaystyle \\left[\\begin{matrix}s_{1}^{2} & cv_{12} & cv_{13}\\\\cv_{12} & s_{2}^{2} & cv_{23}\\\\cv_{13} & cv_{23} & s_{3}^{2}\\end{matrix}\\right] \\left[\\begin{matrix}\\frac{s_{1}^{2} s_{2}^{2} \\left(\\left(- cv_{12}^{2} + s_{1}^{2} s_{2}^{2}\\right) \\left(- cv_{13}^{2} + s_{1}^{2} s_{3}^{2}\\right) - \\left(- cv_{12} cv_{13} + cv_{23} s_{1}^{2}\\right)^{2}\\right) - \\left(- cv_{12} \\left(- cv_{12} cv_{13} + cv_{23} s_{1}^{2}\\right) + cv_{13} \\left(- cv_{12}^{2} + s_{1}^{2} s_{2}^{2}\\right)\\right) \\left(cv_{12} \\left(- cv_{12} cv_{13} + cv_{23} s_{1}^{2}\\right) - cv_{13} \\left(- cv_{12}^{2} + s_{1}^{2} s_{2}^{2}\\right)\\right)}{s_{1}^{2} \\left(- cv_{12}^{2} + s_{1}^{2} s_{2}^{2}\\right) \\left(\\left(- cv_{12}^{2} + s_{1}^{2} s_{2}^{2}\\right) \\left(- cv_{13}^{2} + s_{1}^{2} s_{3}^{2}\\right) - \\left(- cv_{12} cv_{13} + cv_{23} s_{1}^{2}\\right)^{2}\\right)} & \\frac{- cv_{12} s_{1}^{2} \\left(\\left(- cv_{12}^{2} + s_{1}^{2} s_{2}^{2}\\right) \\left(- cv_{13}^{2} + s_{1}^{2} s_{3}^{2}\\right) - \\left(- cv_{12} cv_{13} + cv_{23} s_{1}^{2}\\right)^{2}\\right) + s_{1}^{2} \\left(- cv_{12} cv_{13} + cv_{23} s_{1}^{2}\\right) \\left(- cv_{12} \\left(- cv_{12} cv_{13} + cv_{23} s_{1}^{2}\\right) + cv_{13} \\left(- cv_{12}^{2} + s_{1}^{2} s_{2}^{2}\\right)\\right)}{s_{1}^{2} \\left(- cv_{12}^{2} + s_{1}^{2} s_{2}^{2}\\right) \\left(\\left(- cv_{12}^{2} + s_{1}^{2} s_{2}^{2}\\right) \\left(- cv_{13}^{2} + s_{1}^{2} s_{3}^{2}\\right) - \\left(- cv_{12} cv_{13} + cv_{23} s_{1}^{2}\\right)^{2}\\right)} & - \\frac{- cv_{12} \\left(- cv_{12} cv_{13} + cv_{23} s_{1}^{2}\\right) + cv_{13} \\left(- cv_{12}^{2} + s_{1}^{2} s_{2}^{2}\\right)}{\\left(- cv_{12}^{2} + s_{1}^{2} s_{2}^{2}\\right) \\left(- cv_{13}^{2} + s_{1}^{2} s_{3}^{2}\\right) - \\left(- cv_{12} cv_{13} + cv_{23} s_{1}^{2}\\right)^{2}}\\\\\\frac{- cv_{12} \\left(\\left(- cv_{12}^{2} + s_{1}^{2} s_{2}^{2}\\right) \\left(- cv_{13}^{2} + s_{1}^{2} s_{3}^{2}\\right) - \\left(- cv_{12} cv_{13} + cv_{23} s_{1}^{2}\\right)^{2}\\right) - \\left(- cv_{12} cv_{13} + cv_{23} s_{1}^{2}\\right) \\left(cv_{12} \\left(- cv_{12} cv_{13} + cv_{23} s_{1}^{2}\\right) - cv_{13} \\left(- cv_{12}^{2} + s_{1}^{2} s_{2}^{2}\\right)\\right)}{\\left(- cv_{12}^{2} + s_{1}^{2} s_{2}^{2}\\right) \\left(\\left(- cv_{12}^{2} + s_{1}^{2} s_{2}^{2}\\right) \\left(- cv_{13}^{2} + s_{1}^{2} s_{3}^{2}\\right) - \\left(- cv_{12} cv_{13} + cv_{23} s_{1}^{2}\\right)^{2}\\right)} & \\frac{s_{1}^{2} \\left(- cv_{12} cv_{13} + cv_{23} s_{1}^{2}\\right)^{2} + s_{1}^{2} \\left(\\left(- cv_{12}^{2} + s_{1}^{2} s_{2}^{2}\\right) \\left(- cv_{13}^{2} + s_{1}^{2} s_{3}^{2}\\right) - \\left(- cv_{12} cv_{13} + cv_{23} s_{1}^{2}\\right)^{2}\\right)}{\\left(- cv_{12}^{2} + s_{1}^{2} s_{2}^{2}\\right) \\left(\\left(- cv_{12}^{2} + s_{1}^{2} s_{2}^{2}\\right) \\left(- cv_{13}^{2} + s_{1}^{2} s_{3}^{2}\\right) - \\left(- cv_{12} cv_{13} + cv_{23} s_{1}^{2}\\right)^{2}\\right)} & - \\frac{s_{1}^{2} \\left(- cv_{12} cv_{13} + cv_{23} s_{1}^{2}\\right)}{\\left(- cv_{12}^{2} + s_{1}^{2} s_{2}^{2}\\right) \\left(- cv_{13}^{2} + s_{1}^{2} s_{3}^{2}\\right) - \\left(- cv_{12} cv_{13} + cv_{23} s_{1}^{2}\\right)^{2}}\\\\\\frac{cv_{12} \\left(- cv_{12} cv_{13} + cv_{23} s_{1}^{2}\\right) - cv_{13} \\left(- cv_{12}^{2} + s_{1}^{2} s_{2}^{2}\\right)}{\\left(- cv_{12}^{2} + s_{1}^{2} s_{2}^{2}\\right) \\left(- cv_{13}^{2} + s_{1}^{2} s_{3}^{2}\\right) - \\left(- cv_{12} cv_{13} + cv_{23} s_{1}^{2}\\right)^{2}} & - \\frac{s_{1}^{2} \\left(- cv_{12} cv_{13} + cv_{23} s_{1}^{2}\\right)}{\\left(- cv_{12}^{2} + s_{1}^{2} s_{2}^{2}\\right) \\left(- cv_{13}^{2} + s_{1}^{2} s_{3}^{2}\\right) - \\left(- cv_{12} cv_{13} + cv_{23} s_{1}^{2}\\right)^{2}} & \\frac{s_{1}^{2} \\left(- cv_{12}^{2} + s_{1}^{2} s_{2}^{2}\\right)}{\\left(- cv_{12}^{2} + s_{1}^{2} s_{2}^{2}\\right) \\left(- cv_{13}^{2} + s_{1}^{2} s_{3}^{2}\\right) - \\left(- cv_{12} cv_{13} + cv_{23} s_{1}^{2}\\right)^{2}}\\end{matrix}\\right]$"
     },
     "metadata": {},
     "output_type": "execute_result",
     "execution_count": 49
    }
   ],
   "source": [
    "sym.MatMul(V, V.inv(),doit=False) "
   ],
   "metadata": {
    "collapsed": false,
    "pycharm": {
     "name": "#%%\n",
     "is_executing": false
    }
   }
  },
  {
   "cell_type": "markdown",
   "source": [
    "**=** "
   ],
   "metadata": {
    "collapsed": false,
    "pycharm": {
     "name": "#%% md\n"
    }
   }
  },
  {
   "cell_type": "code",
   "execution_count": 50,
   "outputs": [
    {
     "data": {
      "text/plain": "Matrix([\n[1, 0, 0],\n[0, 1, 0],\n[0, 0, 1]])",
      "text/latex": "$\\displaystyle \\left[\\begin{matrix}1 & 0 & 0\\\\0 & 1 & 0\\\\0 & 0 & 1\\end{matrix}\\right]$"
     },
     "metadata": {},
     "output_type": "execute_result",
     "execution_count": 50
    }
   ],
   "source": [
    "sym.simplify(V @ V.inv())"
   ],
   "metadata": {
    "collapsed": false,
    "pycharm": {
     "name": "#%%\n",
     "is_executing": false
    }
   }
  },
  {
   "cell_type": "code",
   "execution_count": null,
   "metadata": {
    "pycharm": {
     "is_executing": false
    }
   },
   "outputs": [],
   "source": [
    "#sym.ask(sym.Q.symmetric(V.inv())) # only avaulable in SageMath/Cocalc?"
   ]
  },
  {
   "cell_type": "code",
   "execution_count": null,
   "metadata": {
    "pycharm": {
     "is_executing": false
    }
   },
   "outputs": [],
   "source": [
    "vi00,vi11,vi22, vi01,vi02,vi12 = sym.symbols('vi00, vi11, vi22, vi01, vi02, vi12')\n",
    "Vi = sym.Matrix([[vi00, vi01, vi02],\n",
    "                 [vi01, vi11, vi12],\n",
    "                 [vi02, vi12, vi22]])\n",
    "Vi"
   ]
  },
  {
   "cell_type": "markdown",
   "source": [
    "returns: $E$ ="
   ],
   "metadata": {
    "collapsed": false,
    "pycharm": {
     "name": "#%% md\n"
    }
   }
  },
  {
   "cell_type": "code",
   "execution_count": 55,
   "metadata": {
    "pycharm": {
     "is_executing": false
    }
   },
   "outputs": [
    {
     "data": {
      "text/plain": "Matrix([[r0, r1, r2]])",
      "text/latex": "$\\displaystyle \\left[\\begin{matrix}r_{0} & r_{1} & r_{2}\\end{matrix}\\right]$"
     },
     "metadata": {},
     "output_type": "execute_result",
     "execution_count": 55
    }
   ],
   "source": [
    "E = sym.Matrix([r0,r1,r2]).T\n",
    "E"
   ]
  },
  {
   "cell_type": "markdown",
   "metadata": {},
   "source": [
    "$$ A = \\mathbf{1}^T V^{-1} e = e^T V^{-1}\\mathbf{1} =$$"
   ]
  },
  {
   "cell_type": "code",
   "execution_count": 59,
   "metadata": {
    "pycharm": {
     "is_executing": false
    }
   },
   "outputs": [
    {
     "data": {
      "text/plain": "Matrix([[r0*((cv12*(-cv12*cv13 + cv23*s1**2) - cv13*(-cv12**2 + s1**2*s2**2))/((-cv12**2 + s1**2*s2**2)*(-cv13**2 + s1**2*s3**2) - (-cv12*cv13 + cv23*s1**2)**2) + (-cv12*((-cv12**2 + s1**2*s2**2)*(-cv13**2 + s1**2*s3**2) - (-cv12*cv13 + cv23*s1**2)**2) - (-cv12*cv13 + cv23*s1**2)*(cv12*(-cv12*cv13 + cv23*s1**2) - cv13*(-cv12**2 + s1**2*s2**2)))/((-cv12**2 + s1**2*s2**2)*((-cv12**2 + s1**2*s2**2)*(-cv13**2 + s1**2*s3**2) - (-cv12*cv13 + cv23*s1**2)**2)) + (s1**2*s2**2*((-cv12**2 + s1**2*s2**2)*(-cv13**2 + s1**2*s3**2) - (-cv12*cv13 + cv23*s1**2)**2) - (-cv12*(-cv12*cv13 + cv23*s1**2) + cv13*(-cv12**2 + s1**2*s2**2))*(cv12*(-cv12*cv13 + cv23*s1**2) - cv13*(-cv12**2 + s1**2*s2**2)))/(s1**2*(-cv12**2 + s1**2*s2**2)*((-cv12**2 + s1**2*s2**2)*(-cv13**2 + s1**2*s3**2) - (-cv12*cv13 + cv23*s1**2)**2))) + r1*(-s1**2*(-cv12*cv13 + cv23*s1**2)/((-cv12**2 + s1**2*s2**2)*(-cv13**2 + s1**2*s3**2) - (-cv12*cv13 + cv23*s1**2)**2) + (s1**2*(-cv12*cv13 + cv23*s1**2)**2 + s1**2*((-cv12**2 + s1**2*s2**2)*(-cv13**2 + s1**2*s3**2) - (-cv12*cv13 + cv23*s1**2)**2))/((-cv12**2 + s1**2*s2**2)*((-cv12**2 + s1**2*s2**2)*(-cv13**2 + s1**2*s3**2) - (-cv12*cv13 + cv23*s1**2)**2)) + (-cv12*s1**2*((-cv12**2 + s1**2*s2**2)*(-cv13**2 + s1**2*s3**2) - (-cv12*cv13 + cv23*s1**2)**2) + s1**2*(-cv12*cv13 + cv23*s1**2)*(-cv12*(-cv12*cv13 + cv23*s1**2) + cv13*(-cv12**2 + s1**2*s2**2)))/(s1**2*(-cv12**2 + s1**2*s2**2)*((-cv12**2 + s1**2*s2**2)*(-cv13**2 + s1**2*s3**2) - (-cv12*cv13 + cv23*s1**2)**2))) + r2*(s1**2*(-cv12**2 + s1**2*s2**2)/((-cv12**2 + s1**2*s2**2)*(-cv13**2 + s1**2*s3**2) - (-cv12*cv13 + cv23*s1**2)**2) - s1**2*(-cv12*cv13 + cv23*s1**2)/((-cv12**2 + s1**2*s2**2)*(-cv13**2 + s1**2*s3**2) - (-cv12*cv13 + cv23*s1**2)**2) - (-cv12*(-cv12*cv13 + cv23*s1**2) + cv13*(-cv12**2 + s1**2*s2**2))/((-cv12**2 + s1**2*s2**2)*(-cv13**2 + s1**2*s3**2) - (-cv12*cv13 + cv23*s1**2)**2))]])",
      "text/latex": "$\\displaystyle \\left[\\begin{matrix}r_{0} \\left(\\frac{cv_{12} \\left(- cv_{12} cv_{13} + cv_{23} s_{1}^{2}\\right) - cv_{13} \\left(- cv_{12}^{2} + s_{1}^{2} s_{2}^{2}\\right)}{\\left(- cv_{12}^{2} + s_{1}^{2} s_{2}^{2}\\right) \\left(- cv_{13}^{2} + s_{1}^{2} s_{3}^{2}\\right) - \\left(- cv_{12} cv_{13} + cv_{23} s_{1}^{2}\\right)^{2}} + \\frac{- cv_{12} \\left(\\left(- cv_{12}^{2} + s_{1}^{2} s_{2}^{2}\\right) \\left(- cv_{13}^{2} + s_{1}^{2} s_{3}^{2}\\right) - \\left(- cv_{12} cv_{13} + cv_{23} s_{1}^{2}\\right)^{2}\\right) - \\left(- cv_{12} cv_{13} + cv_{23} s_{1}^{2}\\right) \\left(cv_{12} \\left(- cv_{12} cv_{13} + cv_{23} s_{1}^{2}\\right) - cv_{13} \\left(- cv_{12}^{2} + s_{1}^{2} s_{2}^{2}\\right)\\right)}{\\left(- cv_{12}^{2} + s_{1}^{2} s_{2}^{2}\\right) \\left(\\left(- cv_{12}^{2} + s_{1}^{2} s_{2}^{2}\\right) \\left(- cv_{13}^{2} + s_{1}^{2} s_{3}^{2}\\right) - \\left(- cv_{12} cv_{13} + cv_{23} s_{1}^{2}\\right)^{2}\\right)} + \\frac{s_{1}^{2} s_{2}^{2} \\left(\\left(- cv_{12}^{2} + s_{1}^{2} s_{2}^{2}\\right) \\left(- cv_{13}^{2} + s_{1}^{2} s_{3}^{2}\\right) - \\left(- cv_{12} cv_{13} + cv_{23} s_{1}^{2}\\right)^{2}\\right) - \\left(- cv_{12} \\left(- cv_{12} cv_{13} + cv_{23} s_{1}^{2}\\right) + cv_{13} \\left(- cv_{12}^{2} + s_{1}^{2} s_{2}^{2}\\right)\\right) \\left(cv_{12} \\left(- cv_{12} cv_{13} + cv_{23} s_{1}^{2}\\right) - cv_{13} \\left(- cv_{12}^{2} + s_{1}^{2} s_{2}^{2}\\right)\\right)}{s_{1}^{2} \\left(- cv_{12}^{2} + s_{1}^{2} s_{2}^{2}\\right) \\left(\\left(- cv_{12}^{2} + s_{1}^{2} s_{2}^{2}\\right) \\left(- cv_{13}^{2} + s_{1}^{2} s_{3}^{2}\\right) - \\left(- cv_{12} cv_{13} + cv_{23} s_{1}^{2}\\right)^{2}\\right)}\\right) + r_{1} \\left(- \\frac{s_{1}^{2} \\left(- cv_{12} cv_{13} + cv_{23} s_{1}^{2}\\right)}{\\left(- cv_{12}^{2} + s_{1}^{2} s_{2}^{2}\\right) \\left(- cv_{13}^{2} + s_{1}^{2} s_{3}^{2}\\right) - \\left(- cv_{12} cv_{13} + cv_{23} s_{1}^{2}\\right)^{2}} + \\frac{s_{1}^{2} \\left(- cv_{12} cv_{13} + cv_{23} s_{1}^{2}\\right)^{2} + s_{1}^{2} \\left(\\left(- cv_{12}^{2} + s_{1}^{2} s_{2}^{2}\\right) \\left(- cv_{13}^{2} + s_{1}^{2} s_{3}^{2}\\right) - \\left(- cv_{12} cv_{13} + cv_{23} s_{1}^{2}\\right)^{2}\\right)}{\\left(- cv_{12}^{2} + s_{1}^{2} s_{2}^{2}\\right) \\left(\\left(- cv_{12}^{2} + s_{1}^{2} s_{2}^{2}\\right) \\left(- cv_{13}^{2} + s_{1}^{2} s_{3}^{2}\\right) - \\left(- cv_{12} cv_{13} + cv_{23} s_{1}^{2}\\right)^{2}\\right)} + \\frac{- cv_{12} s_{1}^{2} \\left(\\left(- cv_{12}^{2} + s_{1}^{2} s_{2}^{2}\\right) \\left(- cv_{13}^{2} + s_{1}^{2} s_{3}^{2}\\right) - \\left(- cv_{12} cv_{13} + cv_{23} s_{1}^{2}\\right)^{2}\\right) + s_{1}^{2} \\left(- cv_{12} cv_{13} + cv_{23} s_{1}^{2}\\right) \\left(- cv_{12} \\left(- cv_{12} cv_{13} + cv_{23} s_{1}^{2}\\right) + cv_{13} \\left(- cv_{12}^{2} + s_{1}^{2} s_{2}^{2}\\right)\\right)}{s_{1}^{2} \\left(- cv_{12}^{2} + s_{1}^{2} s_{2}^{2}\\right) \\left(\\left(- cv_{12}^{2} + s_{1}^{2} s_{2}^{2}\\right) \\left(- cv_{13}^{2} + s_{1}^{2} s_{3}^{2}\\right) - \\left(- cv_{12} cv_{13} + cv_{23} s_{1}^{2}\\right)^{2}\\right)}\\right) + r_{2} \\left(\\frac{s_{1}^{2} \\left(- cv_{12}^{2} + s_{1}^{2} s_{2}^{2}\\right)}{\\left(- cv_{12}^{2} + s_{1}^{2} s_{2}^{2}\\right) \\left(- cv_{13}^{2} + s_{1}^{2} s_{3}^{2}\\right) - \\left(- cv_{12} cv_{13} + cv_{23} s_{1}^{2}\\right)^{2}} - \\frac{s_{1}^{2} \\left(- cv_{12} cv_{13} + cv_{23} s_{1}^{2}\\right)}{\\left(- cv_{12}^{2} + s_{1}^{2} s_{2}^{2}\\right) \\left(- cv_{13}^{2} + s_{1}^{2} s_{3}^{2}\\right) - \\left(- cv_{12} cv_{13} + cv_{23} s_{1}^{2}\\right)^{2}} - \\frac{- cv_{12} \\left(- cv_{12} cv_{13} + cv_{23} s_{1}^{2}\\right) + cv_{13} \\left(- cv_{12}^{2} + s_{1}^{2} s_{2}^{2}\\right)}{\\left(- cv_{12}^{2} + s_{1}^{2} s_{2}^{2}\\right) \\left(- cv_{13}^{2} + s_{1}^{2} s_{3}^{2}\\right) - \\left(- cv_{12} cv_{13} + cv_{23} s_{1}^{2}\\right)^{2}}\\right)\\end{matrix}\\right]$"
     },
     "metadata": {},
     "output_type": "execute_result",
     "execution_count": 59
    }
   ],
   "source": [
    "#A = ones3.T @ Vi.inv() # @ E.T\n",
    "ws['ones3'].T @ V.inv() @ E.T "
   ]
  },
  {
   "cell_type": "markdown",
   "metadata": {},
   "source": [
    "$ B = e^T V^{-1} e =$"
   ]
  },
  {
   "cell_type": "code",
   "execution_count": null,
   "metadata": {
    "pycharm": {
     "is_executing": false
    }
   },
   "outputs": [],
   "source": [
    "# B\n",
    "B = (E.T * Vi * E)\n",
    "B"
   ]
  },
  {
   "cell_type": "markdown",
   "metadata": {},
   "source": [
    "$$ C = \\mathbf{1}^T V^{-1} \\mathbf{1} = $$"
   ]
  },
  {
   "cell_type": "code",
   "execution_count": null,
   "metadata": {
    "pycharm": {
     "is_executing": false
    }
   },
   "outputs": [],
   "source": [
    "# C\n",
    "C = (ones3.T * Vi * ones3)[0,0]; C"
   ]
  },
  {
   "cell_type": "markdown",
   "metadata": {},
   "source": [
    "$ D = BC - A**2  $"
   ]
  },
  {
   "cell_type": "code",
   "execution_count": null,
   "metadata": {
    "pycharm": {
     "is_executing": false
    }
   },
   "outputs": [],
   "source": [
    "# D\n",
    "D = (B*C - A**2); D"
   ]
  },
  {
   "cell_type": "code",
   "execution_count": null,
   "metadata": {
    "pycharm": {
     "is_executing": false
    }
   },
   "outputs": [],
   "source": [
    "fsigmaSymb(u) = sqrt(D+(u*C-A)^2/(C*D)); fsigmaSymb"
   ]
  },
  {
   "cell_type": "code",
   "execution_count": null,
   "metadata": {
    "pycharm": {
     "is_executing": false
    }
   },
   "outputs": [],
   "source": [
    "fmuSymb(s) =  ( sqrt(D*(C*s^2-1)) + A) / C; fmuSymb"
   ]
  },
  {
   "cell_type": "markdown",
   "metadata": {},
   "source": [
    "\\begin{align}\n",
    "\\mbox{vi}_{00} + 2 \\,\n",
    "\\mbox{vi}_{01} + 2 \\, \n",
    "\\mbox{vi}_{02} + \n",
    "\\mbox{vi}_{11} + 2 \\, \n",
    "\\mbox{vi}_{12} + \n",
    "\\mbox{vi}_{22}\n",
    "\\end{align}"
   ]
  },
  {
   "cell_type": "code",
   "execution_count": null,
   "metadata": {
    "pycharm": {
     "name": "#%%\n",
     "is_executing": false
    }
   },
   "outputs": [],
   "source": [
    "fmuSymb.diff(s)\n",
    "\n",
    "\n"
   ]
  }
 ],
 "metadata": {
  "jupytext": {
   "formats": "ipynb,py:percent"
  },
  "kernelspec": {
   "display_name": "Python 3",
   "language": "python",
   "name": "python3"
  },
  "language_info": {
   "codemirror_mode": {
    "name": "ipython",
    "version": 3
   },
   "file_extension": ".py",
   "mimetype": "text/x-python",
   "name": "python",
   "nbconvert_exporter": "python",
   "pygments_lexer": "ipython3",
   "version": "3.8.0"
  }
 },
 "nbformat": 4,
 "nbformat_minor": 1
}